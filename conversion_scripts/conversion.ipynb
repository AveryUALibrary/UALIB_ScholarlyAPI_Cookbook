{
 "cells": [
  {
   "cell_type": "code",
   "execution_count": 25,
   "metadata": {},
   "outputs": [],
   "source": [
    "import subprocess\n",
    "def convert_rmd_to_md_using_pandoc(input_file, output_file):\n",
    "    command = f\"pandoc -s {input_file} -o {output_file} --from markdown --to gfm\"\n",
    "    subprocess.run(command, shell=True, check=True)\n",
    "\n"
   ]
  },
  {
   "cell_type": "code",
   "execution_count": 26,
   "metadata": {},
   "outputs": [],
   "source": [
    "def convert_rst_to_md(input_file, output_file):\n",
    "    command = f\"pandoc -s {input_file} -o {output_file}\"\n",
    "    subprocess.run(command, shell=True, check=True)"
   ]
  },
  {
   "cell_type": "code",
   "execution_count": 36,
   "metadata": {},
   "outputs": [],
   "source": [
    "def convert_to_md(input_file, output_file):\n",
    "    file_extension = input_file.split(\".\")[-1]\n",
    "    \n",
    "    if file_extension == \"rmd\" or file_extension == \"Rmd\":\n",
    "        print(\"Converting Rmd to md using pandoc\")\n",
    "        print(f\"Input file: {input_file}\", f\"Output file: {output_file}\", sep=\"\\n\")\n",
    "        convert_rmd_to_md_using_pandoc(input_file, output_file)\n",
    "    elif file_extension == \"rst\":\n",
    "        convert_rst_to_md(input_file, output_file)\n",
    "    else:\n",
    "        raise ValueError(f\"Unsupported file extension: {file_extension}\")"
   ]
  },
  {
   "cell_type": "code",
   "execution_count": 41,
   "metadata": {},
   "outputs": [
    {
     "name": "stdout",
     "output_type": "stream",
     "text": [
      "Converting Rmd to md using pandoc\n",
      "Input file: raw/R_WorldBank.Rmd\n",
      "Output file: converted/R_WorldBank.md\n",
      "Converting Rmd to md using pandoc\n",
      "Input file: raw/R_PubMed.rmd\n",
      "Output file: converted/R_PubMed.md\n",
      "Converting Rmd to md using pandoc\n",
      "Input file: raw/R_Crossref.Rmd\n",
      "Output file: converted/R_Crossref.md\n",
      "Converting Rmd to md using pandoc\n",
      "Input file: raw/R_US_Census.Rmd\n",
      "Output file: converted/R_US_Census.md\n",
      "Converting Rmd to md using pandoc\n",
      "Input file: raw/R_CASCommon.Rmd\n",
      "Output file: converted/R_CASCommon.md\n",
      "Converting Rmd to md using pandoc\n",
      "Input file: raw/R_Chronam.Rmd\n",
      "Output file: converted/R_Chronam.md\n",
      "Converting Rmd to md using pandoc\n",
      "Input file: raw/R_Pubchem.Rmd\n",
      "Output file: converted/R_Pubchem.md\n"
     ]
    }
   ],
   "source": [
    "import os\n",
    "raw_folder = \"raw\"\n",
    "converted_folder = \"converted\"\n",
    "os.makedirs(converted_folder, exist_ok=True)\n",
    "\n",
    "for filename in os.listdir(raw_folder):\n",
    "    input_file = os.path.join(raw_folder, filename)\n",
    "    file_extension = filename.split(\".\")[-1]\n",
    "    \n",
    "    # Check if the file has a supported extension\n",
    "    if file_extension in [\"rmd\", \"rst\", \"Rmd\"]:\n",
    "        # Create the output file path\n",
    "        output_file = os.path.join(converted_folder, filename.replace(file_extension, \"md\"))\n",
    "        \n",
    "        # Convert the file\n",
    "        convert_to_md(input_file, output_file)\n",
    "    else:\n",
    "        print(f\"Skipping unsupported file: {filename}\")"
   ]
  },
  {
   "cell_type": "code",
   "execution_count": null,
   "metadata": {},
   "outputs": [],
   "source": []
  }
 ],
 "metadata": {
  "kernelspec": {
   "display_name": "Python 3",
   "language": "python",
   "name": "python3"
  },
  "language_info": {
   "codemirror_mode": {
    "name": "ipython",
    "version": 3
   },
   "file_extension": ".py",
   "mimetype": "text/x-python",
   "name": "python",
   "nbconvert_exporter": "python",
   "pygments_lexer": "ipython3",
   "version": "3.11.2"
  },
  "orig_nbformat": 4
 },
 "nbformat": 4,
 "nbformat_minor": 2
}
