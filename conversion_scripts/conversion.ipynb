{
 "cells": [
  {
   "cell_type": "code",
   "execution_count": 1,
   "metadata": {},
   "outputs": [],
   "source": [
    "import subprocess\n",
    "def convert_rmd_to_md(input_file, output_file):\n",
    "    command = f\"Rscript -e \\\"knitr::knit('{input_file}', '{output_file}')\\\"\"\n",
    "    subprocess.run(command, shell=True, check=True)\n",
    "\n"
   ]
  },
  {
   "cell_type": "code",
   "execution_count": 2,
   "metadata": {},
   "outputs": [],
   "source": [
    "def convert_rst_to_md(input_file, output_file):\n",
    "    command = f\"pandoc -s {input_file} -o {output_file}\"\n",
    "    subprocess.run(command, shell=True, check=True)"
   ]
  },
  {
   "cell_type": "code",
   "execution_count": 3,
   "metadata": {},
   "outputs": [],
   "source": [
    "def convert_to_md(input_file, output_file):\n",
    "    file_extension = input_file.split(\".\")[-1]\n",
    "    \n",
    "    if file_extension == \"rmd\" or file_extension == \"Rmd\":\n",
    "        print(\"Converting Rmd to md using pandoc\")\n",
    "        print(f\"Input file: {input_file}\", f\"Output file: {output_file}\", sep=\"\\n\")\n",
    "        convert_rmd_to_md(input_file, output_file)\n",
    "    else:\n",
    "        raise ValueError(f\"Unsupported file extension: {file_extension}\")"
   ]
  },
  {
   "cell_type": "code",
   "execution_count": 4,
   "metadata": {},
   "outputs": [
    {
     "name": "stdout",
     "output_type": "stream",
     "text": [
      "Converting Rmd to md using pandoc\n",
      "Input file: raw/R_WorldBank.Rmd\n",
      "Output file: converted/R_WorldBank.md\n",
      "  |...                                                |   6% (unnamed-chunk-1) "
     ]
    },
    {
     "name": "stderr",
     "output_type": "stream",
     "text": [
      "\n",
      "\n",
      "processing file: raw/R_WorldBank.Rmd\n"
     ]
    },
    {
     "name": "stdout",
     "output_type": "stream",
     "text": [
      "                                                                                                             \n",
      "[1] \"converted/R_WorldBank.md\"\n",
      "Converting Rmd to md using pandoc\n",
      "Input file: raw/R_PubMed.rmd\n",
      "Output file: converted/R_PubMed.md\n",
      "  |..........                                      |  21% (example_query)      "
     ]
    },
    {
     "name": "stderr",
     "output_type": "stream",
     "text": [
      "output file: converted/R_WorldBank.md\n",
      "\n",
      "\n",
      "\n",
      "processing file: raw/R_PubMed.rmd\n"
     ]
    },
    {
     "name": "stdout",
     "output_type": "stream",
     "text": [
      "                                                                                                                \n",
      "[1] \"converted/R_PubMed.md\"\n",
      "Converting Rmd to md using pandoc\n",
      "Input file: raw/R_Crossref.Rmd\n",
      "Output file: converted/R_Crossref.md\n",
      "  |..                                                 |   4% (unnamed-chunk-1) "
     ]
    },
    {
     "name": "stderr",
     "output_type": "stream",
     "text": [
      "output file: converted/R_PubMed.md\n",
      "\n",
      "\n",
      "\n",
      "processing file: raw/R_Crossref.Rmd\n"
     ]
    },
    {
     "name": "stdout",
     "output_type": "stream",
     "text": [
      "                                                                                                             \n",
      "[1] \"converted/R_Crossref.md\"\n",
      "Converting Rmd to md using pandoc\n",
      "Input file: raw/R_US_Census.Rmd\n",
      "Output file: converted/R_US_Census.md\n"
     ]
    },
    {
     "name": "stderr",
     "output_type": "stream",
     "text": [
      "output file: converted/R_Crossref.md\n",
      "\n",
      "\n",
      "\n",
      "processing file: raw/R_US_Census.Rmd\n"
     ]
    },
    {
     "name": "stdout",
     "output_type": "stream",
     "text": [
      "                                                                                                          \n",
      "[1] \"converted/R_US_Census.md\"\n",
      "Converting Rmd to md using pandoc\n",
      "Input file: raw/R_CASCommon.Rmd\n",
      "Output file: converted/R_CASCommon.md\n"
     ]
    },
    {
     "name": "stderr",
     "output_type": "stream",
     "text": [
      "output file: converted/R_US_Census.md\n",
      "\n",
      "\n",
      "\n",
      "processing file: raw/R_CASCommon.Rmd\n"
     ]
    },
    {
     "name": "stdout",
     "output_type": "stream",
     "text": [
      "                                                                                                             \n",
      "[1] \"converted/R_CASCommon.md\"\n",
      "Converting Rmd to md using pandoc\n",
      "Input file: raw/R_Chronam copy.Rmd\n",
      "Output file: converted/R_Chronam copy.md\n"
     ]
    },
    {
     "name": "stderr",
     "output_type": "stream",
     "text": [
      "output file: converted/R_CASCommon.md\n",
      "\n",
      "\n",
      "\n",
      "processing file: raw/R_Chronam copy.Rmd\n"
     ]
    },
    {
     "name": "stdout",
     "output_type": "stream",
     "text": [
      "  |................                                   |  32% (unnamed-chunk-7) "
     ]
    },
    {
     "name": "stderr",
     "output_type": "stream",
     "text": [
      "trying URL 'https://chroniclingamerica.loc.gov/lccn/sn83045462/1961-11-19/ed-1/seq-182.pdf'\n",
      "Content type 'application/pdf' length 1312360 bytes (1.3 MB)\n",
      "==================================================\n",
      "downloaded 1.3 MB\n",
      "\n"
     ]
    },
    {
     "name": "stdout",
     "output_type": "stream",
     "text": [
      "                                                                                                             \n",
      "[1] \"converted/R_Chronam copy.md\"\n",
      "Converting Rmd to md using pandoc\n",
      "Input file: raw/R_Chronam.Rmd\n",
      "Output file: converted/R_Chronam.md\n"
     ]
    },
    {
     "name": "stderr",
     "output_type": "stream",
     "text": [
      "output file: converted/R_Chronam copy.md\n",
      "\n",
      "\n",
      "\n",
      "processing file: raw/R_Chronam.Rmd\n"
     ]
    },
    {
     "name": "stdout",
     "output_type": "stream",
     "text": [
      "  |...................                                |  36% (unnamed-chunk-8) "
     ]
    },
    {
     "name": "stderr",
     "output_type": "stream",
     "text": [
      "trying URL 'https://chroniclingamerica.loc.gov/lccn/sn83045462/1961-11-19/ed-1/seq-182.pdf'\n"
     ]
    },
    {
     "name": "stdout",
     "output_type": "stream",
     "text": [
      "                                                                                                             \n",
      "[1] \"converted/R_Chronam.md\"\n",
      "Converting Rmd to md using pandoc\n",
      "Input file: raw/R_Pubchem copy.Rmd\n",
      "Output file: converted/R_Pubchem copy.md\n"
     ]
    },
    {
     "name": "stderr",
     "output_type": "stream",
     "text": [
      "output file: converted/R_Chronam.md\n",
      "\n",
      "\n",
      "\n",
      "processing file: raw/R_Pubchem copy.Rmd\n"
     ]
    },
    {
     "name": "stdout",
     "output_type": "stream",
     "text": [
      "                                                                                                             \n",
      "[1] \"converted/R_Pubchem copy.md\"\n",
      "Converting Rmd to md using pandoc\n",
      "Input file: raw/R_Pubchem.Rmd\n",
      "Output file: converted/R_Pubchem.md\n"
     ]
    },
    {
     "name": "stderr",
     "output_type": "stream",
     "text": [
      "output file: converted/R_Pubchem copy.md\n",
      "\n",
      "\n",
      "\n",
      "processing file: raw/R_Pubchem.Rmd\n"
     ]
    },
    {
     "name": "stdout",
     "output_type": "stream",
     "text": [
      "                                                                                                             \n",
      "[1] \"converted/R_Pubchem.md\"\n"
     ]
    },
    {
     "name": "stderr",
     "output_type": "stream",
     "text": [
      "output file: converted/R_Pubchem.md\n",
      "\n"
     ]
    }
   ],
   "source": [
    "import os\n",
    "raw_folder = \"raw\"\n",
    "converted_folder = \"converted\"\n",
    "os.makedirs(converted_folder, exist_ok=True)\n",
    "\n",
    "for filename in os.listdir(raw_folder):\n",
    "    input_file = os.path.join(raw_folder, filename)\n",
    "    file_extension = filename.split(\".\")[-1]\n",
    "    \n",
    "    # Check if the file has a supported extension\n",
    "    if file_extension in [\"rmd\", \"Rmd\"]:\n",
    "        # Create the output file path\n",
    "        output_file = os.path.join(converted_folder, filename.replace(file_extension, \"md\"))\n",
    "        \n",
    "        # Convert the file\n",
    "        convert_to_md(input_file, output_file)\n",
    "    else:\n",
    "        print(f\"Skipping unsupported file: {filename}\")"
   ]
  },
  {
   "cell_type": "code",
   "execution_count": null,
   "metadata": {},
   "outputs": [],
   "source": []
  }
 ],
 "metadata": {
  "kernelspec": {
   "display_name": "Python 3",
   "language": "python",
   "name": "python3"
  },
  "language_info": {
   "codemirror_mode": {
    "name": "ipython",
    "version": 3
   },
   "file_extension": ".py",
   "mimetype": "text/x-python",
   "name": "python",
   "nbconvert_exporter": "python",
   "pygments_lexer": "ipython3",
   "version": "3.11.2"
  },
  "orig_nbformat": 4
 },
 "nbformat": 4,
 "nbformat_minor": 2
}
