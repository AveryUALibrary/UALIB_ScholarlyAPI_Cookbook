{
 "cells": [
  {
   "cell_type": "markdown",
   "metadata": {},
   "source": [
    "# ...in C"
   ]
  },
  {
   "cell_type": "markdown",
   "metadata": {
    "pycharm": {
     "name": "#%% md\n"
    }
   },
   "source": [
    "## PubMed API in C\n",
    "\n",
    "by Cyrus Gomes and Dr. Vincent Scalfani\n",
    "\n",
    "These recipe examples were tested on July 25, 2023.\n",
    "\n",
    "**NCBI Entrez Programming Utilities documentation:** https://www.ncbi.nlm.nih.gov/books/NBK25501/\n",
    "\n",
    "**Please see NCBI's Data Usage Policies and Disclaimers:** https://www.ncbi.nlm.nih.gov/home/about/policies/"
   ]
  },
  {
   "cell_type": "markdown",
   "metadata": {
    "id": "c09M9YME1Yny"
   },
   "source": [
    "### Setup"
   ]
  },
  {
   "cell_type": "markdown",
   "metadata": {
    "id": "S74qQhZV1Ynz"
   },
   "source": [
    "First, install the CURL and jq package by typing the following command in the terminal:"
   ]
  },
  {
   "cell_type": "code",
   "execution_count": null,
   "metadata": {},
   "outputs": [],
   "source": [
    "!sudo apt install curl jq libcurl4-openssl-dev"
   ]
  },
  {
   "cell_type": "markdown",
   "metadata": {},
   "source": [
    "First we set a directory where we want the PubMed directory for our projects to be created "
   ]
  },
  {
   "cell_type": "code",
   "execution_count": 1,
   "metadata": {},
   "outputs": [],
   "source": [
    "!mkdir PubMed"
   ]
  },
  {
   "cell_type": "markdown",
   "metadata": {},
   "source": [
    "We change the directory to the folder we created"
   ]
  },
  {
   "cell_type": "code",
   "execution_count": null,
   "metadata": {},
   "outputs": [],
   "source": [
    "%cd PubMed"
   ]
  },
  {
   "cell_type": "markdown",
   "metadata": {
    "id": "DqUjAIV_Xkhf"
   },
   "source": [
    "\n",
    "### 1. Basic PubMed API call"
   ]
  },
  {
   "cell_type": "markdown",
   "metadata": {},
   "source": [
    "We initialize a folder for the current project that we are working on. And then change to that directory"
   ]
  },
  {
   "cell_type": "code",
   "execution_count": 3,
   "metadata": {},
   "outputs": [],
   "source": [
    "!mkdir basic_api_call"
   ]
  },
  {
   "cell_type": "code",
   "execution_count": null,
   "metadata": {},
   "outputs": [],
   "source": [
    "%cd basic_api_call"
   ]
  },
  {
   "cell_type": "markdown",
   "metadata": {},
   "source": [
    "Then we utilize the following command (%%file) to create the following makefile which will compile our program and create an executable."
   ]
  },
  {
   "cell_type": "code",
   "execution_count": null,
   "metadata": {},
   "outputs": [],
   "source": [
    "%%file makefile\n",
    "\n",
    "#sets the variable CC to gcc, which is used to build the program\n",
    "CC=gcc\n",
    "\n",
    "#enable debugging information and enable all compiler warnings\n",
    "CFLAGS=-g -Wall\n",
    "\n",
    "#sets the bin variable as the name of the binary file we are creating\n",
    "BIN=api_call\n",
    "\n",
    "#creates the binary file with the name we put\n",
    "all: $(BIN)\n",
    "\n",
    "#maps any file ending in .c to a binary executable. \n",
    "#\"$<\" represents the .c file and \"$@\" represents the target binary executable\n",
    "%: %.c\n",
    "\n",
    "#compiles the .c file using the gcc compiler with the CFLAGS and links \n",
    "#resulting binary with the CURL library\n",
    "\t$(CC) $(CFLAGS) $< -o $@ -lcurl\n",
    "\n",
    "#clean target which removes specific files\n",
    "clean:\n",
    "\n",
    "#removes the binary file and an \".dSYM\" (debug symbols for debugging) directories\n",
    "#the RM command used -r to remove directories and -f to force delete\n",
    "\t$(RM) -rf $(BIN) *.dSYM\n"
   ]
  },
  {
   "cell_type": "markdown",
   "metadata": {},
   "source": [
    "The command is used again to create our .c file which contains the code for the program"
   ]
  },
  {
   "cell_type": "code",
   "execution_count": null,
   "metadata": {},
   "outputs": [],
   "source": [
    "%%file api_call.c\n",
    "\n",
    "#include <curl/curl.h>\n",
    "#include <stdio.h>\n",
    "#include <stdlib.h>\n",
    "#include <string.h>\n",
    "\n",
    "/*CURL program that retrieves JSON data from the Pub Chem API\n",
    "This program allows custom indicator data set to be used*/\n",
    "\n",
    "\n",
    "/* We are going to be inputting the custom ID like this: ./api_call -i 42342346\n",
    "If the arguments are missing then we use the default: \"27933103\"\n",
    "*/\n",
    "\n",
    "int main (int argc, char* argv[]){\n",
    "    \n",
    "    //if arguments are invalid just return\n",
    "    if (argc > 5){                                                                                      \n",
    "        printf(\"Error. Please try again correctly.\\n\");\n",
    "        return -1;\n",
    "    }\n",
    "\n",
    "    //default indicator code\n",
    "    char indicator[100] = {}; \n",
    "\n",
    "    //if there is ./api_call or -i\n",
    "    if ((argc == 1) || ((argc == 2) && ((strcmp(argv[1], \"-i\")==0)))){\n",
    "        //these arguments run the default parameters and keeps the codes as they are\n",
    "        strcat(indicator, \"27933103\");\n",
    "    }\n",
    "\n",
    "    //if there is ./api_call -i 34813985\n",
    "    else if ((argc == 3) && (strcmp(argv[1], \"-i\")==0)){\n",
    "        //only the country code is changed\n",
    "        strcat(indicator, argv[2]);\n",
    "    }\n",
    "\n",
    "    else{\n",
    "        printf(\"usage: ./api_call [-i] indicator\\n\\n\");\n",
    "        printf(\"the custom_ID program is used to retrieve json data from the Pub Med API\\n\\n\");\n",
    "        printf(\"optional arguments\\n\");\n",
    "        printf(\"\\t -i ID    optional custom PubMed ID; default is '27933103'\\n\");\n",
    "        return -1;\n",
    "    }\n",
    "\n",
    "    //initializes the CURL HTTP connection\n",
    "    CURL *curl = curl_easy_init();\n",
    "\n",
    "    //bits of the url that are joined together later\n",
    "    char api[] = \"https://eutils.ncbi.nlm.nih.gov/entrez/eutils/esummary.fcgi?db=pubmed&\";                                                                     \n",
    "    char type1[] = \"id=\";                          \n",
    "    char url[1000];\n",
    "    char label[] = \"&retmode=json\";\n",
    "\n",
    "    //checks if CURL initialization is a success or not\n",
    "    if (!curl){                                                                                         \n",
    "        fprintf(stderr, \"init failed\\n\");\n",
    "        return EXIT_FAILURE;\n",
    "    }\n",
    "        \n",
    "    //combines all the bits to produce a functioning url\n",
    "    sprintf(url, \"%s%s%s%s\", api, type1 , indicator, label);                                             \n",
    "                                          \n",
    "\n",
    "    //sets the url to which the HTTP request will be sent to\n",
    "    //first parameter is for the initialized curl HTTP request, second for the option to be set, and third for the value to be set\n",
    "    curl_easy_setopt(curl, CURLOPT_URL, url);\n",
    "\n",
    "    //if result is not retrieved then output error\n",
    "    CURLcode result = curl_easy_perform(curl);\n",
    "\n",
    "    //if result is not retrieved then output error\n",
    "    if (result != CURLE_OK){                                                                            \n",
    "        fprintf(stderr, \"download problem: %s\\n\", curl_easy_strerror(result));\n",
    "    }\n",
    "\n",
    "    //deallocates memory for the CURL connection\n",
    "    curl_easy_cleanup(curl);                                                                            \n",
    "    return EXIT_SUCCESS;\n",
    "}"
   ]
  },
  {
   "cell_type": "markdown",
   "metadata": {},
   "source": [
    "The folowing program is run, and an executable is created after using the following command:"
   ]
  },
  {
   "cell_type": "code",
   "execution_count": null,
   "metadata": {},
   "outputs": [],
   "source": [
    "!make"
   ]
  },
  {
   "cell_type": "markdown",
   "metadata": {},
   "source": [
    "The article we are requesting has PubMed ID: 27933103"
   ]
  },
  {
   "cell_type": "markdown",
   "metadata": {},
   "source": [
    "To print the following json data we do the following:"
   ]
  },
  {
   "cell_type": "code",
   "execution_count": 8,
   "metadata": {},
   "outputs": [
    {
     "name": "stdout",
     "output_type": "stream",
     "text": [
      "\u001b[1;39m{\n",
      "  \u001b[0m\u001b[34;1m\"header\"\u001b[0m\u001b[1;39m: \u001b[0m\u001b[1;39m{\n",
      "    \u001b[0m\u001b[34;1m\"type\"\u001b[0m\u001b[1;39m: \u001b[0m\u001b[0;32m\"esummary\"\u001b[0m\u001b[1;39m,\n",
      "    \u001b[0m\u001b[34;1m\"version\"\u001b[0m\u001b[1;39m: \u001b[0m\u001b[0;32m\"0.3\"\u001b[0m\u001b[1;39m\n",
      "  \u001b[1;39m}\u001b[0m\u001b[1;39m,\n",
      "  \u001b[0m\u001b[34;1m\"result\"\u001b[0m\u001b[1;39m: \u001b[0m\u001b[1;39m{\n",
      "    \u001b[0m\u001b[34;1m\"uids\"\u001b[0m\u001b[1;39m: \u001b[0m\u001b[1;39m[\n",
      "      \u001b[0;32m\"27933103\"\u001b[0m\u001b[1;39m\n",
      "    \u001b[1;39m]\u001b[0m\u001b[1;39m,\n",
      "    \u001b[0m\u001b[34;1m\"27933103\"\u001b[0m\u001b[1;39m: \u001b[0m\u001b[1;39m{\n",
      "      \u001b[0m\u001b[34;1m\"uid\"\u001b[0m\u001b[1;39m: \u001b[0m\u001b[0;32m\"27933103\"\u001b[0m\u001b[1;39m,\n",
      "      \u001b[0m\u001b[34;1m\"pubdate\"\u001b[0m\u001b[1;39m: \u001b[0m\u001b[0;32m\"2016\"\u001b[0m\u001b[1;39m,\n",
      "      \u001b[0m\u001b[34;1m\"epubdate\"\u001b[0m\u001b[1;39m: \u001b[0m\u001b[0;32m\"2016 Nov 23\"\u001b[0m\u001b[1;39m,\n",
      "      \u001b[0m\u001b[34;1m\"source\"\u001b[0m\u001b[1;39m: \u001b[0m\u001b[0;32m\"J Cheminform\"\u001b[0m\u001b[1;39m,\n",
      "      \u001b[0m\u001b[34;1m\"authors\"\u001b[0m\u001b[1;39m: \u001b[0m\u001b[1;39m[\n",
      "        \u001b[1;39m{\n",
      "          \u001b[0m\u001b[34;1m\"name\"\u001b[0m\u001b[1;39m: \u001b[0m\u001b[0;32m\"Scalfani VF\"\u001b[0m\u001b[1;39m,\n",
      "          \u001b[0m\u001b[34;1m\"authtype\"\u001b[0m\u001b[1;39m: \u001b[0m\u001b[0;32m\"Author\"\u001b[0m\u001b[1;39m,\n",
      "          \u001b[0m\u001b[34;1m\"clusterid\"\u001b[0m\u001b[1;39m: \u001b[0m\u001b[0;32m\"\"\u001b[0m\u001b[1;39m\n",
      "        \u001b[1;39m}\u001b[0m\u001b[1;39m,\n",
      "        \u001b[1;39m{\n",
      "          \u001b[0m\u001b[34;1m\"name\"\u001b[0m\u001b[1;39m: \u001b[0m\u001b[0;32m\"Williams AJ\"\u001b[0m\u001b[1;39m,\n",
      "          \u001b[0m\u001b[34;1m\"authtype\"\u001b[0m\u001b[1;39m: \u001b[0m\u001b[0;32m\"Author\"\u001b[0m\u001b[1;39m,\n",
      "          \u001b[0m\u001b[34;1m\"clusterid\"\u001b[0m\u001b[1;39m: \u001b[0m\u001b[0;32m\"\"\u001b[0m\u001b[1;39m\n",
      "        \u001b[1;39m}\u001b[0m\u001b[1;39m,\n",
      "        \u001b[1;39m{\n",
      "          \u001b[0m\u001b[34;1m\"name\"\u001b[0m\u001b[1;39m: \u001b[0m\u001b[0;32m\"Tkachenko V\"\u001b[0m\u001b[1;39m,\n",
      "          \u001b[0m\u001b[34;1m\"authtype\"\u001b[0m\u001b[1;39m: \u001b[0m\u001b[0;32m\"Author\"\u001b[0m\u001b[1;39m,\n",
      "          \u001b[0m\u001b[34;1m\"clusterid\"\u001b[0m\u001b[1;39m: \u001b[0m\u001b[0;32m\"\"\u001b[0m\u001b[1;39m\n",
      "        \u001b[1;39m}\u001b[0m\u001b[1;39m,\n",
      "        \u001b[1;39m{\n",
      "          \u001b[0m\u001b[34;1m\"name\"\u001b[0m\u001b[1;39m: \u001b[0m\u001b[0;32m\"Karapetyan K\"\u001b[0m\u001b[1;39m,\n",
      "          \u001b[0m\u001b[34;1m\"authtype\"\u001b[0m\u001b[1;39m: \u001b[0m\u001b[0;32m\"Author\"\u001b[0m\u001b[1;39m,\n",
      "          \u001b[0m\u001b[34;1m\"clusterid\"\u001b[0m\u001b[1;39m: \u001b[0m\u001b[0;32m\"\"\u001b[0m\u001b[1;39m\n",
      "        \u001b[1;39m}\u001b[0m\u001b[1;39m,\n",
      "        \u001b[1;39m{\n",
      "          \u001b[0m\u001b[34;1m\"name\"\u001b[0m\u001b[1;39m: \u001b[0m\u001b[0;32m\"Pshenichnov A\"\u001b[0m\u001b[1;39m,\n",
      "          \u001b[0m\u001b[34;1m\"authtype\"\u001b[0m\u001b[1;39m: \u001b[0m\u001b[0;32m\"Author\"\u001b[0m\u001b[1;39m,\n",
      "          \u001b[0m\u001b[34;1m\"clusterid\"\u001b[0m\u001b[1;39m: \u001b[0m\u001b[0;32m\"\"\u001b[0m\u001b[1;39m\n",
      "        \u001b[1;39m}\u001b[0m\u001b[1;39m,\n",
      "        \u001b[1;39m{\n",
      "          \u001b[0m\u001b[34;1m\"name\"\u001b[0m\u001b[1;39m: \u001b[0m\u001b[0;32m\"Hanson RM\"\u001b[0m\u001b[1;39m,\n",
      "          \u001b[0m\u001b[34;1m\"authtype\"\u001b[0m\u001b[1;39m: \u001b[0m\u001b[0;32m\"Author\"\u001b[0m\u001b[1;39m,\n",
      "          \u001b[0m\u001b[34;1m\"clusterid\"\u001b[0m\u001b[1;39m: \u001b[0m\u001b[0;32m\"\"\u001b[0m\u001b[1;39m\n",
      "        \u001b[1;39m}\u001b[0m\u001b[1;39m,\n",
      "        \u001b[1;39m{\n",
      "          \u001b[0m\u001b[34;1m\"name\"\u001b[0m\u001b[1;39m: \u001b[0m\u001b[0;32m\"Liddie JM\"\u001b[0m\u001b[1;39m,\n",
      "          \u001b[0m\u001b[34;1m\"authtype\"\u001b[0m\u001b[1;39m: \u001b[0m\u001b[0;32m\"Author\"\u001b[0m\u001b[1;39m,\n",
      "          \u001b[0m\u001b[34;1m\"clusterid\"\u001b[0m\u001b[1;39m: \u001b[0m\u001b[0;32m\"\"\u001b[0m\u001b[1;39m\n",
      "        \u001b[1;39m}\u001b[0m\u001b[1;39m,\n",
      "        \u001b[1;39m{\n",
      "          \u001b[0m\u001b[34;1m\"name\"\u001b[0m\u001b[1;39m: \u001b[0m\u001b[0;32m\"Bara JE\"\u001b[0m\u001b[1;39m,\n",
      "          \u001b[0m\u001b[34;1m\"authtype\"\u001b[0m\u001b[1;39m: \u001b[0m\u001b[0;32m\"Author\"\u001b[0m\u001b[1;39m,\n",
      "          \u001b[0m\u001b[34;1m\"clusterid\"\u001b[0m\u001b[1;39m: \u001b[0m\u001b[0;32m\"\"\u001b[0m\u001b[1;39m\n",
      "        \u001b[1;39m}\u001b[0m\u001b[1;39m\n",
      "      \u001b[1;39m]\u001b[0m\u001b[1;39m,\n",
      "      \u001b[0m\u001b[34;1m\"lastauthor\"\u001b[0m\u001b[1;39m: \u001b[0m\u001b[0;32m\"Bara JE\"\u001b[0m\u001b[1;39m,\n",
      "      \u001b[0m\u001b[34;1m\"title\"\u001b[0m\u001b[1;39m: \u001b[0m\u001b[0;32m\"Programmatic conversion of crystal structures into 3D printable files using Jmol.\"\u001b[0m\u001b[1;39m,\n",
      "      \u001b[0m\u001b[34;1m\"sorttitle\"\u001b[0m\u001b[1;39m: \u001b[0m\u001b[0;32m\"programmatic conversion of crystal structures into 3d printable files using jmol\"\u001b[0m\u001b[1;39m,\n",
      "      \u001b[0m\u001b[34;1m\"volume\"\u001b[0m\u001b[1;39m: \u001b[0m\u001b[0;32m\"8\"\u001b[0m\u001b[1;39m,\n",
      "      \u001b[0m\u001b[34;1m\"issue\"\u001b[0m\u001b[1;39m: \u001b[0m\u001b[0;32m\"\"\u001b[0m\u001b[1;39m,\n",
      "      \u001b[0m\u001b[34;1m\"pages\"\u001b[0m\u001b[1;39m: \u001b[0m\u001b[0;32m\"66\"\u001b[0m\u001b[1;39m,\n",
      "      \u001b[0m\u001b[34;1m\"lang\"\u001b[0m\u001b[1;39m: \u001b[0m\u001b[1;39m[\n",
      "        \u001b[0;32m\"eng\"\u001b[0m\u001b[1;39m\n",
      "      \u001b[1;39m]\u001b[0m\u001b[1;39m,\n",
      "      \u001b[0m\u001b[34;1m\"nlmuniqueid\"\u001b[0m\u001b[1;39m: \u001b[0m\u001b[0;32m\"101516718\"\u001b[0m\u001b[1;39m,\n",
      "      \u001b[0m\u001b[34;1m\"issn\"\u001b[0m\u001b[1;39m: \u001b[0m\u001b[0;32m\"1758-2946\"\u001b[0m\u001b[1;39m,\n",
      "      \u001b[0m\u001b[34;1m\"essn\"\u001b[0m\u001b[1;39m: \u001b[0m\u001b[0;32m\"1758-2946\"\u001b[0m\u001b[1;39m,\n",
      "      \u001b[0m\u001b[34;1m\"pubtype\"\u001b[0m\u001b[1;39m: \u001b[0m\u001b[1;39m[\n",
      "        \u001b[0;32m\"Journal Article\"\u001b[0m\u001b[1;39m\n",
      "      \u001b[1;39m]\u001b[0m\u001b[1;39m,\n",
      "      \u001b[0m\u001b[34;1m\"recordstatus\"\u001b[0m\u001b[1;39m: \u001b[0m\u001b[0;32m\"PubMed\"\u001b[0m\u001b[1;39m,\n",
      "      \u001b[0m\u001b[34;1m\"pubstatus\"\u001b[0m\u001b[1;39m: \u001b[0m\u001b[0;32m\"258\"\u001b[0m\u001b[1;39m,\n",
      "      \u001b[0m\u001b[34;1m\"articleids\"\u001b[0m\u001b[1;39m: \u001b[0m\u001b[1;39m[\n",
      "        \u001b[1;39m{\n",
      "          \u001b[0m\u001b[34;1m\"idtype\"\u001b[0m\u001b[1;39m: \u001b[0m\u001b[0;32m\"pubmed\"\u001b[0m\u001b[1;39m,\n",
      "          \u001b[0m\u001b[34;1m\"idtypen\"\u001b[0m\u001b[1;39m: \u001b[0m\u001b[0;39m1\u001b[0m\u001b[1;39m,\n",
      "          \u001b[0m\u001b[34;1m\"value\"\u001b[0m\u001b[1;39m: \u001b[0m\u001b[0;32m\"27933103\"\u001b[0m\u001b[1;39m\n",
      "        \u001b[1;39m}\u001b[0m\u001b[1;39m,\n",
      "        \u001b[1;39m{\n",
      "          \u001b[0m\u001b[34;1m\"idtype\"\u001b[0m\u001b[1;39m: \u001b[0m\u001b[0;32m\"pmc\"\u001b[0m\u001b[1;39m,\n",
      "          \u001b[0m\u001b[34;1m\"idtypen\"\u001b[0m\u001b[1;39m: \u001b[0m\u001b[0;39m8\u001b[0m\u001b[1;39m,\n",
      "          \u001b[0m\u001b[34;1m\"value\"\u001b[0m\u001b[1;39m: \u001b[0m\u001b[0;32m\"PMC5122160\"\u001b[0m\u001b[1;39m\n",
      "        \u001b[1;39m}\u001b[0m\u001b[1;39m,\n",
      "        \u001b[1;39m{\n",
      "          \u001b[0m\u001b[34;1m\"idtype\"\u001b[0m\u001b[1;39m: \u001b[0m\u001b[0;32m\"pmcid\"\u001b[0m\u001b[1;39m,\n",
      "          \u001b[0m\u001b[34;1m\"idtypen\"\u001b[0m\u001b[1;39m: \u001b[0m\u001b[0;39m5\u001b[0m\u001b[1;39m,\n",
      "          \u001b[0m\u001b[34;1m\"value\"\u001b[0m\u001b[1;39m: \u001b[0m\u001b[0;32m\"pmc-id: PMC5122160;\"\u001b[0m\u001b[1;39m\n",
      "        \u001b[1;39m}\u001b[0m\u001b[1;39m,\n",
      "        \u001b[1;39m{\n",
      "          \u001b[0m\u001b[34;1m\"idtype\"\u001b[0m\u001b[1;39m: \u001b[0m\u001b[0;32m\"doi\"\u001b[0m\u001b[1;39m,\n",
      "          \u001b[0m\u001b[34;1m\"idtypen\"\u001b[0m\u001b[1;39m: \u001b[0m\u001b[0;39m3\u001b[0m\u001b[1;39m,\n",
      "          \u001b[0m\u001b[34;1m\"value\"\u001b[0m\u001b[1;39m: \u001b[0m\u001b[0;32m\"10.1186/s13321-016-0181-z\"\u001b[0m\u001b[1;39m\n",
      "        \u001b[1;39m}\u001b[0m\u001b[1;39m,\n",
      "        \u001b[1;39m{\n",
      "          \u001b[0m\u001b[34;1m\"idtype\"\u001b[0m\u001b[1;39m: \u001b[0m\u001b[0;32m\"pii\"\u001b[0m\u001b[1;39m,\n",
      "          \u001b[0m\u001b[34;1m\"idtypen\"\u001b[0m\u001b[1;39m: \u001b[0m\u001b[0;39m4\u001b[0m\u001b[1;39m,\n",
      "          \u001b[0m\u001b[34;1m\"value\"\u001b[0m\u001b[1;39m: \u001b[0m\u001b[0;32m\"181\"\u001b[0m\u001b[1;39m\n",
      "        \u001b[1;39m}\u001b[0m\u001b[1;39m\n",
      "      \u001b[1;39m]\u001b[0m\u001b[1;39m,\n",
      "      \u001b[0m\u001b[34;1m\"history\"\u001b[0m\u001b[1;39m: \u001b[0m\u001b[1;39m[\n",
      "        \u001b[1;39m{\n",
      "          \u001b[0m\u001b[34;1m\"pubstatus\"\u001b[0m\u001b[1;39m: \u001b[0m\u001b[0;32m\"received\"\u001b[0m\u001b[1;39m,\n",
      "          \u001b[0m\u001b[34;1m\"date\"\u001b[0m\u001b[1;39m: \u001b[0m\u001b[0;32m\"2016/08/15 00:00\"\u001b[0m\u001b[1;39m\n",
      "        \u001b[1;39m}\u001b[0m\u001b[1;39m,\n",
      "        \u001b[1;39m{\n",
      "          \u001b[0m\u001b[34;1m\"pubstatus\"\u001b[0m\u001b[1;39m: \u001b[0m\u001b[0;32m\"accepted\"\u001b[0m\u001b[1;39m,\n",
      "          \u001b[0m\u001b[34;1m\"date\"\u001b[0m\u001b[1;39m: \u001b[0m\u001b[0;32m\"2016/11/16 00:00\"\u001b[0m\u001b[1;39m\n",
      "        \u001b[1;39m}\u001b[0m\u001b[1;39m,\n",
      "        \u001b[1;39m{\n",
      "          \u001b[0m\u001b[34;1m\"pubstatus\"\u001b[0m\u001b[1;39m: \u001b[0m\u001b[0;32m\"entrez\"\u001b[0m\u001b[1;39m,\n",
      "          \u001b[0m\u001b[34;1m\"date\"\u001b[0m\u001b[1;39m: \u001b[0m\u001b[0;32m\"2016/12/10 06:00\"\u001b[0m\u001b[1;39m\n",
      "        \u001b[1;39m}\u001b[0m\u001b[1;39m,\n",
      "        \u001b[1;39m{\n",
      "          \u001b[0m\u001b[34;1m\"pubstatus\"\u001b[0m\u001b[1;39m: \u001b[0m\u001b[0;32m\"pubmed\"\u001b[0m\u001b[1;39m,\n",
      "          \u001b[0m\u001b[34;1m\"date\"\u001b[0m\u001b[1;39m: \u001b[0m\u001b[0;32m\"2016/12/10 06:00\"\u001b[0m\u001b[1;39m\n",
      "        \u001b[1;39m}\u001b[0m\u001b[1;39m,\n",
      "        \u001b[1;39m{\n",
      "          \u001b[0m\u001b[34;1m\"pubstatus\"\u001b[0m\u001b[1;39m: \u001b[0m\u001b[0;32m\"medline\"\u001b[0m\u001b[1;39m,\n",
      "          \u001b[0m\u001b[34;1m\"date\"\u001b[0m\u001b[1;39m: \u001b[0m\u001b[0;32m\"2016/12/10 06:01\"\u001b[0m\u001b[1;39m\n",
      "        \u001b[1;39m}\u001b[0m\u001b[1;39m\n",
      "      \u001b[1;39m]\u001b[0m\u001b[1;39m,\n",
      "      \u001b[0m\u001b[34;1m\"references\"\u001b[0m\u001b[1;39m: \u001b[0m\u001b[1;39m[]\u001b[0m\u001b[1;39m,\n",
      "      \u001b[0m\u001b[34;1m\"attributes\"\u001b[0m\u001b[1;39m: \u001b[0m\u001b[1;39m[\n",
      "        \u001b[0;32m\"Has Abstract\"\u001b[0m\u001b[1;39m\n",
      "      \u001b[1;39m]\u001b[0m\u001b[1;39m,\n",
      "      \u001b[0m\u001b[34;1m\"pmcrefcount\"\u001b[0m\u001b[1;39m: \u001b[0m\u001b[0;39m33\u001b[0m\u001b[1;39m,\n",
      "      \u001b[0m\u001b[34;1m\"fulljournalname\"\u001b[0m\u001b[1;39m: \u001b[0m\u001b[0;32m\"Journal of cheminformatics\"\u001b[0m\u001b[1;39m,\n",
      "      \u001b[0m\u001b[34;1m\"elocationid\"\u001b[0m\u001b[1;39m: \u001b[0m\u001b[0;32m\"\"\u001b[0m\u001b[1;39m,\n",
      "      \u001b[0m\u001b[34;1m\"doctype\"\u001b[0m\u001b[1;39m: \u001b[0m\u001b[0;32m\"citation\"\u001b[0m\u001b[1;39m,\n",
      "      \u001b[0m\u001b[34;1m\"srccontriblist\"\u001b[0m\u001b[1;39m: \u001b[0m\u001b[1;39m[]\u001b[0m\u001b[1;39m,\n",
      "      \u001b[0m\u001b[34;1m\"booktitle\"\u001b[0m\u001b[1;39m: \u001b[0m\u001b[0;32m\"\"\u001b[0m\u001b[1;39m,\n",
      "      \u001b[0m\u001b[34;1m\"medium\"\u001b[0m\u001b[1;39m: \u001b[0m\u001b[0;32m\"\"\u001b[0m\u001b[1;39m,\n",
      "      \u001b[0m\u001b[34;1m\"edition\"\u001b[0m\u001b[1;39m: \u001b[0m\u001b[0;32m\"\"\u001b[0m\u001b[1;39m,\n",
      "      \u001b[0m\u001b[34;1m\"publisherlocation\"\u001b[0m\u001b[1;39m: \u001b[0m\u001b[0;32m\"\"\u001b[0m\u001b[1;39m,\n",
      "      \u001b[0m\u001b[34;1m\"publishername\"\u001b[0m\u001b[1;39m: \u001b[0m\u001b[0;32m\"\"\u001b[0m\u001b[1;39m,\n",
      "      \u001b[0m\u001b[34;1m\"srcdate\"\u001b[0m\u001b[1;39m: \u001b[0m\u001b[0;32m\"\"\u001b[0m\u001b[1;39m,\n",
      "      \u001b[0m\u001b[34;1m\"reportnumber\"\u001b[0m\u001b[1;39m: \u001b[0m\u001b[0;32m\"\"\u001b[0m\u001b[1;39m,\n",
      "      \u001b[0m\u001b[34;1m\"availablefromurl\"\u001b[0m\u001b[1;39m: \u001b[0m\u001b[0;32m\"\"\u001b[0m\u001b[1;39m,\n",
      "      \u001b[0m\u001b[34;1m\"locationlabel\"\u001b[0m\u001b[1;39m: \u001b[0m\u001b[0;32m\"\"\u001b[0m\u001b[1;39m,\n",
      "      \u001b[0m\u001b[34;1m\"doccontriblist\"\u001b[0m\u001b[1;39m: \u001b[0m\u001b[1;39m[]\u001b[0m\u001b[1;39m,\n",
      "      \u001b[0m\u001b[34;1m\"docdate\"\u001b[0m\u001b[1;39m: \u001b[0m\u001b[0;32m\"\"\u001b[0m\u001b[1;39m,\n",
      "      \u001b[0m\u001b[34;1m\"bookname\"\u001b[0m\u001b[1;39m: \u001b[0m\u001b[0;32m\"\"\u001b[0m\u001b[1;39m,\n",
      "      \u001b[0m\u001b[34;1m\"chapter\"\u001b[0m\u001b[1;39m: \u001b[0m\u001b[0;32m\"\"\u001b[0m\u001b[1;39m,\n",
      "      \u001b[0m\u001b[34;1m\"sortpubdate\"\u001b[0m\u001b[1;39m: \u001b[0m\u001b[0;32m\"2016/11/23 00:00\"\u001b[0m\u001b[1;39m,\n",
      "      \u001b[0m\u001b[34;1m\"sortfirstauthor\"\u001b[0m\u001b[1;39m: \u001b[0m\u001b[0;32m\"Scalfani VF\"\u001b[0m\u001b[1;39m,\n",
      "      \u001b[0m\u001b[34;1m\"vernaculartitle\"\u001b[0m\u001b[1;39m: \u001b[0m\u001b[0;32m\"\"\u001b[0m\u001b[1;39m\n",
      "    \u001b[1;39m}\u001b[0m\u001b[1;39m\n",
      "  \u001b[1;39m}\u001b[0m\u001b[1;39m\n",
      "\u001b[1;39m}\u001b[0m\n"
     ]
    }
   ],
   "source": [
    "!./api_call | jq '.'"
   ]
  },
  {
   "cell_type": "markdown",
   "metadata": {},
   "source": [
    "To output the data for multiple ids from the PubMed API, we enter the following command:"
   ]
  },
  {
   "cell_type": "code",
   "execution_count": 9,
   "metadata": {},
   "outputs": [
    {
     "name": "stdout",
     "output_type": "stream",
     "text": [
      "\u001b[1;39m{\n",
      "  \u001b[0m\u001b[34;1m\"header\"\u001b[0m\u001b[1;39m: \u001b[0m\u001b[1;39m{\n",
      "    \u001b[0m\u001b[34;1m\"type\"\u001b[0m\u001b[1;39m: \u001b[0m\u001b[0;32m\"esummary\"\u001b[0m\u001b[1;39m,\n",
      "    \u001b[0m\u001b[34;1m\"version\"\u001b[0m\u001b[1;39m: \u001b[0m\u001b[0;32m\"0.3\"\u001b[0m\u001b[1;39m\n",
      "  \u001b[1;39m}\u001b[0m\u001b[1;39m,\n",
      "  \u001b[0m\u001b[34;1m\"result\"\u001b[0m\u001b[1;39m: \u001b[0m\u001b[1;39m{\n",
      "    \u001b[0m\u001b[34;1m\"uids\"\u001b[0m\u001b[1;39m: \u001b[0m\u001b[1;39m[\n",
      "      \u001b[0;32m\"34813985\"\u001b[0m\u001b[1;39m,\n",
      "      \u001b[0;32m\"34813140\"\u001b[0m\u001b[1;39m\n",
      "    \u001b[1;39m]\u001b[0m\u001b[1;39m,\n",
      "    \u001b[0m\u001b[34;1m\"34813985\"\u001b[0m\u001b[1;39m: \u001b[0m\u001b[1;39m{\n",
      "      \u001b[0m\u001b[34;1m\"uid\"\u001b[0m\u001b[1;39m: \u001b[0m\u001b[0;32m\"34813985\"\u001b[0m\u001b[1;39m,\n",
      "      \u001b[0m\u001b[34;1m\"pubdate\"\u001b[0m\u001b[1;39m: \u001b[0m\u001b[0;32m\"2022 Jan\"\u001b[0m\u001b[1;39m,\n",
      "      \u001b[0m\u001b[34;1m\"epubdate\"\u001b[0m\u001b[1;39m: \u001b[0m\u001b[0;32m\"2021 Nov 8\"\u001b[0m\u001b[1;39m,\n",
      "      \u001b[0m\u001b[34;1m\"source\"\u001b[0m\u001b[1;39m: \u001b[0m\u001b[0;32m\"Cell Calcium\"\u001b[0m\u001b[1;39m,\n",
      "      \u001b[0m\u001b[34;1m\"authors\"\u001b[0m\u001b[1;39m: \u001b[0m\u001b[1;39m[\n",
      "        \u001b[1;39m{\n",
      "          \u001b[0m\u001b[34;1m\"name\"\u001b[0m\u001b[1;39m: \u001b[0m\u001b[0;32m\"Fernández-Morales JC\"\u001b[0m\u001b[1;39m,\n",
      "          \u001b[0m\u001b[34;1m\"authtype\"\u001b[0m\u001b[1;39m: \u001b[0m\u001b[0;32m\"Author\"\u001b[0m\u001b[1;39m,\n",
      "          \u001b[0m\u001b[34;1m\"clusterid\"\u001b[0m\u001b[1;39m: \u001b[0m\u001b[0;32m\"\"\u001b[0m\u001b[1;39m\n",
      "        \u001b[1;39m}\u001b[0m\u001b[1;39m,\n",
      "        \u001b[1;39m{\n",
      "          \u001b[0m\u001b[34;1m\"name\"\u001b[0m\u001b[1;39m: \u001b[0m\u001b[0;32m\"Xia Y\"\u001b[0m\u001b[1;39m,\n",
      "          \u001b[0m\u001b[34;1m\"authtype\"\u001b[0m\u001b[1;39m: \u001b[0m\u001b[0;32m\"Author\"\u001b[0m\u001b[1;39m,\n",
      "          \u001b[0m\u001b[34;1m\"clusterid\"\u001b[0m\u001b[1;39m: \u001b[0m\u001b[0;32m\"\"\u001b[0m\u001b[1;39m\n",
      "        \u001b[1;39m}\u001b[0m\u001b[1;39m,\n",
      "        \u001b[1;39m{\n",
      "          \u001b[0m\u001b[34;1m\"name\"\u001b[0m\u001b[1;39m: \u001b[0m\u001b[0;32m\"Renzo TJ\"\u001b[0m\u001b[1;39m,\n",
      "          \u001b[0m\u001b[34;1m\"authtype\"\u001b[0m\u001b[1;39m: \u001b[0m\u001b[0;32m\"Author\"\u001b[0m\u001b[1;39m,\n",
      "          \u001b[0m\u001b[34;1m\"clusterid\"\u001b[0m\u001b[1;39m: \u001b[0m\u001b[0;32m\"\"\u001b[0m\u001b[1;39m\n",
      "        \u001b[1;39m}\u001b[0m\u001b[1;39m,\n",
      "        \u001b[1;39m{\n",
      "          \u001b[0m\u001b[34;1m\"name\"\u001b[0m\u001b[1;39m: \u001b[0m\u001b[0;32m\"Zhang XH\"\u001b[0m\u001b[1;39m,\n",
      "          \u001b[0m\u001b[34;1m\"authtype\"\u001b[0m\u001b[1;39m: \u001b[0m\u001b[0;32m\"Author\"\u001b[0m\u001b[1;39m,\n",
      "          \u001b[0m\u001b[34;1m\"clusterid\"\u001b[0m\u001b[1;39m: \u001b[0m\u001b[0;32m\"\"\u001b[0m\u001b[1;39m\n",
      "        \u001b[1;39m}\u001b[0m\u001b[1;39m,\n",
      "        \u001b[1;39m{\n",
      "          \u001b[0m\u001b[34;1m\"name\"\u001b[0m\u001b[1;39m: \u001b[0m\u001b[0;32m\"Morad M\"\u001b[0m\u001b[1;39m,\n",
      "          \u001b[0m\u001b[34;1m\"authtype\"\u001b[0m\u001b[1;39m: \u001b[0m\u001b[0;32m\"Author\"\u001b[0m\u001b[1;39m,\n",
      "          \u001b[0m\u001b[34;1m\"clusterid\"\u001b[0m\u001b[1;39m: \u001b[0m\u001b[0;32m\"\"\u001b[0m\u001b[1;39m\n",
      "        \u001b[1;39m}\u001b[0m\u001b[1;39m\n",
      "      \u001b[1;39m]\u001b[0m\u001b[1;39m,\n",
      "      \u001b[0m\u001b[34;1m\"lastauthor\"\u001b[0m\u001b[1;39m: \u001b[0m\u001b[0;32m\"Morad M\"\u001b[0m\u001b[1;39m,\n",
      "      \u001b[0m\u001b[34;1m\"title\"\u001b[0m\u001b[1;39m: \u001b[0m\u001b[0;32m\"Mutation in RyR2-FKBP Binding site alters Ca(2+) signaling modestly but increases \\\"arrhythmogenesis\\\" in human stem cells derived cardiomyocytes.\"\u001b[0m\u001b[1;39m,\n",
      "      \u001b[0m\u001b[34;1m\"sorttitle\"\u001b[0m\u001b[1;39m: \u001b[0m\u001b[0;32m\"mutation in ryr2 fkbp binding site alters ca 2 signaling modestly but increases arrhythmogenesis in human stem cells derived cardiomyocytes\"\u001b[0m\u001b[1;39m,\n",
      "      \u001b[0m\u001b[34;1m\"volume\"\u001b[0m\u001b[1;39m: \u001b[0m\u001b[0;32m\"101\"\u001b[0m\u001b[1;39m,\n",
      "      \u001b[0m\u001b[34;1m\"issue\"\u001b[0m\u001b[1;39m: \u001b[0m\u001b[0;32m\"\"\u001b[0m\u001b[1;39m,\n",
      "      \u001b[0m\u001b[34;1m\"pages\"\u001b[0m\u001b[1;39m: \u001b[0m\u001b[0;32m\"102500\"\u001b[0m\u001b[1;39m,\n",
      "      \u001b[0m\u001b[34;1m\"lang\"\u001b[0m\u001b[1;39m: \u001b[0m\u001b[1;39m[\n",
      "        \u001b[0;32m\"eng\"\u001b[0m\u001b[1;39m\n",
      "      \u001b[1;39m]\u001b[0m\u001b[1;39m,\n",
      "      \u001b[0m\u001b[34;1m\"nlmuniqueid\"\u001b[0m\u001b[1;39m: \u001b[0m\u001b[0;32m\"8006226\"\u001b[0m\u001b[1;39m,\n",
      "      \u001b[0m\u001b[34;1m\"issn\"\u001b[0m\u001b[1;39m: \u001b[0m\u001b[0;32m\"0143-4160\"\u001b[0m\u001b[1;39m,\n",
      "      \u001b[0m\u001b[34;1m\"essn\"\u001b[0m\u001b[1;39m: \u001b[0m\u001b[0;32m\"1532-1991\"\u001b[0m\u001b[1;39m,\n",
      "      \u001b[0m\u001b[34;1m\"pubtype\"\u001b[0m\u001b[1;39m: \u001b[0m\u001b[1;39m[\n",
      "        \u001b[0;32m\"Journal Article\"\u001b[0m\u001b[1;39m\n",
      "      \u001b[1;39m]\u001b[0m\u001b[1;39m,\n",
      "      \u001b[0m\u001b[34;1m\"recordstatus\"\u001b[0m\u001b[1;39m: \u001b[0m\u001b[0;32m\"PubMed - indexed for MEDLINE\"\u001b[0m\u001b[1;39m,\n",
      "      \u001b[0m\u001b[34;1m\"pubstatus\"\u001b[0m\u001b[1;39m: \u001b[0m\u001b[0;32m\"256\"\u001b[0m\u001b[1;39m,\n",
      "      \u001b[0m\u001b[34;1m\"articleids\"\u001b[0m\u001b[1;39m: \u001b[0m\u001b[1;39m[\n",
      "        \u001b[1;39m{\n",
      "          \u001b[0m\u001b[34;1m\"idtype\"\u001b[0m\u001b[1;39m: \u001b[0m\u001b[0;32m\"pubmed\"\u001b[0m\u001b[1;39m,\n",
      "          \u001b[0m\u001b[34;1m\"idtypen\"\u001b[0m\u001b[1;39m: \u001b[0m\u001b[0;39m1\u001b[0m\u001b[1;39m,\n",
      "          \u001b[0m\u001b[34;1m\"value\"\u001b[0m\u001b[1;39m: \u001b[0m\u001b[0;32m\"34813985\"\u001b[0m\u001b[1;39m\n",
      "        \u001b[1;39m}\u001b[0m\u001b[1;39m,\n",
      "        \u001b[1;39m{\n",
      "          \u001b[0m\u001b[34;1m\"idtype\"\u001b[0m\u001b[1;39m: \u001b[0m\u001b[0;32m\"mid\"\u001b[0m\u001b[1;39m,\n",
      "          \u001b[0m\u001b[34;1m\"idtypen\"\u001b[0m\u001b[1;39m: \u001b[0m\u001b[0;39m8\u001b[0m\u001b[1;39m,\n",
      "          \u001b[0m\u001b[34;1m\"value\"\u001b[0m\u001b[1;39m: \u001b[0m\u001b[0;32m\"NIHMS1760117\"\u001b[0m\u001b[1;39m\n",
      "        \u001b[1;39m}\u001b[0m\u001b[1;39m,\n",
      "        \u001b[1;39m{\n",
      "          \u001b[0m\u001b[34;1m\"idtype\"\u001b[0m\u001b[1;39m: \u001b[0m\u001b[0;32m\"pmc\"\u001b[0m\u001b[1;39m,\n",
      "          \u001b[0m\u001b[34;1m\"idtypen\"\u001b[0m\u001b[1;39m: \u001b[0m\u001b[0;39m8\u001b[0m\u001b[1;39m,\n",
      "          \u001b[0m\u001b[34;1m\"value\"\u001b[0m\u001b[1;39m: \u001b[0m\u001b[0;32m\"PMC8752506\"\u001b[0m\u001b[1;39m\n",
      "        \u001b[1;39m}\u001b[0m\u001b[1;39m,\n",
      "        \u001b[1;39m{\n",
      "          \u001b[0m\u001b[34;1m\"idtype\"\u001b[0m\u001b[1;39m: \u001b[0m\u001b[0;32m\"pmcid\"\u001b[0m\u001b[1;39m,\n",
      "          \u001b[0m\u001b[34;1m\"idtypen\"\u001b[0m\u001b[1;39m: \u001b[0m\u001b[0;39m5\u001b[0m\u001b[1;39m,\n",
      "          \u001b[0m\u001b[34;1m\"value\"\u001b[0m\u001b[1;39m: \u001b[0m\u001b[0;32m\"pmc-id: PMC8752506;manuscript-id: NIHMS1760117;\"\u001b[0m\u001b[1;39m\n",
      "        \u001b[1;39m}\u001b[0m\u001b[1;39m,\n",
      "        \u001b[1;39m{\n",
      "          \u001b[0m\u001b[34;1m\"idtype\"\u001b[0m\u001b[1;39m: \u001b[0m\u001b[0;32m\"doi\"\u001b[0m\u001b[1;39m,\n",
      "          \u001b[0m\u001b[34;1m\"idtypen\"\u001b[0m\u001b[1;39m: \u001b[0m\u001b[0;39m3\u001b[0m\u001b[1;39m,\n",
      "          \u001b[0m\u001b[34;1m\"value\"\u001b[0m\u001b[1;39m: \u001b[0m\u001b[0;32m\"10.1016/j.ceca.2021.102500\"\u001b[0m\u001b[1;39m\n",
      "        \u001b[1;39m}\u001b[0m\u001b[1;39m,\n",
      "        \u001b[1;39m{\n",
      "          \u001b[0m\u001b[34;1m\"idtype\"\u001b[0m\u001b[1;39m: \u001b[0m\u001b[0;32m\"pii\"\u001b[0m\u001b[1;39m,\n",
      "          \u001b[0m\u001b[34;1m\"idtypen\"\u001b[0m\u001b[1;39m: \u001b[0m\u001b[0;39m4\u001b[0m\u001b[1;39m,\n",
      "          \u001b[0m\u001b[34;1m\"value\"\u001b[0m\u001b[1;39m: \u001b[0m\u001b[0;32m\"S0143-4160(21)00154-8\"\u001b[0m\u001b[1;39m\n",
      "        \u001b[1;39m}\u001b[0m\u001b[1;39m\n",
      "      \u001b[1;39m]\u001b[0m\u001b[1;39m,\n",
      "      \u001b[0m\u001b[34;1m\"history\"\u001b[0m\u001b[1;39m: \u001b[0m\u001b[1;39m[\n",
      "        \u001b[1;39m{\n",
      "          \u001b[0m\u001b[34;1m\"pubstatus\"\u001b[0m\u001b[1;39m: \u001b[0m\u001b[0;32m\"received\"\u001b[0m\u001b[1;39m,\n",
      "          \u001b[0m\u001b[34;1m\"date\"\u001b[0m\u001b[1;39m: \u001b[0m\u001b[0;32m\"2021/08/04 00:00\"\u001b[0m\u001b[1;39m\n",
      "        \u001b[1;39m}\u001b[0m\u001b[1;39m,\n",
      "        \u001b[1;39m{\n",
      "          \u001b[0m\u001b[34;1m\"pubstatus\"\u001b[0m\u001b[1;39m: \u001b[0m\u001b[0;32m\"revised\"\u001b[0m\u001b[1;39m,\n",
      "          \u001b[0m\u001b[34;1m\"date\"\u001b[0m\u001b[1;39m: \u001b[0m\u001b[0;32m\"2021/11/02 00:00\"\u001b[0m\u001b[1;39m\n",
      "        \u001b[1;39m}\u001b[0m\u001b[1;39m,\n",
      "        \u001b[1;39m{\n",
      "          \u001b[0m\u001b[34;1m\"pubstatus\"\u001b[0m\u001b[1;39m: \u001b[0m\u001b[0;32m\"accepted\"\u001b[0m\u001b[1;39m,\n",
      "          \u001b[0m\u001b[34;1m\"date\"\u001b[0m\u001b[1;39m: \u001b[0m\u001b[0;32m\"2021/11/04 00:00\"\u001b[0m\u001b[1;39m\n",
      "        \u001b[1;39m}\u001b[0m\u001b[1;39m,\n",
      "        \u001b[1;39m{\n",
      "          \u001b[0m\u001b[34;1m\"pubstatus\"\u001b[0m\u001b[1;39m: \u001b[0m\u001b[0;32m\"pubmed\"\u001b[0m\u001b[1;39m,\n",
      "          \u001b[0m\u001b[34;1m\"date\"\u001b[0m\u001b[1;39m: \u001b[0m\u001b[0;32m\"2021/11/24 06:00\"\u001b[0m\u001b[1;39m\n",
      "        \u001b[1;39m}\u001b[0m\u001b[1;39m,\n",
      "        \u001b[1;39m{\n",
      "          \u001b[0m\u001b[34;1m\"pubstatus\"\u001b[0m\u001b[1;39m: \u001b[0m\u001b[0;32m\"medline\"\u001b[0m\u001b[1;39m,\n",
      "          \u001b[0m\u001b[34;1m\"date\"\u001b[0m\u001b[1;39m: \u001b[0m\u001b[0;32m\"2022/02/01 06:00\"\u001b[0m\u001b[1;39m\n",
      "        \u001b[1;39m}\u001b[0m\u001b[1;39m,\n",
      "        \u001b[1;39m{\n",
      "          \u001b[0m\u001b[34;1m\"pubstatus\"\u001b[0m\u001b[1;39m: \u001b[0m\u001b[0;32m\"entrez\"\u001b[0m\u001b[1;39m,\n",
      "          \u001b[0m\u001b[34;1m\"date\"\u001b[0m\u001b[1;39m: \u001b[0m\u001b[0;32m\"2021/11/23 20:17\"\u001b[0m\u001b[1;39m\n",
      "        \u001b[1;39m}\u001b[0m\u001b[1;39m\n",
      "      \u001b[1;39m]\u001b[0m\u001b[1;39m,\n",
      "      \u001b[0m\u001b[34;1m\"references\"\u001b[0m\u001b[1;39m: \u001b[0m\u001b[1;39m[]\u001b[0m\u001b[1;39m,\n",
      "      \u001b[0m\u001b[34;1m\"attributes\"\u001b[0m\u001b[1;39m: \u001b[0m\u001b[1;39m[\n",
      "        \u001b[0;32m\"Has Abstract\"\u001b[0m\u001b[1;39m\n",
      "      \u001b[1;39m]\u001b[0m\u001b[1;39m,\n",
      "      \u001b[0m\u001b[34;1m\"pmcrefcount\"\u001b[0m\u001b[1;39m: \u001b[0m\u001b[0;39m69\u001b[0m\u001b[1;39m,\n",
      "      \u001b[0m\u001b[34;1m\"fulljournalname\"\u001b[0m\u001b[1;39m: \u001b[0m\u001b[0;32m\"Cell calcium\"\u001b[0m\u001b[1;39m,\n",
      "      \u001b[0m\u001b[34;1m\"elocationid\"\u001b[0m\u001b[1;39m: \u001b[0m\u001b[0;32m\"doi: 10.1016/j.ceca.2021.102500\"\u001b[0m\u001b[1;39m,\n",
      "      \u001b[0m\u001b[34;1m\"doctype\"\u001b[0m\u001b[1;39m: \u001b[0m\u001b[0;32m\"citation\"\u001b[0m\u001b[1;39m,\n",
      "      \u001b[0m\u001b[34;1m\"srccontriblist\"\u001b[0m\u001b[1;39m: \u001b[0m\u001b[1;39m[]\u001b[0m\u001b[1;39m,\n",
      "      \u001b[0m\u001b[34;1m\"booktitle\"\u001b[0m\u001b[1;39m: \u001b[0m\u001b[0;32m\"\"\u001b[0m\u001b[1;39m,\n",
      "      \u001b[0m\u001b[34;1m\"medium\"\u001b[0m\u001b[1;39m: \u001b[0m\u001b[0;32m\"\"\u001b[0m\u001b[1;39m,\n",
      "      \u001b[0m\u001b[34;1m\"edition\"\u001b[0m\u001b[1;39m: \u001b[0m\u001b[0;32m\"\"\u001b[0m\u001b[1;39m,\n",
      "      \u001b[0m\u001b[34;1m\"publisherlocation\"\u001b[0m\u001b[1;39m: \u001b[0m\u001b[0;32m\"\"\u001b[0m\u001b[1;39m,\n",
      "      \u001b[0m\u001b[34;1m\"publishername\"\u001b[0m\u001b[1;39m: \u001b[0m\u001b[0;32m\"\"\u001b[0m\u001b[1;39m,\n",
      "      \u001b[0m\u001b[34;1m\"srcdate\"\u001b[0m\u001b[1;39m: \u001b[0m\u001b[0;32m\"\"\u001b[0m\u001b[1;39m,\n",
      "      \u001b[0m\u001b[34;1m\"reportnumber\"\u001b[0m\u001b[1;39m: \u001b[0m\u001b[0;32m\"\"\u001b[0m\u001b[1;39m,\n",
      "      \u001b[0m\u001b[34;1m\"availablefromurl\"\u001b[0m\u001b[1;39m: \u001b[0m\u001b[0;32m\"\"\u001b[0m\u001b[1;39m,\n",
      "      \u001b[0m\u001b[34;1m\"locationlabel\"\u001b[0m\u001b[1;39m: \u001b[0m\u001b[0;32m\"\"\u001b[0m\u001b[1;39m,\n",
      "      \u001b[0m\u001b[34;1m\"doccontriblist\"\u001b[0m\u001b[1;39m: \u001b[0m\u001b[1;39m[]\u001b[0m\u001b[1;39m,\n",
      "      \u001b[0m\u001b[34;1m\"docdate\"\u001b[0m\u001b[1;39m: \u001b[0m\u001b[0;32m\"\"\u001b[0m\u001b[1;39m,\n",
      "      \u001b[0m\u001b[34;1m\"bookname\"\u001b[0m\u001b[1;39m: \u001b[0m\u001b[0;32m\"\"\u001b[0m\u001b[1;39m,\n",
      "      \u001b[0m\u001b[34;1m\"chapter\"\u001b[0m\u001b[1;39m: \u001b[0m\u001b[0;32m\"\"\u001b[0m\u001b[1;39m,\n",
      "      \u001b[0m\u001b[34;1m\"sortpubdate\"\u001b[0m\u001b[1;39m: \u001b[0m\u001b[0;32m\"2022/01/01 00:00\"\u001b[0m\u001b[1;39m,\n",
      "      \u001b[0m\u001b[34;1m\"sortfirstauthor\"\u001b[0m\u001b[1;39m: \u001b[0m\u001b[0;32m\"Fernández-Morales JC\"\u001b[0m\u001b[1;39m,\n",
      "      \u001b[0m\u001b[34;1m\"vernaculartitle\"\u001b[0m\u001b[1;39m: \u001b[0m\u001b[0;32m\"\"\u001b[0m\u001b[1;39m\n",
      "    \u001b[1;39m}\u001b[0m\u001b[1;39m,\n",
      "    \u001b[0m\u001b[34;1m\"34813140\"\u001b[0m\u001b[1;39m: \u001b[0m\u001b[1;39m{\n",
      "      \u001b[0m\u001b[34;1m\"uid\"\u001b[0m\u001b[1;39m: \u001b[0m\u001b[0;32m\"34813140\"\u001b[0m\u001b[1;39m,\n",
      "      \u001b[0m\u001b[34;1m\"pubdate\"\u001b[0m\u001b[1;39m: \u001b[0m\u001b[0;32m\"2022 Apr 5\"\u001b[0m\u001b[1;39m,\n",
      "      \u001b[0m\u001b[34;1m\"epubdate\"\u001b[0m\u001b[1;39m: \u001b[0m\u001b[0;32m\"2021 Dec 7\"\u001b[0m\u001b[1;39m,\n",
      "      \u001b[0m\u001b[34;1m\"source\"\u001b[0m\u001b[1;39m: \u001b[0m\u001b[0;32m\"Chembiochem\"\u001b[0m\u001b[1;39m,\n",
      "      \u001b[0m\u001b[34;1m\"authors\"\u001b[0m\u001b[1;39m: \u001b[0m\u001b[1;39m[\n",
      "        \u001b[1;39m{\n",
      "          \u001b[0m\u001b[34;1m\"name\"\u001b[0m\u001b[1;39m: \u001b[0m\u001b[0;32m\"Matsumoto K\"\u001b[0m\u001b[1;39m,\n",
      "          \u001b[0m\u001b[34;1m\"authtype\"\u001b[0m\u001b[1;39m: \u001b[0m\u001b[0;32m\"Author\"\u001b[0m\u001b[1;39m,\n",
      "          \u001b[0m\u001b[34;1m\"clusterid\"\u001b[0m\u001b[1;39m: \u001b[0m\u001b[0;32m\"\"\u001b[0m\u001b[1;39m\n",
      "        \u001b[1;39m}\u001b[0m\u001b[1;39m,\n",
      "        \u001b[1;39m{\n",
      "          \u001b[0m\u001b[34;1m\"name\"\u001b[0m\u001b[1;39m: \u001b[0m\u001b[0;32m\"Yoshida M\"\u001b[0m\u001b[1;39m,\n",
      "          \u001b[0m\u001b[34;1m\"authtype\"\u001b[0m\u001b[1;39m: \u001b[0m\u001b[0;32m\"Author\"\u001b[0m\u001b[1;39m,\n",
      "          \u001b[0m\u001b[34;1m\"clusterid\"\u001b[0m\u001b[1;39m: \u001b[0m\u001b[0;32m\"\"\u001b[0m\u001b[1;39m\n",
      "        \u001b[1;39m}\u001b[0m\u001b[1;39m\n",
      "      \u001b[1;39m]\u001b[0m\u001b[1;39m,\n",
      "      \u001b[0m\u001b[34;1m\"lastauthor\"\u001b[0m\u001b[1;39m: \u001b[0m\u001b[0;32m\"Yoshida M\"\u001b[0m\u001b[1;39m,\n",
      "      \u001b[0m\u001b[34;1m\"title\"\u001b[0m\u001b[1;39m: \u001b[0m\u001b[0;32m\"Mammalian Chemical Genomics towards Identifying Targets and Elucidating Modes-of-Action of Bioactive Compounds.\"\u001b[0m\u001b[1;39m,\n",
      "      \u001b[0m\u001b[34;1m\"sorttitle\"\u001b[0m\u001b[1;39m: \u001b[0m\u001b[0;32m\"mammalian chemical genomics towards identifying targets and elucidating modes of action of bioactive compounds\"\u001b[0m\u001b[1;39m,\n",
      "      \u001b[0m\u001b[34;1m\"volume\"\u001b[0m\u001b[1;39m: \u001b[0m\u001b[0;32m\"23\"\u001b[0m\u001b[1;39m,\n",
      "      \u001b[0m\u001b[34;1m\"issue\"\u001b[0m\u001b[1;39m: \u001b[0m\u001b[0;32m\"7\"\u001b[0m\u001b[1;39m,\n",
      "      \u001b[0m\u001b[34;1m\"pages\"\u001b[0m\u001b[1;39m: \u001b[0m\u001b[0;32m\"e202100561\"\u001b[0m\u001b[1;39m,\n",
      "      \u001b[0m\u001b[34;1m\"lang\"\u001b[0m\u001b[1;39m: \u001b[0m\u001b[1;39m[\n",
      "        \u001b[0;32m\"eng\"\u001b[0m\u001b[1;39m\n",
      "      \u001b[1;39m]\u001b[0m\u001b[1;39m,\n",
      "      \u001b[0m\u001b[34;1m\"nlmuniqueid\"\u001b[0m\u001b[1;39m: \u001b[0m\u001b[0;32m\"100937360\"\u001b[0m\u001b[1;39m,\n",
      "      \u001b[0m\u001b[34;1m\"issn\"\u001b[0m\u001b[1;39m: \u001b[0m\u001b[0;32m\"1439-4227\"\u001b[0m\u001b[1;39m,\n",
      "      \u001b[0m\u001b[34;1m\"essn\"\u001b[0m\u001b[1;39m: \u001b[0m\u001b[0;32m\"1439-7633\"\u001b[0m\u001b[1;39m,\n",
      "      \u001b[0m\u001b[34;1m\"pubtype\"\u001b[0m\u001b[1;39m: \u001b[0m\u001b[1;39m[\n",
      "        \u001b[0;32m\"Journal Article\"\u001b[0m\u001b[1;39m,\n",
      "        \u001b[0;32m\"Review\"\u001b[0m\u001b[1;39m\n",
      "      \u001b[1;39m]\u001b[0m\u001b[1;39m,\n",
      "      \u001b[0m\u001b[34;1m\"recordstatus\"\u001b[0m\u001b[1;39m: \u001b[0m\u001b[0;32m\"PubMed - indexed for MEDLINE\"\u001b[0m\u001b[1;39m,\n",
      "      \u001b[0m\u001b[34;1m\"pubstatus\"\u001b[0m\u001b[1;39m: \u001b[0m\u001b[0;32m\"256\"\u001b[0m\u001b[1;39m,\n",
      "      \u001b[0m\u001b[34;1m\"articleids\"\u001b[0m\u001b[1;39m: \u001b[0m\u001b[1;39m[\n",
      "        \u001b[1;39m{\n",
      "          \u001b[0m\u001b[34;1m\"idtype\"\u001b[0m\u001b[1;39m: \u001b[0m\u001b[0;32m\"pubmed\"\u001b[0m\u001b[1;39m,\n",
      "          \u001b[0m\u001b[34;1m\"idtypen\"\u001b[0m\u001b[1;39m: \u001b[0m\u001b[0;39m1\u001b[0m\u001b[1;39m,\n",
      "          \u001b[0m\u001b[34;1m\"value\"\u001b[0m\u001b[1;39m: \u001b[0m\u001b[0;32m\"34813140\"\u001b[0m\u001b[1;39m\n",
      "        \u001b[1;39m}\u001b[0m\u001b[1;39m,\n",
      "        \u001b[1;39m{\n",
      "          \u001b[0m\u001b[34;1m\"idtype\"\u001b[0m\u001b[1;39m: \u001b[0m\u001b[0;32m\"doi\"\u001b[0m\u001b[1;39m,\n",
      "          \u001b[0m\u001b[34;1m\"idtypen\"\u001b[0m\u001b[1;39m: \u001b[0m\u001b[0;39m3\u001b[0m\u001b[1;39m,\n",
      "          \u001b[0m\u001b[34;1m\"value\"\u001b[0m\u001b[1;39m: \u001b[0m\u001b[0;32m\"10.1002/cbic.202100561\"\u001b[0m\u001b[1;39m\n",
      "        \u001b[1;39m}\u001b[0m\u001b[1;39m\n",
      "      \u001b[1;39m]\u001b[0m\u001b[1;39m,\n",
      "      \u001b[0m\u001b[34;1m\"history\"\u001b[0m\u001b[1;39m: \u001b[0m\u001b[1;39m[\n",
      "        \u001b[1;39m{\n",
      "          \u001b[0m\u001b[34;1m\"pubstatus\"\u001b[0m\u001b[1;39m: \u001b[0m\u001b[0;32m\"revised\"\u001b[0m\u001b[1;39m,\n",
      "          \u001b[0m\u001b[34;1m\"date\"\u001b[0m\u001b[1;39m: \u001b[0m\u001b[0;32m\"2021/11/22 00:00\"\u001b[0m\u001b[1;39m\n",
      "        \u001b[1;39m}\u001b[0m\u001b[1;39m,\n",
      "        \u001b[1;39m{\n",
      "          \u001b[0m\u001b[34;1m\"pubstatus\"\u001b[0m\u001b[1;39m: \u001b[0m\u001b[0;32m\"received\"\u001b[0m\u001b[1;39m,\n",
      "          \u001b[0m\u001b[34;1m\"date\"\u001b[0m\u001b[1;39m: \u001b[0m\u001b[0;32m\"2021/10/16 00:00\"\u001b[0m\u001b[1;39m\n",
      "        \u001b[1;39m}\u001b[0m\u001b[1;39m,\n",
      "        \u001b[1;39m{\n",
      "          \u001b[0m\u001b[34;1m\"pubstatus\"\u001b[0m\u001b[1;39m: \u001b[0m\u001b[0;32m\"pubmed\"\u001b[0m\u001b[1;39m,\n",
      "          \u001b[0m\u001b[34;1m\"date\"\u001b[0m\u001b[1;39m: \u001b[0m\u001b[0;32m\"2021/11/24 06:00\"\u001b[0m\u001b[1;39m\n",
      "        \u001b[1;39m}\u001b[0m\u001b[1;39m,\n",
      "        \u001b[1;39m{\n",
      "          \u001b[0m\u001b[34;1m\"pubstatus\"\u001b[0m\u001b[1;39m: \u001b[0m\u001b[0;32m\"medline\"\u001b[0m\u001b[1;39m,\n",
      "          \u001b[0m\u001b[34;1m\"date\"\u001b[0m\u001b[1;39m: \u001b[0m\u001b[0;32m\"2022/04/08 06:00\"\u001b[0m\u001b[1;39m\n",
      "        \u001b[1;39m}\u001b[0m\u001b[1;39m,\n",
      "        \u001b[1;39m{\n",
      "          \u001b[0m\u001b[34;1m\"pubstatus\"\u001b[0m\u001b[1;39m: \u001b[0m\u001b[0;32m\"entrez\"\u001b[0m\u001b[1;39m,\n",
      "          \u001b[0m\u001b[34;1m\"date\"\u001b[0m\u001b[1;39m: \u001b[0m\u001b[0;32m\"2021/11/23 12:33\"\u001b[0m\u001b[1;39m\n",
      "        \u001b[1;39m}\u001b[0m\u001b[1;39m\n",
      "      \u001b[1;39m]\u001b[0m\u001b[1;39m,\n",
      "      \u001b[0m\u001b[34;1m\"references\"\u001b[0m\u001b[1;39m: \u001b[0m\u001b[1;39m[]\u001b[0m\u001b[1;39m,\n",
      "      \u001b[0m\u001b[34;1m\"attributes\"\u001b[0m\u001b[1;39m: \u001b[0m\u001b[1;39m[\n",
      "        \u001b[0;32m\"Has Abstract\"\u001b[0m\u001b[1;39m\n",
      "      \u001b[1;39m]\u001b[0m\u001b[1;39m,\n",
      "      \u001b[0m\u001b[34;1m\"pmcrefcount\"\u001b[0m\u001b[1;39m: \u001b[0m\u001b[0;32m\"\"\u001b[0m\u001b[1;39m,\n",
      "      \u001b[0m\u001b[34;1m\"fulljournalname\"\u001b[0m\u001b[1;39m: \u001b[0m\u001b[0;32m\"Chembiochem : a European journal of chemical biology\"\u001b[0m\u001b[1;39m,\n",
      "      \u001b[0m\u001b[34;1m\"elocationid\"\u001b[0m\u001b[1;39m: \u001b[0m\u001b[0;32m\"doi: 10.1002/cbic.202100561\"\u001b[0m\u001b[1;39m,\n",
      "      \u001b[0m\u001b[34;1m\"doctype\"\u001b[0m\u001b[1;39m: \u001b[0m\u001b[0;32m\"citation\"\u001b[0m\u001b[1;39m,\n",
      "      \u001b[0m\u001b[34;1m\"srccontriblist\"\u001b[0m\u001b[1;39m: \u001b[0m\u001b[1;39m[]\u001b[0m\u001b[1;39m,\n",
      "      \u001b[0m\u001b[34;1m\"booktitle\"\u001b[0m\u001b[1;39m: \u001b[0m\u001b[0;32m\"\"\u001b[0m\u001b[1;39m,\n",
      "      \u001b[0m\u001b[34;1m\"medium\"\u001b[0m\u001b[1;39m: \u001b[0m\u001b[0;32m\"\"\u001b[0m\u001b[1;39m,\n",
      "      \u001b[0m\u001b[34;1m\"edition\"\u001b[0m\u001b[1;39m: \u001b[0m\u001b[0;32m\"\"\u001b[0m\u001b[1;39m,\n",
      "      \u001b[0m\u001b[34;1m\"publisherlocation\"\u001b[0m\u001b[1;39m: \u001b[0m\u001b[0;32m\"\"\u001b[0m\u001b[1;39m,\n",
      "      \u001b[0m\u001b[34;1m\"publishername\"\u001b[0m\u001b[1;39m: \u001b[0m\u001b[0;32m\"\"\u001b[0m\u001b[1;39m,\n",
      "      \u001b[0m\u001b[34;1m\"srcdate\"\u001b[0m\u001b[1;39m: \u001b[0m\u001b[0;32m\"\"\u001b[0m\u001b[1;39m,\n",
      "      \u001b[0m\u001b[34;1m\"reportnumber\"\u001b[0m\u001b[1;39m: \u001b[0m\u001b[0;32m\"\"\u001b[0m\u001b[1;39m,\n",
      "      \u001b[0m\u001b[34;1m\"availablefromurl\"\u001b[0m\u001b[1;39m: \u001b[0m\u001b[0;32m\"\"\u001b[0m\u001b[1;39m,\n",
      "      \u001b[0m\u001b[34;1m\"locationlabel\"\u001b[0m\u001b[1;39m: \u001b[0m\u001b[0;32m\"\"\u001b[0m\u001b[1;39m,\n",
      "      \u001b[0m\u001b[34;1m\"doccontriblist\"\u001b[0m\u001b[1;39m: \u001b[0m\u001b[1;39m[]\u001b[0m\u001b[1;39m,\n",
      "      \u001b[0m\u001b[34;1m\"docdate\"\u001b[0m\u001b[1;39m: \u001b[0m\u001b[0;32m\"\"\u001b[0m\u001b[1;39m,\n",
      "      \u001b[0m\u001b[34;1m\"bookname\"\u001b[0m\u001b[1;39m: \u001b[0m\u001b[0;32m\"\"\u001b[0m\u001b[1;39m,\n",
      "      \u001b[0m\u001b[34;1m\"chapter\"\u001b[0m\u001b[1;39m: \u001b[0m\u001b[0;32m\"\"\u001b[0m\u001b[1;39m,\n",
      "      \u001b[0m\u001b[34;1m\"sortpubdate\"\u001b[0m\u001b[1;39m: \u001b[0m\u001b[0;32m\"2022/04/05 00:00\"\u001b[0m\u001b[1;39m,\n",
      "      \u001b[0m\u001b[34;1m\"sortfirstauthor\"\u001b[0m\u001b[1;39m: \u001b[0m\u001b[0;32m\"Matsumoto K\"\u001b[0m\u001b[1;39m,\n",
      "      \u001b[0m\u001b[34;1m\"vernaculartitle\"\u001b[0m\u001b[1;39m: \u001b[0m\u001b[0;32m\"\"\u001b[0m\u001b[1;39m\n",
      "    \u001b[1;39m}\u001b[0m\u001b[1;39m\n",
      "  \u001b[1;39m}\u001b[0m\u001b[1;39m\n",
      "\u001b[1;39m}\u001b[0m\n"
     ]
    }
   ],
   "source": [
    "!./api_call -i \"34813985,34813140\" | jq '.'"
   ]
  },
  {
   "cell_type": "markdown",
   "metadata": {},
   "source": [
    "To output the data for multiple ids from the PubMed API, we enter the following command:"
   ]
  },
  {
   "cell_type": "code",
   "execution_count": 10,
   "metadata": {},
   "outputs": [
    {
     "name": "stdout",
     "output_type": "stream",
     "text": [
      "\u001b[1;39m{\n",
      "  \u001b[0m\u001b[34;1m\"name\"\u001b[0m\u001b[1;39m: \u001b[0m\u001b[0;32m\"Scalfani VF\"\u001b[0m\u001b[1;39m,\n",
      "  \u001b[0m\u001b[34;1m\"authtype\"\u001b[0m\u001b[1;39m: \u001b[0m\u001b[0;32m\"Author\"\u001b[0m\u001b[1;39m,\n",
      "  \u001b[0m\u001b[34;1m\"clusterid\"\u001b[0m\u001b[1;39m: \u001b[0m\u001b[0;32m\"\"\u001b[0m\u001b[1;39m\n",
      "\u001b[1;39m}\u001b[0m\n",
      "\u001b[1;39m{\n",
      "  \u001b[0m\u001b[34;1m\"name\"\u001b[0m\u001b[1;39m: \u001b[0m\u001b[0;32m\"Williams AJ\"\u001b[0m\u001b[1;39m,\n",
      "  \u001b[0m\u001b[34;1m\"authtype\"\u001b[0m\u001b[1;39m: \u001b[0m\u001b[0;32m\"Author\"\u001b[0m\u001b[1;39m,\n",
      "  \u001b[0m\u001b[34;1m\"clusterid\"\u001b[0m\u001b[1;39m: \u001b[0m\u001b[0;32m\"\"\u001b[0m\u001b[1;39m\n",
      "\u001b[1;39m}\u001b[0m\n",
      "\u001b[1;39m{\n",
      "  \u001b[0m\u001b[34;1m\"name\"\u001b[0m\u001b[1;39m: \u001b[0m\u001b[0;32m\"Tkachenko V\"\u001b[0m\u001b[1;39m,\n",
      "  \u001b[0m\u001b[34;1m\"authtype\"\u001b[0m\u001b[1;39m: \u001b[0m\u001b[0;32m\"Author\"\u001b[0m\u001b[1;39m,\n",
      "  \u001b[0m\u001b[34;1m\"clusterid\"\u001b[0m\u001b[1;39m: \u001b[0m\u001b[0;32m\"\"\u001b[0m\u001b[1;39m\n",
      "\u001b[1;39m}\u001b[0m\n",
      "\u001b[1;39m{\n",
      "  \u001b[0m\u001b[34;1m\"name\"\u001b[0m\u001b[1;39m: \u001b[0m\u001b[0;32m\"Karapetyan K\"\u001b[0m\u001b[1;39m,\n",
      "  \u001b[0m\u001b[34;1m\"authtype\"\u001b[0m\u001b[1;39m: \u001b[0m\u001b[0;32m\"Author\"\u001b[0m\u001b[1;39m,\n",
      "  \u001b[0m\u001b[34;1m\"clusterid\"\u001b[0m\u001b[1;39m: \u001b[0m\u001b[0;32m\"\"\u001b[0m\u001b[1;39m\n",
      "\u001b[1;39m}\u001b[0m\n",
      "\u001b[1;39m{\n",
      "  \u001b[0m\u001b[34;1m\"name\"\u001b[0m\u001b[1;39m: \u001b[0m\u001b[0;32m\"Pshenichnov A\"\u001b[0m\u001b[1;39m,\n",
      "  \u001b[0m\u001b[34;1m\"authtype\"\u001b[0m\u001b[1;39m: \u001b[0m\u001b[0;32m\"Author\"\u001b[0m\u001b[1;39m,\n",
      "  \u001b[0m\u001b[34;1m\"clusterid\"\u001b[0m\u001b[1;39m: \u001b[0m\u001b[0;32m\"\"\u001b[0m\u001b[1;39m\n",
      "\u001b[1;39m}\u001b[0m\n",
      "\u001b[1;39m{\n",
      "  \u001b[0m\u001b[34;1m\"name\"\u001b[0m\u001b[1;39m: \u001b[0m\u001b[0;32m\"Hanson RM\"\u001b[0m\u001b[1;39m,\n",
      "  \u001b[0m\u001b[34;1m\"authtype\"\u001b[0m\u001b[1;39m: \u001b[0m\u001b[0;32m\"Author\"\u001b[0m\u001b[1;39m,\n",
      "  \u001b[0m\u001b[34;1m\"clusterid\"\u001b[0m\u001b[1;39m: \u001b[0m\u001b[0;32m\"\"\u001b[0m\u001b[1;39m\n",
      "\u001b[1;39m}\u001b[0m\n",
      "\u001b[1;39m{\n",
      "  \u001b[0m\u001b[34;1m\"name\"\u001b[0m\u001b[1;39m: \u001b[0m\u001b[0;32m\"Liddie JM\"\u001b[0m\u001b[1;39m,\n",
      "  \u001b[0m\u001b[34;1m\"authtype\"\u001b[0m\u001b[1;39m: \u001b[0m\u001b[0;32m\"Author\"\u001b[0m\u001b[1;39m,\n",
      "  \u001b[0m\u001b[34;1m\"clusterid\"\u001b[0m\u001b[1;39m: \u001b[0m\u001b[0;32m\"\"\u001b[0m\u001b[1;39m\n",
      "\u001b[1;39m}\u001b[0m\n",
      "\u001b[1;39m{\n",
      "  \u001b[0m\u001b[34;1m\"name\"\u001b[0m\u001b[1;39m: \u001b[0m\u001b[0;32m\"Bara JE\"\u001b[0m\u001b[1;39m,\n",
      "  \u001b[0m\u001b[34;1m\"authtype\"\u001b[0m\u001b[1;39m: \u001b[0m\u001b[0;32m\"Author\"\u001b[0m\u001b[1;39m,\n",
      "  \u001b[0m\u001b[34;1m\"clusterid\"\u001b[0m\u001b[1;39m: \u001b[0m\u001b[0;32m\"\"\u001b[0m\u001b[1;39m\n",
      "\u001b[1;39m}\u001b[0m\n"
     ]
    }
   ],
   "source": [
    "!./api_call | jq '.[\"result\"][\"27933103\"][\"authors\"][]'"
   ]
  },
  {
   "cell_type": "markdown",
   "metadata": {},
   "source": [
    "To output only the author names:"
   ]
  },
  {
   "cell_type": "code",
   "execution_count": 11,
   "metadata": {},
   "outputs": [
    {
     "name": "stdout",
     "output_type": "stream",
     "text": [
      "\u001b[0;32m\"Scalfani VF\"\u001b[0m\n",
      "\u001b[0;32m\"Williams AJ\"\u001b[0m\n",
      "\u001b[0;32m\"Tkachenko V\"\u001b[0m\n",
      "\u001b[0;32m\"Karapetyan K\"\u001b[0m\n",
      "\u001b[0;32m\"Pshenichnov A\"\u001b[0m\n",
      "\u001b[0;32m\"Hanson RM\"\u001b[0m\n",
      "\u001b[0;32m\"Liddie JM\"\u001b[0m\n",
      "\u001b[0;32m\"Bara JE\"\u001b[0m\n"
     ]
    }
   ],
   "source": [
    "!./api_call | jq '.[\"result\"][\"27933103\"][\"authors\"][][\"name\"]'"
   ]
  },
  {
   "cell_type": "markdown",
   "metadata": {},
   "source": [
    "To output the source name from the PubMed API, we enter the following command:"
   ]
  },
  {
   "cell_type": "code",
   "execution_count": 12,
   "metadata": {},
   "outputs": [
    {
     "name": "stdout",
     "output_type": "stream",
     "text": [
      "\u001b[0;32m\"Methods Mol Biol\"\u001b[0m\n"
     ]
    }
   ],
   "source": [
    "!./api_call -i 34813072 | jq '.[\"result\"][\"34813072\"][\"source\"]'"
   ]
  },
  {
   "cell_type": "markdown",
   "metadata": {},
   "source": [
    "Here, we output the source name for multiple ids:"
   ]
  },
  {
   "cell_type": "code",
   "execution_count": 13,
   "metadata": {},
   "outputs": [
    {
     "name": "stdout",
     "output_type": "stream",
     "text": [
      "\u001b[0;32m\"Cell Calcium\"\u001b[0m\n",
      "\u001b[0;32m\"Methods\"\u001b[0m\n",
      "\u001b[0;32m\"FEBS J\"\u001b[0m\n",
      "\u001b[0;32m\"Dev Growth Differ\"\u001b[0m\n",
      "\u001b[0;32m\"CRISPR J\"\u001b[0m\n",
      "\u001b[0;32m\"Chembiochem\"\u001b[0m\n",
      "\u001b[0;32m\"Methods Mol Biol\"\u001b[0m\n"
     ]
    }
   ],
   "source": [
    "!idList=('34813985' '34813932' '34813684' '34813661' '34813372' '34813140' '34813072');\\\n",
    "for id in \"${idList[@]}\"; \\\n",
    "do ./api_call -i \"$id\" | jq --arg location \"$id\" '.[\"result\"][$location][\"source\"]'; \\\n",
    "sleep 1 ; \\\n",
    "done"
   ]
  },
  {
   "cell_type": "markdown",
   "metadata": {
    "pycharm": {
     "name": "#%% md\n"
    }
   },
   "source": [
    "### 3. PubMed API Calls with Requests & Parameters\n"
   ]
  },
  {
   "cell_type": "markdown",
   "metadata": {},
   "source": [
    "We go back to our original directory"
   ]
  },
  {
   "cell_type": "code",
   "execution_count": null,
   "metadata": {},
   "outputs": [],
   "source": [
    "%cd .."
   ]
  },
  {
   "cell_type": "markdown",
   "metadata": {},
   "source": [
    "We initialize a folder for the current project that we are working on. And then change to that directory"
   ]
  },
  {
   "cell_type": "code",
   "execution_count": 15,
   "metadata": {},
   "outputs": [],
   "source": [
    "!mkdir api_request_parameter"
   ]
  },
  {
   "cell_type": "markdown",
   "metadata": {},
   "source": [
    "We then change directory to the project that we are working on"
   ]
  },
  {
   "cell_type": "code",
   "execution_count": null,
   "metadata": {},
   "outputs": [],
   "source": [
    "%cd api_request_parameter"
   ]
  },
  {
   "cell_type": "code",
   "execution_count": null,
   "metadata": {},
   "outputs": [],
   "source": [
    "%%file makefile\n",
    "\n",
    "\n",
    "#sets the variable CC to gcc, which is used to build the program\n",
    "CC=gcc\n",
    "\n",
    "#enable debugging information and enable all compiler warnings\n",
    "CFLAGS=-g -Wall\n",
    "\n",
    "#sets the bin variable as the name of the binary file we are creating\n",
    "BIN=api_req_par\n",
    "\n",
    "#creates the binary file with the name we put\n",
    "all: $(BIN)\n",
    "\n",
    "#maps any file ending in .c to a binary executable. \n",
    "#\"$<\" represents the .c file and \"$@\" represents the target binary executable\n",
    "%: %.c\n",
    "\n",
    "#compiles the .c file using the gcc compiler with the CFLAGS and links \n",
    "#resulting binary with the CURL library\n",
    "\t$(CC) $(CFLAGS) $< -o $@ -lcurl\n",
    "\n",
    "#clean target which removes specific files\n",
    "clean:\n",
    "\n",
    "#removes the binary file and an \".dSYM\" (debug symbols for debugging) directories\n",
    "#the RM command used -r to remove directories and -f to force delete\n",
    "\t$(RM) -rf $(BIN) *.dSYM\n"
   ]
  },
  {
   "cell_type": "markdown",
   "metadata": {},
   "source": [
    "The command is used again to create our .c file which contains the code for the program"
   ]
  },
  {
   "cell_type": "code",
   "execution_count": null,
   "metadata": {},
   "outputs": [],
   "source": [
    "%%file api_req_par.c\n",
    "\n",
    "#include <curl/curl.h>\n",
    "#include <stdio.h>\n",
    "#include <stdlib.h>\n",
    "#include <string.h>\n",
    "\n",
    "/*CURL program that retrieves JSON data from the PubMed API\n",
    "This program allows custom request to be used along with the parameter*/\n",
    "\n",
    "\n",
    "/* We are going to be inputting the custom database and query like this: ./api_req_par -d \"pubmed\" -q \"neuroscience+intervention+learning\"\n",
    "If the arguments are missing then we use the default: \"pubmed\" \"neuroscience\"\n",
    "*/\n",
    "\n",
    "int main (int argc, char* argv[]){\n",
    "    \n",
    "    //if arguments are invalid just return\n",
    "    if (argc > 5){                                                                                      \n",
    "        printf(\"Error. Please try again correctly.\\n\");\n",
    "        return -1;\n",
    "    }\n",
    "\n",
    "    //default parameter and request codes\n",
    "    char parameter[100] = {};\n",
    "    char request[500] = {}; \n",
    "\n",
    "    //if there is ./api_req_par -d/-q\n",
    "    if ((argc == 1) || ((argc == 2) && ((strcmp(argv[1], \"-d\")==0) || (strcmp(argv[1], \"-q\")==0)))){\n",
    "        //these arguments run the default parameters and keeps the codes as they are\n",
    "        strcat(parameter,\"pubmed\");\n",
    "        strcat(request, \"neuroscience\");\n",
    "    }\n",
    "\n",
    "    //if there is ./api_req_par -d \"pubmed\"\n",
    "    else if ((argc == 3) && (strcmp(argv[1], \"-d\")==0)){\n",
    "        //only the parameter code is changed\n",
    "        strcat(parameter,argv[2]);\n",
    "        strcat(request, \"neuroscience\");\n",
    "    }\n",
    "\n",
    "    //if there is ./api_req_par -d \"pubmed\" -q\n",
    "    else if ((argc == 4) && (strcmp(argv[1], \"-d\")==0) && (strcmp(argv[3], \"-q\")==0)){\n",
    "        //only the parameter code is changed\n",
    "        strcat(parameter,argv[2]);\n",
    "        strcat(request, \"neuroscience\");\n",
    "    }\n",
    "\n",
    "    //if there is ./api_req_par -d \"pubmed\" -q \"neuroscience+intervention+learning\"\n",
    "    else if ((argc == 5) && (strcmp(argv[1], \"-d\")==0) && (strcmp(argv[3], \"-q\")==0)){\n",
    "        //both the parameter and request codes are changed\n",
    "        strcat(parameter,argv[2]);\n",
    "        strcat(request, argv[4]);\n",
    "    }\n",
    "\n",
    "    //if there is ./api_req_par -q \"neuroscience+intervention+learning\"\n",
    "    else if ((argc == 3) && (strcmp(argv[1], \"-q\")==0)){\n",
    "        //only the request code is changed\n",
    "        strcat(parameter,\"pubmed\");\n",
    "        strcat(request, argv[2]);\n",
    "    }\n",
    "\n",
    "    //if there is ./api_req_par -q \"neuroscience+intervention+learning\" -d\n",
    "    else if ((argc == 4) && (strcmp(argv[1], \"-q\")==0) && (strcmp(argv[3], \"-d\")==0)){\n",
    "        //only the request code is changed\n",
    "        strcat(parameter,\"pubmed\");\n",
    "        strcat(request, argv[2]);\n",
    "    }\n",
    "\n",
    "    //if there is ./api_req_par -q \"neuroscience+intervention+learning\" -d \"pubmed\" \n",
    "    else if ((argc == 5) && (strcmp(argv[1], \"-q\")==0) && (strcmp(argv[3], \"-d\")==0)){\n",
    "        //both the request and parameter codes are changed\n",
    "        strcat(parameter,argv[4]);\n",
    "        strcat(request, argv[2]);\n",
    "    }\n",
    "\n",
    "    else{\n",
    "        printf(\"usage: ./api_req_par [-q] request [-d] parameter\\n\\n\");\n",
    "        printf(\"the api_req_par program is used to retrieve json data from the PubMed API\\n\\n\");\n",
    "        printf(\"optional arguments\\n\");\n",
    "        printf(\"\\t -q query        optional custom query; default is 'neuroscience'\\n\");\n",
    "        printf(\"\\t -d parameter    optional custom database code; default is 'pubmed',  see: https://www.ncbi.nlm.nih.gov/books/NBK25499/\\n\");\n",
    "        return -1;\n",
    "    }\n",
    "\n",
    "    //initializes the CURL HTTP connection\n",
    "    CURL *curl = curl_easy_init();\n",
    "\n",
    "    //bits of the url that are joined together later\n",
    "    char api[] = \"https://eutils.ncbi.nlm.nih.gov/entrez/eutils/esearch.fcgi?db=\";                                                                     \n",
    "    char type1[] = \"&\";\n",
    "    char type2[] = \"term=\";\n",
    "    char type3[] = \"&retmode=json\";                           \n",
    "    char url[1000];\n",
    "\n",
    "    //checks if CURL initialization is a success or not\n",
    "    if (!curl){                                                                                         \n",
    "        fprintf(stderr, \"init failed\\n\");\n",
    "        return EXIT_FAILURE;\n",
    "    }\n",
    "        \n",
    "    //combines all the bits to produce a functioning url\n",
    "    sprintf(url, \"%s%s%s%s%s%s\", api, parameter, type1 , type2, request, type3);                                             \n",
    "                                          \n",
    "\n",
    "    //sets the url to which the HTTP request will be sent to\n",
    "    //first parameter is for the initialized curl HTTP request, second for the option to be set, and third for the value to be set\n",
    "    curl_easy_setopt(curl, CURLOPT_URL, url);\n",
    "\n",
    "    //if result is not retrieved then output error\n",
    "    CURLcode result = curl_easy_perform(curl);\n",
    "\n",
    "    //if result is not retrieved then output error\n",
    "    if (result != CURLE_OK){                                                                            \n",
    "        fprintf(stderr, \"download problem: %s\\n\", curl_easy_strerror(result));\n",
    "    }\n",
    "\n",
    "    //deallocates memory for the CURL connection\n",
    "    curl_easy_cleanup(curl);                                                                            \n",
    "    return EXIT_SUCCESS;\n",
    "}"
   ]
  },
  {
   "cell_type": "markdown",
   "metadata": {},
   "source": [
    "The folowing program is run, and an executable is created after using the following command:"
   ]
  },
  {
   "cell_type": "code",
   "execution_count": null,
   "metadata": {},
   "outputs": [],
   "source": [
    "!make"
   ]
  },
  {
   "cell_type": "markdown",
   "metadata": {},
   "source": [
    "The default parameter is \"pubmed\" and the default requests are \"neuroscience\""
   ]
  },
  {
   "cell_type": "markdown",
   "metadata": {},
   "source": [
    "The folowing program is run, and an executable is created after using the following command:  "
   ]
  },
  {
   "cell_type": "code",
   "execution_count": 20,
   "metadata": {},
   "outputs": [
    {
     "name": "stdout",
     "output_type": "stream",
     "text": [
      "\u001b[1;39m{\n",
      "  \u001b[0m\u001b[34;1m\"header\"\u001b[0m\u001b[1;39m: \u001b[0m\u001b[1;39m{\n",
      "    \u001b[0m\u001b[34;1m\"type\"\u001b[0m\u001b[1;39m: \u001b[0m\u001b[0;32m\"esearch\"\u001b[0m\u001b[1;39m,\n",
      "    \u001b[0m\u001b[34;1m\"version\"\u001b[0m\u001b[1;39m: \u001b[0m\u001b[0;32m\"0.3\"\u001b[0m\u001b[1;39m\n",
      "  \u001b[1;39m}\u001b[0m\u001b[1;39m,\n",
      "  \u001b[0m\u001b[34;1m\"esearchresult\"\u001b[0m\u001b[1;39m: \u001b[0m\u001b[1;39m{\n",
      "    \u001b[0m\u001b[34;1m\"count\"\u001b[0m\u001b[1;39m: \u001b[0m\u001b[0;32m\"576170\"\u001b[0m\u001b[1;39m,\n",
      "    \u001b[0m\u001b[34;1m\"retmax\"\u001b[0m\u001b[1;39m: \u001b[0m\u001b[0;32m\"20\"\u001b[0m\u001b[1;39m,\n",
      "    \u001b[0m\u001b[34;1m\"retstart\"\u001b[0m\u001b[1;39m: \u001b[0m\u001b[0;32m\"0\"\u001b[0m\u001b[1;39m,\n",
      "    \u001b[0m\u001b[34;1m\"idlist\"\u001b[0m\u001b[1;39m: \u001b[0m\u001b[1;39m[\n",
      "      \u001b[0;32m\"37489579\"\u001b[0m\u001b[1;39m,\n",
      "      \u001b[0;32m\"37489574\"\u001b[0m\u001b[1;39m,\n",
      "      \u001b[0;32m\"37489570\"\u001b[0m\u001b[1;39m,\n",
      "      \u001b[0;32m\"37489566\"\u001b[0m\u001b[1;39m,\n",
      "      \u001b[0;32m\"37489562\"\u001b[0m\u001b[1;39m,\n",
      "      \u001b[0;32m\"37489558\"\u001b[0m\u001b[1;39m,\n",
      "      \u001b[0;32m\"37489555\"\u001b[0m\u001b[1;39m,\n",
      "      \u001b[0;32m\"37489510\"\u001b[0m\u001b[1;39m,\n",
      "      \u001b[0;32m\"37489491\"\u001b[0m\u001b[1;39m,\n",
      "      \u001b[0;32m\"37489403\"\u001b[0m\u001b[1;39m,\n",
      "      \u001b[0;32m\"37489378\"\u001b[0m\u001b[1;39m,\n",
      "      \u001b[0;32m\"37489373\"\u001b[0m\u001b[1;39m,\n",
      "      \u001b[0;32m\"37489359\"\u001b[0m\u001b[1;39m,\n",
      "      \u001b[0;32m\"37489358\"\u001b[0m\u001b[1;39m,\n",
      "      \u001b[0;32m\"37489354\"\u001b[0m\u001b[1;39m,\n",
      "      \u001b[0;32m\"37489326\"\u001b[0m\u001b[1;39m,\n",
      "      \u001b[0;32m\"37489297\"\u001b[0m\u001b[1;39m,\n",
      "      \u001b[0;32m\"37489273\"\u001b[0m\u001b[1;39m,\n",
      "      \u001b[0;32m\"37489152\"\u001b[0m\u001b[1;39m,\n",
      "      \u001b[0;32m\"37489105\"\u001b[0m\u001b[1;39m\n",
      "    \u001b[1;39m]\u001b[0m\u001b[1;39m,\n",
      "    \u001b[0m\u001b[34;1m\"translationset\"\u001b[0m\u001b[1;39m: \u001b[0m\u001b[1;39m[\n",
      "      \u001b[1;39m{\n",
      "        \u001b[0m\u001b[34;1m\"from\"\u001b[0m\u001b[1;39m: \u001b[0m\u001b[0;32m\"neuroscience\"\u001b[0m\u001b[1;39m,\n",
      "        \u001b[0m\u001b[34;1m\"to\"\u001b[0m\u001b[1;39m: \u001b[0m\u001b[0;32m\"\\\"neuroscience's\\\"[All Fields] OR \\\"neurosciences\\\"[MeSH Terms] OR \\\"neurosciences\\\"[All Fields] OR \\\"neuroscience\\\"[All Fields]\"\u001b[0m\u001b[1;39m\n",
      "      \u001b[1;39m}\u001b[0m\u001b[1;39m\n",
      "    \u001b[1;39m]\u001b[0m\u001b[1;39m,\n",
      "    \u001b[0m\u001b[34;1m\"querytranslation\"\u001b[0m\u001b[1;39m: \u001b[0m\u001b[0;32m\"\\\"neuroscience s\\\"[All Fields] OR \\\"neurosciences\\\"[MeSH Terms] OR \\\"neurosciences\\\"[All Fields] OR \\\"neuroscience\\\"[All Fields]\"\u001b[0m\u001b[1;39m\n",
      "  \u001b[1;39m}\u001b[0m\u001b[1;39m\n",
      "\u001b[1;39m}\u001b[0m\n"
     ]
    }
   ],
   "source": [
    "!./api_req_par| jq '.'"
   ]
  },
  {
   "cell_type": "code",
   "execution_count": 21,
   "metadata": {},
   "outputs": [
    {
     "name": "stdout",
     "output_type": "stream",
     "text": [
      "\u001b[1;39m{\n",
      "  \u001b[0m\u001b[34;1m\"header\"\u001b[0m\u001b[1;39m: \u001b[0m\u001b[1;39m{\n",
      "    \u001b[0m\u001b[34;1m\"type\"\u001b[0m\u001b[1;39m: \u001b[0m\u001b[0;32m\"esearch\"\u001b[0m\u001b[1;39m,\n",
      "    \u001b[0m\u001b[34;1m\"version\"\u001b[0m\u001b[1;39m: \u001b[0m\u001b[0;32m\"0.3\"\u001b[0m\u001b[1;39m\n",
      "  \u001b[1;39m}\u001b[0m\u001b[1;39m,\n",
      "  \u001b[0m\u001b[34;1m\"esearchresult\"\u001b[0m\u001b[1;39m: \u001b[0m\u001b[1;39m{\n",
      "    \u001b[0m\u001b[34;1m\"count\"\u001b[0m\u001b[1;39m: \u001b[0m\u001b[0;32m\"126\"\u001b[0m\u001b[1;39m,\n",
      "    \u001b[0m\u001b[34;1m\"retmax\"\u001b[0m\u001b[1;39m: \u001b[0m\u001b[0;32m\"20\"\u001b[0m\u001b[1;39m,\n",
      "    \u001b[0m\u001b[34;1m\"retstart\"\u001b[0m\u001b[1;39m: \u001b[0m\u001b[0;32m\"0\"\u001b[0m\u001b[1;39m,\n",
      "    \u001b[0m\u001b[34;1m\"idlist\"\u001b[0m\u001b[1;39m: \u001b[0m\u001b[1;39m[\n",
      "      \u001b[0;32m\"139196123\"\u001b[0m\u001b[1;39m,\n",
      "      \u001b[0;32m\"139196122\"\u001b[0m\u001b[1;39m,\n",
      "      \u001b[0;32m\"139196121\"\u001b[0m\u001b[1;39m,\n",
      "      \u001b[0;32m\"138319320\"\u001b[0m\u001b[1;39m,\n",
      "      \u001b[0;32m\"134716626\"\u001b[0m\u001b[1;39m,\n",
      "      \u001b[0;32m\"132282528\"\u001b[0m\u001b[1;39m,\n",
      "      \u001b[0;32m\"131953074\"\u001b[0m\u001b[1;39m,\n",
      "      \u001b[0;32m\"131750206\"\u001b[0m\u001b[1;39m,\n",
      "      \u001b[0;32m\"131716973\"\u001b[0m\u001b[1;39m,\n",
      "      \u001b[0;32m\"129682947\"\u001b[0m\u001b[1;39m,\n",
      "      \u001b[0;32m\"129672411\"\u001b[0m\u001b[1;39m,\n",
      "      \u001b[0;32m\"123131972\"\u001b[0m\u001b[1;39m,\n",
      "      \u001b[0;32m\"102337568\"\u001b[0m\u001b[1;39m,\n",
      "      \u001b[0;32m\"91820534\"\u001b[0m\u001b[1;39m,\n",
      "      \u001b[0;32m\"91820043\"\u001b[0m\u001b[1;39m,\n",
      "      \u001b[0;32m\"91819941\"\u001b[0m\u001b[1;39m,\n",
      "      \u001b[0;32m\"90478514\"\u001b[0m\u001b[1;39m,\n",
      "      \u001b[0;32m\"86676097\"\u001b[0m\u001b[1;39m,\n",
      "      \u001b[0;32m\"78401031\"\u001b[0m\u001b[1;39m,\n",
      "      \u001b[0;32m\"77845952\"\u001b[0m\u001b[1;39m\n",
      "    \u001b[1;39m]\u001b[0m\u001b[1;39m,\n",
      "    \u001b[0m\u001b[34;1m\"translationset\"\u001b[0m\u001b[1;39m: \u001b[0m\u001b[1;39m[]\u001b[0m\u001b[1;39m,\n",
      "    \u001b[0m\u001b[34;1m\"translationstack\"\u001b[0m\u001b[1;39m: \u001b[0m\u001b[1;39m[\n",
      "      \u001b[1;39m{\n",
      "        \u001b[0m\u001b[34;1m\"term\"\u001b[0m\u001b[1;39m: \u001b[0m\u001b[0;32m\"aspirin[All Fields]\"\u001b[0m\u001b[1;39m,\n",
      "        \u001b[0m\u001b[34;1m\"field\"\u001b[0m\u001b[1;39m: \u001b[0m\u001b[0;32m\"All Fields\"\u001b[0m\u001b[1;39m,\n",
      "        \u001b[0m\u001b[34;1m\"count\"\u001b[0m\u001b[1;39m: \u001b[0m\u001b[0;32m\"180\"\u001b[0m\u001b[1;39m,\n",
      "        \u001b[0m\u001b[34;1m\"explode\"\u001b[0m\u001b[1;39m: \u001b[0m\u001b[0;32m\"N\"\u001b[0m\u001b[1;39m\n",
      "      \u001b[1;39m}\u001b[0m\u001b[1;39m,\n",
      "      \u001b[0;32m\"GROUP\"\u001b[0m\u001b[1;39m\n",
      "    \u001b[1;39m]\u001b[0m\u001b[1;39m,\n",
      "    \u001b[0m\u001b[34;1m\"querytranslation\"\u001b[0m\u001b[1;39m: \u001b[0m\u001b[0;32m\"aspirin[All Fields]\"\u001b[0m\u001b[1;39m\n",
      "  \u001b[1;39m}\u001b[0m\u001b[1;39m\n",
      "\u001b[1;39m}\u001b[0m\n"
     ]
    }
   ],
   "source": [
    "!./api_req_par -q \"aspirin\" -d \"pccompound\" | jq '.'"
   ]
  },
  {
   "cell_type": "markdown",
   "metadata": {},
   "source": [
    "The number of returned IDs can be adjusted with the retmax paramater:"
   ]
  },
  {
   "cell_type": "code",
   "execution_count": 22,
   "metadata": {},
   "outputs": [
    {
     "name": "stdout",
     "output_type": "stream",
     "text": [
      "\u001b[1;39m[\n",
      "  \u001b[0;32m\"37488554\"\u001b[0m\u001b[1;39m,\n",
      "  \u001b[0;32m\"37487822\"\u001b[0m\u001b[1;39m,\n",
      "  \u001b[0;32m\"37487320\"\u001b[0m\u001b[1;39m,\n",
      "  \u001b[0;32m\"37486497\"\u001b[0m\u001b[1;39m,\n",
      "  \u001b[0;32m\"37485692\"\u001b[0m\u001b[1;39m,\n",
      "  \u001b[0;32m\"37485663\"\u001b[0m\u001b[1;39m,\n",
      "  \u001b[0;32m\"37484979\"\u001b[0m\u001b[1;39m,\n",
      "  \u001b[0;32m\"37484917\"\u001b[0m\u001b[1;39m,\n",
      "  \u001b[0;32m\"37483584\"\u001b[0m\u001b[1;39m,\n",
      "  \u001b[0;32m\"37483354\"\u001b[0m\u001b[1;39m,\n",
      "  \u001b[0;32m\"37483038\"\u001b[0m\u001b[1;39m,\n",
      "  \u001b[0;32m\"37481676\"\u001b[0m\u001b[1;39m,\n",
      "  \u001b[0;32m\"37481666\"\u001b[0m\u001b[1;39m,\n",
      "  \u001b[0;32m\"37480442\"\u001b[0m\u001b[1;39m,\n",
      "  \u001b[0;32m\"37480080\"\u001b[0m\u001b[1;39m,\n",
      "  \u001b[0;32m\"37479991\"\u001b[0m\u001b[1;39m,\n",
      "  \u001b[0;32m\"37479917\"\u001b[0m\u001b[1;39m,\n",
      "  \u001b[0;32m\"37479341\"\u001b[0m\u001b[1;39m,\n",
      "  \u001b[0;32m\"37479244\"\u001b[0m\u001b[1;39m,\n",
      "  \u001b[0;32m\"37477974\"\u001b[0m\u001b[1;39m,\n",
      "  \u001b[0;32m\"37476322\"\u001b[0m\u001b[1;39m,\n",
      "  \u001b[0;32m\"37476302\"\u001b[0m\u001b[1;39m,\n",
      "  \u001b[0;32m\"37476079\"\u001b[0m\u001b[1;39m,\n",
      "  \u001b[0;32m\"37476005\"\u001b[0m\u001b[1;39m,\n",
      "  \u001b[0;32m\"37475187\"\u001b[0m\u001b[1;39m\n",
      "\u001b[1;39m]\u001b[0m\n"
     ]
    }
   ],
   "source": [
    "!./api_req_par -q \"neuroscience+intervention+learning&retmax=25\" | jq '.esearchresult.idlist'"
   ]
  },
  {
   "cell_type": "code",
   "execution_count": 23,
   "metadata": {},
   "outputs": [
    {
     "name": "stdout",
     "output_type": "stream",
     "text": [
      "\u001b[0;39m25\u001b[0m\n"
     ]
    }
   ],
   "source": [
    "!./api_req_par -q \"neuroscience+intervention+learning&retmax=25\" | jq '.esearchresult.idlist | length'"
   ]
  },
  {
   "cell_type": "markdown",
   "metadata": {
    "pycharm": {
     "name": "#%% md\n"
    }
   },
   "source": [
    "We can also use the query to search for an author.\n",
    "\n",
    "we will add ```[au]``` after the name to specify it is an author"
   ]
  },
  {
   "cell_type": "code",
   "execution_count": 24,
   "metadata": {},
   "outputs": [
    {
     "name": "stdout",
     "output_type": "stream",
     "text": [
      "\u001b[0;32m\"630\"\u001b[0m\n"
     ]
    }
   ],
   "source": [
    "!./api_req_par -q \"Darwin[au]\" | jq '.esearchresult.count'"
   ]
  },
  {
   "cell_type": "markdown",
   "metadata": {
    "pycharm": {
     "name": "#%% md\n"
    }
   },
   "source": [
    "We get the idlist for the custom request:"
   ]
  },
  {
   "cell_type": "code",
   "execution_count": 25,
   "metadata": {},
   "outputs": [
    {
     "name": "stdout",
     "output_type": "stream",
     "text": [
      "\u001b[1;39m[\n",
      "  \u001b[0;32m\"37393678\"\u001b[0m\u001b[1;39m,\n",
      "  \u001b[0;32m\"37315600\"\u001b[0m\u001b[1;39m,\n",
      "  \u001b[0;32m\"37209734\"\u001b[0m\u001b[1;39m,\n",
      "  \u001b[0;32m\"37290662\"\u001b[0m\u001b[1;39m,\n",
      "  \u001b[0;32m\"37286001\"\u001b[0m\u001b[1;39m,\n",
      "  \u001b[0;32m\"37257610\"\u001b[0m\u001b[1;39m,\n",
      "  \u001b[0;32m\"37247740\"\u001b[0m\u001b[1;39m,\n",
      "  \u001b[0;32m\"37286027\"\u001b[0m\u001b[1;39m,\n",
      "  \u001b[0;32m\"37399735\"\u001b[0m\u001b[1;39m,\n",
      "  \u001b[0;32m\"37385181\"\u001b[0m\u001b[1;39m,\n",
      "  \u001b[0;32m\"37331272\"\u001b[0m\u001b[1;39m,\n",
      "  \u001b[0;32m\"37311517\"\u001b[0m\u001b[1;39m,\n",
      "  \u001b[0;32m\"37137368\"\u001b[0m\u001b[1;39m,\n",
      "  \u001b[0;32m\"37105476\"\u001b[0m\u001b[1;39m,\n",
      "  \u001b[0;32m\"37022443\"\u001b[0m\u001b[1;39m,\n",
      "  \u001b[0;32m\"36549653\"\u001b[0m\u001b[1;39m,\n",
      "  \u001b[0;32m\"37465983\"\u001b[0m\u001b[1;39m,\n",
      "  \u001b[0;32m\"37487981\"\u001b[0m\u001b[1;39m,\n",
      "  \u001b[0;32m\"37481620\"\u001b[0m\u001b[1;39m,\n",
      "  \u001b[0;32m\"37100135\"\u001b[0m\u001b[1;39m\n",
      "\u001b[1;39m]\u001b[0m\n"
     ]
    }
   ],
   "source": [
    "!./api_req_par -q \"Coral+Reefs&retmode=json&usehistory=y&sort=pub+date\" | jq '.esearchresult.idlist'"
   ]
  },
  {
   "cell_type": "markdown",
   "metadata": {},
   "source": [
    "Searching based on publication types:\n",
    "\n",
    "we can do this by adding **AND** into the search\n",
    "```\n",
    "term=<searchQuery>+AND+filter[filterType]\n",
    "```\n",
    "```[pt]``` specifies that the filter type is publication type\n",
    "\n",
    "More filters can be found at https://pubmed.ncbi.nlm.nih.gov/help/"
   ]
  },
  {
   "cell_type": "code",
   "execution_count": 26,
   "metadata": {},
   "outputs": [
    {
     "name": "stdout",
     "output_type": "stream",
     "text": [
      "\u001b[1;39m{\n",
      "  \u001b[0m\u001b[34;1m\"esearchresult\"\u001b[0m\u001b[1;39m: \u001b[0m\u001b[1;39m{\n",
      "    \u001b[0m\u001b[34;1m\"count\"\u001b[0m\u001b[1;39m: \u001b[0m\u001b[0;32m\"6355\"\u001b[0m\u001b[1;39m,\n",
      "    \u001b[0m\u001b[34;1m\"retmax\"\u001b[0m\u001b[1;39m: \u001b[0m\u001b[0;32m\"20\"\u001b[0m\u001b[1;39m,\n",
      "    \u001b[0m\u001b[34;1m\"retstart\"\u001b[0m\u001b[1;39m: \u001b[0m\u001b[0;32m\"0\"\u001b[0m\u001b[1;39m,\n",
      "    \u001b[0m\u001b[34;1m\"idlist\"\u001b[0m\u001b[1;39m: \u001b[0m\u001b[1;39m[\n",
      "      \u001b[0;32m\"37445825\"\u001b[0m\u001b[1;39m,\n",
      "      \u001b[0;32m\"37443807\"\u001b[0m\u001b[1;39m,\n",
      "      \u001b[0;32m\"37426430\"\u001b[0m\u001b[1;39m,\n",
      "      \u001b[0;32m\"37414012\"\u001b[0m\u001b[1;39m,\n",
      "      \u001b[0;32m\"37408043\"\u001b[0m\u001b[1;39m,\n",
      "      \u001b[0;32m\"37380983\"\u001b[0m\u001b[1;39m,\n",
      "      \u001b[0;32m\"37377666\"\u001b[0m\u001b[1;39m,\n",
      "      \u001b[0;32m\"37365605\"\u001b[0m\u001b[1;39m,\n",
      "      \u001b[0;32m\"37355369\"\u001b[0m\u001b[1;39m,\n",
      "      \u001b[0;32m\"37353884\"\u001b[0m\u001b[1;39m,\n",
      "      \u001b[0;32m\"37345256\"\u001b[0m\u001b[1;39m,\n",
      "      \u001b[0;32m\"37331950\"\u001b[0m\u001b[1;39m,\n",
      "      \u001b[0;32m\"37316949\"\u001b[0m\u001b[1;39m,\n",
      "      \u001b[0;32m\"37285522\"\u001b[0m\u001b[1;39m,\n",
      "      \u001b[0;32m\"37267913\"\u001b[0m\u001b[1;39m,\n",
      "      \u001b[0;32m\"37245011\"\u001b[0m\u001b[1;39m,\n",
      "      \u001b[0;32m\"37244942\"\u001b[0m\u001b[1;39m,\n",
      "      \u001b[0;32m\"37221247\"\u001b[0m\u001b[1;39m,\n",
      "      \u001b[0;32m\"37218316\"\u001b[0m\u001b[1;39m,\n",
      "      \u001b[0;32m\"37206071\"\u001b[0m\u001b[1;39m\n",
      "    \u001b[1;39m]\u001b[0m\u001b[1;39m,\n",
      "    \u001b[0m\u001b[34;1m\"translationset\"\u001b[0m\u001b[1;39m: \u001b[0m\u001b[1;39m[\n",
      "      \u001b[1;39m{\n",
      "        \u001b[0m\u001b[34;1m\"from\"\u001b[0m\u001b[1;39m: \u001b[0m\u001b[0;32m\"stem cells\"\u001b[0m\u001b[1;39m,\n",
      "        \u001b[0m\u001b[34;1m\"to\"\u001b[0m\u001b[1;39m: \u001b[0m\u001b[0;32m\"\\\"stem cells\\\"[MeSH Terms] OR (\\\"stem\\\"[All Fields] AND \\\"cells\\\"[All Fields]) OR \\\"stem cells\\\"[All Fields]\"\u001b[0m\u001b[1;39m\n",
      "      \u001b[1;39m}\u001b[0m\u001b[1;39m\n",
      "    \u001b[1;39m]\u001b[0m\u001b[1;39m,\n",
      "    \u001b[0m\u001b[34;1m\"querytranslation\"\u001b[0m\u001b[1;39m: \u001b[0m\u001b[0;32m\"(\\\"stem cells\\\"[MeSH Terms] OR (\\\"stem\\\"[All Fields] AND \\\"cells\\\"[All Fields]) OR \\\"stem cells\\\"[All Fields]) AND \\\"clinical trial\\\"[Publication Type]\"\u001b[0m\u001b[1;39m\n",
      "  \u001b[1;39m}\u001b[0m\u001b[1;39m\n",
      "\u001b[1;39m}\u001b[0m\n"
     ]
    }
   ],
   "source": [
    "!./api_req_par -q \"stem+cells+AND+clinical+trial[pt]\" | jq '{esearchresult: .esearchresult}'"
   ]
  },
  {
   "cell_type": "markdown",
   "metadata": {
    "pycharm": {
     "name": "#%% md\n"
    }
   },
   "source": [
    "### 4. PubMed API metadata visualization"
   ]
  },
  {
   "cell_type": "markdown",
   "metadata": {},
   "source": [
    "#### Frequency of topic sortpubdate field\n",
    "Extracting the sortpubdate field for a “hydrogel drug” search results, limited to publication type clinical trials:"
   ]
  },
  {
   "cell_type": "code",
   "execution_count": 27,
   "metadata": {},
   "outputs": [
    {
     "name": "stdout",
     "output_type": "stream",
     "text": [
      "\u001b[1;39m[\n",
      "  \u001b[0;32m\"36418469\"\u001b[0m\u001b[1;39m,\n",
      "  \u001b[0;32m\"36870516\"\u001b[0m\u001b[1;39m,\n",
      "  \u001b[0;32m\"36842739\"\u001b[0m\u001b[1;39m,\n",
      "  \u001b[0;32m\"36203046\"\u001b[0m\u001b[1;39m,\n",
      "  \u001b[0;32m\"36261491\"\u001b[0m\u001b[1;39m,\n",
      "  \u001b[0;32m\"35830550\"\u001b[0m\u001b[1;39m,\n",
      "  \u001b[0;32m\"34653384\"\u001b[0m\u001b[1;39m,\n",
      "  \u001b[0;32m\"35556170\"\u001b[0m\u001b[1;39m,\n",
      "  \u001b[0;32m\"35413602\"\u001b[0m\u001b[1;39m,\n",
      "  \u001b[0;32m\"35041809\"\u001b[0m\u001b[1;39m\n",
      "\u001b[1;39m]\u001b[0m\n"
     ]
    }
   ],
   "source": [
    "!./api_req_par -q \"hydrogel+drug+AND+clinical+trial[pt]&sort=pub+date&retmax=500\" | jq '.esearchresult.idlist[0:10]'"
   ]
  },
  {
   "cell_type": "code",
   "execution_count": 28,
   "metadata": {},
   "outputs": [
    {
     "name": "stdout",
     "output_type": "stream",
     "text": [
      "\u001b[0;39m302\u001b[0m\n"
     ]
    }
   ],
   "source": [
    "!./api_req_par -q \"hydrogel+drug+AND+clinical+trial[pt]&sort=pub+date&retmax=500\" | jq '.esearchresult.idlist | length'"
   ]
  },
  {
   "cell_type": "markdown",
   "metadata": {},
   "source": [
    "The following code will store the list of IDs in a text file:"
   ]
  },
  {
   "cell_type": "code",
   "execution_count": 29,
   "metadata": {},
   "outputs": [],
   "source": [
    "!./api_req_par -q \"hydrogel+drug+AND+clinical+trial[pt]&sort=pub+date&retmax=500\" | jq '.esearchresult.idlist' > idList.txt"
   ]
  },
  {
   "cell_type": "markdown",
   "metadata": {},
   "source": [
    "To format the text file we use:"
   ]
  },
  {
   "cell_type": "code",
   "execution_count": 30,
   "metadata": {},
   "outputs": [],
   "source": [
    "!cat idList.txt | tr -d '\",[]' > idList2.txt"
   ]
  },
  {
   "cell_type": "code",
   "execution_count": 31,
   "metadata": {},
   "outputs": [],
   "source": [
    "!sed -i '/^$/d' idList2.txt"
   ]
  },
  {
   "cell_type": "code",
   "execution_count": 32,
   "metadata": {},
   "outputs": [
    {
     "name": "stdout",
     "output_type": "stream",
     "text": [
      "302\n"
     ]
    }
   ],
   "source": [
    "!cat idList2.txt | wc -l"
   ]
  },
  {
   "cell_type": "markdown",
   "metadata": {},
   "source": [
    "Show the first 10 IDs:"
   ]
  },
  {
   "cell_type": "code",
   "execution_count": 33,
   "metadata": {},
   "outputs": [
    {
     "name": "stdout",
     "output_type": "stream",
     "text": [
      "  36418469\n",
      "  36870516\n",
      "  36842739\n",
      "  36203046\n",
      "  36261491\n",
      "  35830550\n",
      "  34653384\n",
      "  35556170\n",
      "  35413602\n",
      "  35041809\n"
     ]
    }
   ],
   "source": [
    "!head -10 idList2.txt"
   ]
  },
  {
   "cell_type": "markdown",
   "metadata": {},
   "source": [
    "We want to get the E-summary of each of the IDs:"
   ]
  },
  {
   "cell_type": "markdown",
   "metadata": {},
   "source": [
    "Hence we copy the api_call program from our previous project to our current directory"
   ]
  },
  {
   "cell_type": "code",
   "execution_count": 34,
   "metadata": {},
   "outputs": [],
   "source": [
    "!cp ../basic_api_call/api_call ."
   ]
  },
  {
   "cell_type": "markdown",
   "metadata": {},
   "source": [
    "We test to see if we get the date for one ID"
   ]
  },
  {
   "cell_type": "code",
   "execution_count": 35,
   "metadata": {},
   "outputs": [
    {
     "name": "stdout",
     "output_type": "stream",
     "text": [
      "\u001b[0;32m\"2022/01/01\"\u001b[0m\n"
     ]
    }
   ],
   "source": [
    "!./api_call -i 34813072 | jq '.[\"result\"][\"34813072\"][\"sortpubdate\"][0:10]'"
   ]
  },
  {
   "cell_type": "markdown",
   "metadata": {},
   "source": [
    "We then do the same to all the IDs and store them in a .txt file"
   ]
  },
  {
   "cell_type": "code",
   "execution_count": 36,
   "metadata": {},
   "outputs": [],
   "source": [
    "%%bash\n",
    "while read id; do\n",
    "  ./api_call -i \"$id\" \\\n",
    "  | jq --arg ids \"$id\" '.[\"result\"][$ids][\"sortpubdate\"][0:10]' \\\n",
    "  >> date_time.txt\n",
    "  sleep 1\n",
    "done < idList2.txt"
   ]
  },
  {
   "cell_type": "code",
   "execution_count": 37,
   "metadata": {},
   "outputs": [
    {
     "name": "stdout",
     "output_type": "stream",
     "text": [
      "\"2023/07/01\"\n",
      "\"2023/05/01\"\n",
      "\"2023/05/01\"\n",
      "\"2022/12/01\"\n",
      "\"2022/10/19\"\n",
      "\"2022/10/01\"\n",
      "\"2022/10/01\"\n",
      "\"2022/08/01\"\n",
      "\"2022/06/01\"\n",
      "\"2022/05/01\"\n"
     ]
    }
   ],
   "source": [
    "!head -10 date_time.txt"
   ]
  },
  {
   "cell_type": "markdown",
   "metadata": {
    "pycharm": {
     "name": "#%% md\n"
    }
   },
   "source": [
    "#### Frequency of publication for an author search"
   ]
  },
  {
   "cell_type": "code",
   "execution_count": 38,
   "metadata": {},
   "outputs": [
    {
     "name": "stdout",
     "output_type": "stream",
     "text": [
      "\u001b[0;32m\"59\"\u001b[0m\n"
     ]
    }
   ],
   "source": [
    "!./api_req_par -q \"Reed+LK[au]&sort=pub+date&retmax=500\" | jq '.[\"esearchresult\"][\"count\"]'"
   ]
  },
  {
   "cell_type": "markdown",
   "metadata": {},
   "source": [
    "We store the id list data in a .txt file"
   ]
  },
  {
   "cell_type": "code",
   "execution_count": 39,
   "metadata": {},
   "outputs": [],
   "source": [
    "!./api_req_par -q \"Reed+LK[au]&sort=pub+date&retmax=500\" | jq '.[\"esearchresult\"][\"idlist\"]' > id_list3.txt"
   ]
  },
  {
   "cell_type": "markdown",
   "metadata": {},
   "source": [
    "To format the text file we use:"
   ]
  },
  {
   "cell_type": "code",
   "execution_count": 40,
   "metadata": {},
   "outputs": [],
   "source": [
    "!cat id_list3.txt | tr -d '\",[]' > idList4.txt"
   ]
  },
  {
   "cell_type": "code",
   "execution_count": 41,
   "metadata": {},
   "outputs": [],
   "source": [
    "!sed -i '/^$/d' idList4.txt"
   ]
  },
  {
   "cell_type": "code",
   "execution_count": 42,
   "metadata": {},
   "outputs": [
    {
     "name": "stdout",
     "output_type": "stream",
     "text": [
      "59\n"
     ]
    }
   ],
   "source": [
    "!cat idList4.txt | wc -l"
   ]
  },
  {
   "cell_type": "markdown",
   "metadata": {},
   "source": [
    "Show the first 10 IDs:"
   ]
  },
  {
   "cell_type": "code",
   "execution_count": 43,
   "metadata": {},
   "outputs": [
    {
     "name": "stdout",
     "output_type": "stream",
     "text": [
      "  37302379\n",
      "  36871651\n",
      "  37292993\n",
      "  36468157\n",
      "  35691520\n",
      "  36061313\n",
      "  35856017\n",
      "  34801137\n",
      "  34786536\n",
      "  34425636\n"
     ]
    }
   ],
   "source": [
    "!head -10 idList4.txt"
   ]
  },
  {
   "cell_type": "code",
   "execution_count": 44,
   "metadata": {},
   "outputs": [],
   "source": [
    "%%bash\n",
    "while read id; do\n",
    "  ./api_call -i \"$id\" \\\n",
    "  | jq --arg ids \"$id\" '.[\"result\"][$ids][\"sortpubdate\"][0:10]' \\\n",
    "  >> date_time2.txt\n",
    "  sleep 1\n",
    "done < idList4.txt"
   ]
  }
 ],
 "metadata": {
  "kernelspec": {
   "display_name": "Python 3.10.6 64-bit",
   "language": "python",
   "name": "python3"
  },
  "language_info": {
   "codemirror_mode": {
    "name": "ipython",
    "version": 3
   },
   "file_extension": ".py",
   "mimetype": "text/x-python",
   "name": "python",
   "nbconvert_exporter": "python",
   "pygments_lexer": "ipython3",
   "version": "3.11.4"
  },
  "orig_nbformat": 4,
  "vscode": {
   "interpreter": {
    "hash": "916dbcbb3f70747c44a77c7bcd40155683ae19c65e1c03b4aa3499c5328201f1"
   }
  }
 },
 "nbformat": 4,
 "nbformat_minor": 2
}
