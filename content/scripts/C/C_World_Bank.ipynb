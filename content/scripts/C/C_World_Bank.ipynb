{
 "cells": [
  {
   "cell_type": "markdown",
   "metadata": {
    "id": "Gi_GQQaRW8DO"
   },
   "source": [
    "# ...in C"
   ]
  },
  {
   "cell_type": "markdown",
   "metadata": {
    "collapsed": true,
    "id": "MBVDGBofWuxw",
    "pycharm": {
     "name": "#%% md\n"
    }
   },
   "source": [
    "## World Bank API in C\n",
    "\n",
    "by Cyrus Hartwin Gomes and Dr. Vincent Scalfani\n",
    "\n",
    "See the [World Bank API documentation](https://datahelpdesk.worldbank.org/knowledgebase/articles/889392-about-the-indicators-api-documentation)\n",
    "\n",
    "These recipe examples were tested on July 25, 2023"
   ]
  },
  {
   "cell_type": "markdown",
   "metadata": {
    "id": "c09M9YME1Yny"
   },
   "source": [
    "### Setup"
   ]
  },
  {
   "cell_type": "markdown",
   "metadata": {
    "id": "S74qQhZV1Ynz"
   },
   "source": [
    "First, install the CURL and jq package by typing the following command in the terminal:"
   ]
  },
  {
   "cell_type": "code",
   "execution_count": null,
   "metadata": {},
   "outputs": [],
   "source": [
    "!sudo apt install curl jq libcurl4-openssl-dev"
   ]
  },
  {
   "cell_type": "markdown",
   "metadata": {},
   "source": [
    "First we set a directory where we want the WorldBank directory for our projects to be created "
   ]
  },
  {
   "cell_type": "code",
   "execution_count": 1,
   "metadata": {},
   "outputs": [],
   "source": [
    "!mkdir World_Bank"
   ]
  },
  {
   "cell_type": "markdown",
   "metadata": {},
   "source": [
    "We change the directory to the folder we created"
   ]
  },
  {
   "cell_type": "code",
   "execution_count": null,
   "metadata": {},
   "outputs": [],
   "source": [
    "%cd World_Bank"
   ]
  },
  {
   "cell_type": "markdown",
   "metadata": {
    "id": "DqUjAIV_Xkhf"
   },
   "source": [
    "\n",
    "### 1. Get list of country iso2Codes and names"
   ]
  },
  {
   "cell_type": "markdown",
   "metadata": {
    "collapsed": false,
    "id": "SAB4FM54Wuxy",
    "pycharm": {
     "name": "#%% md\n"
    }
   },
   "source": [
    "For obtaining data from the World Bank API, it is helpful to first obtain a list of country codes and names."
   ]
  },
  {
   "cell_type": "markdown",
   "metadata": {},
   "source": [
    "We initialize a folder for the current project that we are working on. And then change to that directory"
   ]
  },
  {
   "cell_type": "code",
   "execution_count": 3,
   "metadata": {},
   "outputs": [],
   "source": [
    "!mkdir iso2Codes_names"
   ]
  },
  {
   "cell_type": "code",
   "execution_count": null,
   "metadata": {},
   "outputs": [],
   "source": [
    "%cd iso2Codes_names"
   ]
  },
  {
   "cell_type": "markdown",
   "metadata": {},
   "source": [
    "Then we utilize the following command (%%file) to create the following makefile which will compile our program and create an executable."
   ]
  },
  {
   "cell_type": "code",
   "execution_count": null,
   "metadata": {},
   "outputs": [],
   "source": [
    "%%file makefile\n",
    "\n",
    "#sets the variable CC to gcc, which is used to build the program\n",
    "CC=gcc\n",
    "\n",
    "#enable debugging information and enable all compiler warnings\n",
    "CFLAGS=-g -Wall\n",
    "\n",
    "#sets the bin variable as the name of the binary file we are creating\n",
    "BIN=iso2Codes\n",
    "\n",
    "#creates the binary file with the name we put\n",
    "all: $(BIN)\n",
    "\n",
    "#maps any file ending in .c to a binary executable. \n",
    "#\"$<\" represents the .c file and \"$@\" represents the target binary executable\n",
    "%: %.c\n",
    "\n",
    "#compiles the .c file using the gcc compiler with the CFLAGS and links \n",
    "#resulting binary with the CURL library\n",
    "\t$(CC) $(CFLAGS) $< -o $@ -lcurl\n",
    "\n",
    "#clean target which removes specific files\n",
    "clean:\n",
    "\n",
    "#removes the binary file and an \".dSYM\" (debug symbols for debugging) directories\n",
    "#the RM command used -r to remove directories and -f to force delete\n",
    "\t$(RM) -rf $(BIN) *.dSYM\n"
   ]
  },
  {
   "cell_type": "markdown",
   "metadata": {},
   "source": [
    "The command is used again to create our .c file which contains the code for the program"
   ]
  },
  {
   "cell_type": "code",
   "execution_count": null,
   "metadata": {},
   "outputs": [],
   "source": [
    "%%file iso2Codes.c\n",
    "\n",
    "#include <curl/curl.h>\n",
    "#include <stdio.h>\n",
    "#include <stdlib.h>\n",
    "#include <string.h>\n",
    "\n",
    "/*CURL program that retrieves JSON data from the World Bank API*/\n",
    "\n",
    "int main (int argc, char* argv[]){\n",
    "    \n",
    "    //if arguments are invalid just return\n",
    "    if (argc > 1){                                                                                      \n",
    "        printf(\"Error. Please try again correctly.\\n\");\n",
    "        return -1;\n",
    "    }\n",
    "\n",
    "    //initializes the CURL HTTP connection\n",
    "    CURL *curl = curl_easy_init();\n",
    "\n",
    "    //bits of the url that are joined together later                                                                      \n",
    "    char api[] = \"https://api.worldbank.org/v2/\";                            \n",
    "    char url[1000];\n",
    "    char label[] = \"country/?format=json&per_page=500\";\n",
    "\n",
    "    //checks if CURL initialization is a success or not\n",
    "    if (!curl){                                                                                         \n",
    "        fprintf(stderr, \"init failed\\n\");\n",
    "        return EXIT_FAILURE;\n",
    "    }\n",
    "        \n",
    "    //combines all the bits to produce a functioning url\n",
    "    sprintf(url, \"%s%s\", api, label);                                             \n",
    "                                          \n",
    "\n",
    "    //sets the url to which the HTTP request will be sent to\n",
    "    //first parameter is for the initialized curl HTTP request, second for the option to be set, and third for the value to be set\n",
    "    curl_easy_setopt(curl, CURLOPT_URL, url);\n",
    "\n",
    "    //if result is not retrieved then output error\n",
    "    CURLcode result = curl_easy_perform(curl);\n",
    "\n",
    "    //if result is not retrieved then output error\n",
    "    if (result != CURLE_OK){                                                                            \n",
    "        fprintf(stderr, \"download problem: %s\\n\", curl_easy_strerror(result));\n",
    "    }\n",
    "\n",
    "    //deallocates memory for the CURL connection\n",
    "    curl_easy_cleanup(curl);                                                                            \n",
    "    return EXIT_SUCCESS;\n",
    "}"
   ]
  },
  {
   "cell_type": "markdown",
   "metadata": {},
   "source": [
    "The folowing program is run, and an executable is created after using the following command:"
   ]
  },
  {
   "cell_type": "code",
   "execution_count": null,
   "metadata": {},
   "outputs": [],
   "source": [
    "!make"
   ]
  },
  {
   "cell_type": "markdown",
   "metadata": {},
   "source": [
    "To output the data from the WOrld Bank API, we enter the following command:"
   ]
  },
  {
   "cell_type": "code",
   "execution_count": 8,
   "metadata": {},
   "outputs": [
    {
     "name": "stdout",
     "output_type": "stream",
     "text": [
      "\u001b[1;39m{\n",
      "  \u001b[0m\u001b[34;1m\"id\"\u001b[0m\u001b[1;39m: \u001b[0m\u001b[0;32m\"ABW\"\u001b[0m\u001b[1;39m,\n",
      "  \u001b[0m\u001b[34;1m\"iso2Code\"\u001b[0m\u001b[1;39m: \u001b[0m\u001b[0;32m\"AW\"\u001b[0m\u001b[1;39m,\n",
      "  \u001b[0m\u001b[34;1m\"name\"\u001b[0m\u001b[1;39m: \u001b[0m\u001b[0;32m\"Aruba\"\u001b[0m\u001b[1;39m,\n",
      "  \u001b[0m\u001b[34;1m\"region\"\u001b[0m\u001b[1;39m: \u001b[0m\u001b[1;39m{\n",
      "    \u001b[0m\u001b[34;1m\"id\"\u001b[0m\u001b[1;39m: \u001b[0m\u001b[0;32m\"LCN\"\u001b[0m\u001b[1;39m,\n",
      "    \u001b[0m\u001b[34;1m\"iso2code\"\u001b[0m\u001b[1;39m: \u001b[0m\u001b[0;32m\"ZJ\"\u001b[0m\u001b[1;39m,\n",
      "    \u001b[0m\u001b[34;1m\"value\"\u001b[0m\u001b[1;39m: \u001b[0m\u001b[0;32m\"Latin America & Caribbean \"\u001b[0m\u001b[1;39m\n",
      "  \u001b[1;39m}\u001b[0m\u001b[1;39m,\n",
      "  \u001b[0m\u001b[34;1m\"adminregion\"\u001b[0m\u001b[1;39m: \u001b[0m\u001b[1;39m{\n",
      "    \u001b[0m\u001b[34;1m\"id\"\u001b[0m\u001b[1;39m: \u001b[0m\u001b[0;32m\"\"\u001b[0m\u001b[1;39m,\n",
      "    \u001b[0m\u001b[34;1m\"iso2code\"\u001b[0m\u001b[1;39m: \u001b[0m\u001b[0;32m\"\"\u001b[0m\u001b[1;39m,\n",
      "    \u001b[0m\u001b[34;1m\"value\"\u001b[0m\u001b[1;39m: \u001b[0m\u001b[0;32m\"\"\u001b[0m\u001b[1;39m\n",
      "  \u001b[1;39m}\u001b[0m\u001b[1;39m,\n",
      "  \u001b[0m\u001b[34;1m\"incomeLevel\"\u001b[0m\u001b[1;39m: \u001b[0m\u001b[1;39m{\n",
      "    \u001b[0m\u001b[34;1m\"id\"\u001b[0m\u001b[1;39m: \u001b[0m\u001b[0;32m\"HIC\"\u001b[0m\u001b[1;39m,\n",
      "    \u001b[0m\u001b[34;1m\"iso2code\"\u001b[0m\u001b[1;39m: \u001b[0m\u001b[0;32m\"XD\"\u001b[0m\u001b[1;39m,\n",
      "    \u001b[0m\u001b[34;1m\"value\"\u001b[0m\u001b[1;39m: \u001b[0m\u001b[0;32m\"High income\"\u001b[0m\u001b[1;39m\n",
      "  \u001b[1;39m}\u001b[0m\u001b[1;39m,\n",
      "  \u001b[0m\u001b[34;1m\"lendingType\"\u001b[0m\u001b[1;39m: \u001b[0m\u001b[1;39m{\n",
      "    \u001b[0m\u001b[34;1m\"id\"\u001b[0m\u001b[1;39m: \u001b[0m\u001b[0;32m\"LNX\"\u001b[0m\u001b[1;39m,\n",
      "    \u001b[0m\u001b[34;1m\"iso2code\"\u001b[0m\u001b[1;39m: \u001b[0m\u001b[0;32m\"XX\"\u001b[0m\u001b[1;39m,\n",
      "    \u001b[0m\u001b[34;1m\"value\"\u001b[0m\u001b[1;39m: \u001b[0m\u001b[0;32m\"Not classified\"\u001b[0m\u001b[1;39m\n",
      "  \u001b[1;39m}\u001b[0m\u001b[1;39m,\n",
      "  \u001b[0m\u001b[34;1m\"capitalCity\"\u001b[0m\u001b[1;39m: \u001b[0m\u001b[0;32m\"Oranjestad\"\u001b[0m\u001b[1;39m,\n",
      "  \u001b[0m\u001b[34;1m\"longitude\"\u001b[0m\u001b[1;39m: \u001b[0m\u001b[0;32m\"-70.0167\"\u001b[0m\u001b[1;39m,\n",
      "  \u001b[0m\u001b[34;1m\"latitude\"\u001b[0m\u001b[1;39m: \u001b[0m\u001b[0;32m\"12.5167\"\u001b[0m\u001b[1;39m\n",
      "\u001b[1;39m}\u001b[0m\n"
     ]
    }
   ],
   "source": [
    "!./iso2Codes | jq '.[1][0]'"
   ]
  },
  {
   "cell_type": "code",
   "execution_count": 9,
   "metadata": {},
   "outputs": [
    {
     "name": "stdout",
     "output_type": "stream",
     "text": [
      "\u001b[0;32m\"AW: Aruba\"\u001b[0m\n",
      "\u001b[0;32m\"ZH: Africa Eastern and Southern\"\u001b[0m\n",
      "\u001b[0;32m\"AF: Afghanistan\"\u001b[0m\n",
      "\u001b[0;32m\"A9: Africa\"\u001b[0m\n",
      "\u001b[0;32m\"ZI: Africa Western and Central\"\u001b[0m\n",
      "\u001b[0;32m\"AO: Angola\"\u001b[0m\n",
      "\u001b[0;32m\"AL: Albania\"\u001b[0m\n",
      "\u001b[0;32m\"AD: Andorra\"\u001b[0m\n",
      "\u001b[0;32m\"1A: Arab World\"\u001b[0m\n",
      "\u001b[0;32m\"AE: United Arab Emirates\"\u001b[0m\n",
      "\u001b[0;32m\"AR: Argentina\"\u001b[0m\n",
      "\u001b[0;32m\"AM: Armenia\"\u001b[0m\n",
      "\u001b[0;32m\"AS: American Samoa\"\u001b[0m\n",
      "\u001b[0;32m\"AG: Antigua and Barbuda\"\u001b[0m\n",
      "\u001b[0;32m\"AU: Australia\"\u001b[0m\n",
      "\u001b[0;32m\"AT: Austria\"\u001b[0m\n",
      "\u001b[0;32m\"AZ: Azerbaijan\"\u001b[0m\n",
      "\u001b[0;32m\"BI: Burundi\"\u001b[0m\n",
      "\u001b[0;32m\"B4: East Asia & Pacific (IBRD-only countries)\"\u001b[0m\n",
      "\u001b[0;32m\"B7: Europe & Central Asia (IBRD-only countries)\"\u001b[0m\n",
      "\u001b[0;32m\"BE: Belgium\"\u001b[0m\n",
      "\u001b[0;32m\"BJ: Benin\"\u001b[0m\n",
      "\u001b[0;32m\"BF: Burkina Faso\"\u001b[0m\n",
      "\u001b[0;32m\"BD: Bangladesh\"\u001b[0m\n",
      "\u001b[0;32m\"BG: Bulgaria\"\u001b[0m\n",
      "\u001b[0;32m\"B1: IBRD countries classified as high income\"\u001b[0m\n",
      "\u001b[0;32m\"BH: Bahrain\"\u001b[0m\n",
      "\u001b[0;32m\"BS: Bahamas, The\"\u001b[0m\n",
      "\u001b[0;32m\"BA: Bosnia and Herzegovina\"\u001b[0m\n",
      "\u001b[0;32m\"B2: Latin America & the Caribbean (IBRD-only countries)\"\u001b[0m\n",
      "\u001b[0;32m\"BY: Belarus\"\u001b[0m\n",
      "\u001b[0;32m\"BZ: Belize\"\u001b[0m\n",
      "\u001b[0;32m\"B3: Middle East & North Africa (IBRD-only countries)\"\u001b[0m\n",
      "\u001b[0;32m\"BM: Bermuda\"\u001b[0m\n",
      "\u001b[0;32m\"BO: Bolivia\"\u001b[0m\n",
      "\u001b[0;32m\"BR: Brazil\"\u001b[0m\n",
      "\u001b[0;32m\"BB: Barbados\"\u001b[0m\n",
      "\u001b[0;32m\"BN: Brunei Darussalam\"\u001b[0m\n",
      "\u001b[0;32m\"B6: Sub-Saharan Africa (IBRD-only countries)\"\u001b[0m\n",
      "\u001b[0;32m\"BT: Bhutan\"\u001b[0m\n",
      "\u001b[0;32m\"BW: Botswana\"\u001b[0m\n",
      "\u001b[0;32m\"C9: Sub-Saharan Africa (IFC classification)\"\u001b[0m\n",
      "\u001b[0;32m\"CF: Central African Republic\"\u001b[0m\n",
      "\u001b[0;32m\"CA: Canada\"\u001b[0m\n",
      "\u001b[0;32m\"C4: East Asia and the Pacific (IFC classification)\"\u001b[0m\n",
      "\u001b[0;32m\"B8: Central Europe and the Baltics\"\u001b[0m\n",
      "\u001b[0;32m\"C5: Europe and Central Asia (IFC classification)\"\u001b[0m\n",
      "\u001b[0;32m\"CH: Switzerland\"\u001b[0m\n",
      "\u001b[0;32m\"JG: Channel Islands\"\u001b[0m\n",
      "\u001b[0;32m\"CL: Chile\"\u001b[0m\n",
      "\u001b[0;32m\"CN: China\"\u001b[0m\n",
      "\u001b[0;32m\"CI: Cote d'Ivoire\"\u001b[0m\n",
      "\u001b[0;32m\"C6: Latin America and the Caribbean (IFC classification)\"\u001b[0m\n",
      "\u001b[0;32m\"C7: Middle East and North Africa (IFC classification)\"\u001b[0m\n",
      "\u001b[0;32m\"CM: Cameroon\"\u001b[0m\n",
      "\u001b[0;32m\"CD: Congo, Dem. Rep.\"\u001b[0m\n",
      "\u001b[0;32m\"CG: Congo, Rep.\"\u001b[0m\n",
      "\u001b[0;32m\"CO: Colombia\"\u001b[0m\n",
      "\u001b[0;32m\"KM: Comoros\"\u001b[0m\n",
      "\u001b[0;32m\"CV: Cabo Verde\"\u001b[0m\n",
      "\u001b[0;32m\"CR: Costa Rica\"\u001b[0m\n",
      "\u001b[0;32m\"C8: South Asia (IFC classification)\"\u001b[0m\n",
      "\u001b[0;32m\"S3: Caribbean small states\"\u001b[0m\n",
      "\u001b[0;32m\"CU: Cuba\"\u001b[0m\n",
      "\u001b[0;32m\"CW: Curacao\"\u001b[0m\n",
      "\u001b[0;32m\"KY: Cayman Islands\"\u001b[0m\n",
      "\u001b[0;32m\"CY: Cyprus\"\u001b[0m\n",
      "\u001b[0;32m\"CZ: Czechia\"\u001b[0m\n",
      "\u001b[0;32m\"D4: East Asia & Pacific (IDA-eligible countries)\"\u001b[0m\n",
      "\u001b[0;32m\"D7: Europe & Central Asia (IDA-eligible countries)\"\u001b[0m\n",
      "\u001b[0;32m\"DE: Germany\"\u001b[0m\n",
      "\u001b[0;32m\"DJ: Djibouti\"\u001b[0m\n",
      "\u001b[0;32m\"D2: Latin America & the Caribbean (IDA-eligible countries)\"\u001b[0m\n",
      "\u001b[0;32m\"DM: Dominica\"\u001b[0m\n",
      "\u001b[0;32m\"D3: Middle East & North Africa (IDA-eligible countries)\"\u001b[0m\n",
      "\u001b[0;32m\"DK: Denmark\"\u001b[0m\n",
      "\u001b[0;32m\"N6: IDA countries in Sub-Saharan Africa not classified as fragile situations \"\u001b[0m\n",
      "\u001b[0;32m\"DO: Dominican Republic\"\u001b[0m\n",
      "\u001b[0;32m\"D5: South Asia (IDA-eligible countries)\"\u001b[0m\n",
      "\u001b[0;32m\"F6: IDA countries in Sub-Saharan Africa classified as fragile situations \"\u001b[0m\n",
      "\u001b[0;32m\"D6: Sub-Saharan Africa (IDA-eligible countries)\"\u001b[0m\n",
      "\u001b[0;32m\"DZ: Algeria\"\u001b[0m\n",
      "\u001b[0;32m\"4E: East Asia & Pacific (excluding high income)\"\u001b[0m\n",
      "\u001b[0;32m\"V2: Early-demographic dividend\"\u001b[0m\n",
      "\u001b[0;32m\"Z4: East Asia & Pacific\"\u001b[0m\n",
      "\u001b[0;32m\"7E: Europe & Central Asia (excluding high income)\"\u001b[0m\n",
      "\u001b[0;32m\"Z7: Europe & Central Asia\"\u001b[0m\n",
      "\u001b[0;32m\"EC: Ecuador\"\u001b[0m\n",
      "\u001b[0;32m\"EG: Egypt, Arab Rep.\"\u001b[0m\n",
      "\u001b[0;32m\"XC: Euro area\"\u001b[0m\n",
      "\u001b[0;32m\"ER: Eritrea\"\u001b[0m\n",
      "\u001b[0;32m\"ES: Spain\"\u001b[0m\n",
      "\u001b[0;32m\"EE: Estonia\"\u001b[0m\n",
      "\u001b[0;32m\"ET: Ethiopia\"\u001b[0m\n",
      "\u001b[0;32m\"EU: European Union\"\u001b[0m\n",
      "\u001b[0;32m\"F1: Fragile and conflict affected situations\"\u001b[0m\n",
      "\u001b[0;32m\"FI: Finland\"\u001b[0m\n",
      "\u001b[0;32m\"FJ: Fiji\"\u001b[0m\n",
      "\u001b[0;32m\"FR: France\"\u001b[0m\n",
      "\u001b[0;32m\"FO: Faroe Islands\"\u001b[0m\n",
      "\u001b[0;32m\"FM: Micronesia, Fed. Sts.\"\u001b[0m\n",
      "\u001b[0;32m\"6F: IDA countries classified as fragile situations, excluding Sub-Saharan Africa\"\u001b[0m\n",
      "\u001b[0;32m\"GA: Gabon\"\u001b[0m\n",
      "\u001b[0;32m\"GB: United Kingdom\"\u001b[0m\n",
      "\u001b[0;32m\"GE: Georgia\"\u001b[0m\n",
      "\u001b[0;32m\"GH: Ghana\"\u001b[0m\n",
      "\u001b[0;32m\"GI: Gibraltar\"\u001b[0m\n",
      "\u001b[0;32m\"GN: Guinea\"\u001b[0m\n",
      "\u001b[0;32m\"GM: Gambia, The\"\u001b[0m\n",
      "\u001b[0;32m\"GW: Guinea-Bissau\"\u001b[0m\n",
      "\u001b[0;32m\"GQ: Equatorial Guinea\"\u001b[0m\n",
      "\u001b[0;32m\"GR: Greece\"\u001b[0m\n",
      "\u001b[0;32m\"GD: Grenada\"\u001b[0m\n",
      "\u001b[0;32m\"GL: Greenland\"\u001b[0m\n",
      "\u001b[0;32m\"GT: Guatemala\"\u001b[0m\n",
      "\u001b[0;32m\"GU: Guam\"\u001b[0m\n",
      "\u001b[0;32m\"GY: Guyana\"\u001b[0m\n",
      "\u001b[0;32m\"XD: High income\"\u001b[0m\n",
      "\u001b[0;32m\"HK: Hong Kong SAR, China\"\u001b[0m\n",
      "\u001b[0;32m\"HN: Honduras\"\u001b[0m\n",
      "\u001b[0;32m\"XE: Heavily indebted poor countries (HIPC)\"\u001b[0m\n",
      "\u001b[0;32m\"HR: Croatia\"\u001b[0m\n",
      "\u001b[0;32m\"HT: Haiti\"\u001b[0m\n",
      "\u001b[0;32m\"HU: Hungary\"\u001b[0m\n",
      "\u001b[0;32m\"ZB: IBRD, including blend\"\u001b[0m\n",
      "\u001b[0;32m\"XF: IBRD only\"\u001b[0m\n",
      "\u001b[0;32m\"ZT: IDA & IBRD total\"\u001b[0m\n",
      "\u001b[0;32m\"XG: IDA total\"\u001b[0m\n",
      "\u001b[0;32m\"XH: IDA blend\"\u001b[0m\n",
      "\u001b[0;32m\"ID: Indonesia\"\u001b[0m\n",
      "\u001b[0;32m\"XI: IDA only\"\u001b[0m\n",
      "\u001b[0;32m\"IM: Isle of Man\"\u001b[0m\n",
      "\u001b[0;32m\"IN: India\"\u001b[0m\n",
      "\u001b[0;32m\"XY: Not classified\"\u001b[0m\n",
      "\u001b[0;32m\"IE: Ireland\"\u001b[0m\n",
      "\u001b[0;32m\"IR: Iran, Islamic Rep.\"\u001b[0m\n",
      "\u001b[0;32m\"IQ: Iraq\"\u001b[0m\n",
      "\u001b[0;32m\"IS: Iceland\"\u001b[0m\n",
      "\u001b[0;32m\"IL: Israel\"\u001b[0m\n",
      "\u001b[0;32m\"IT: Italy\"\u001b[0m\n",
      "\u001b[0;32m\"JM: Jamaica\"\u001b[0m\n",
      "\u001b[0;32m\"JO: Jordan\"\u001b[0m\n",
      "\u001b[0;32m\"JP: Japan\"\u001b[0m\n",
      "\u001b[0;32m\"KZ: Kazakhstan\"\u001b[0m\n",
      "\u001b[0;32m\"KE: Kenya\"\u001b[0m\n",
      "\u001b[0;32m\"KG: Kyrgyz Republic\"\u001b[0m\n",
      "\u001b[0;32m\"KH: Cambodia\"\u001b[0m\n",
      "\u001b[0;32m\"KI: Kiribati\"\u001b[0m\n",
      "\u001b[0;32m\"KN: St. Kitts and Nevis\"\u001b[0m\n",
      "\u001b[0;32m\"KR: Korea, Rep.\"\u001b[0m\n",
      "\u001b[0;32m\"KW: Kuwait\"\u001b[0m\n",
      "\u001b[0;32m\"XJ: Latin America & Caribbean (excluding high income)\"\u001b[0m\n",
      "\u001b[0;32m\"LA: Lao PDR\"\u001b[0m\n",
      "\u001b[0;32m\"LB: Lebanon\"\u001b[0m\n",
      "\u001b[0;32m\"LR: Liberia\"\u001b[0m\n",
      "\u001b[0;32m\"LY: Libya\"\u001b[0m\n",
      "\u001b[0;32m\"LC: St. Lucia\"\u001b[0m\n",
      "\u001b[0;32m\"ZJ: Latin America & Caribbean \"\u001b[0m\n",
      "\u001b[0;32m\"XL: Least developed countries: UN classification\"\u001b[0m\n",
      "\u001b[0;32m\"XM: Low income\"\u001b[0m\n",
      "\u001b[0;32m\"LI: Liechtenstein\"\u001b[0m\n",
      "\u001b[0;32m\"LK: Sri Lanka\"\u001b[0m\n",
      "\u001b[0;32m\"XN: Lower middle income\"\u001b[0m\n",
      "\u001b[0;32m\"XO: Low & middle income\"\u001b[0m\n",
      "\u001b[0;32m\"LS: Lesotho\"\u001b[0m\n",
      "\u001b[0;32m\"V3: Late-demographic dividend\"\u001b[0m\n",
      "\u001b[0;32m\"LT: Lithuania\"\u001b[0m\n",
      "\u001b[0;32m\"LU: Luxembourg\"\u001b[0m\n",
      "\u001b[0;32m\"LV: Latvia\"\u001b[0m\n",
      "\u001b[0;32m\"MO: Macao SAR, China\"\u001b[0m\n",
      "\u001b[0;32m\"MF: St. Martin (French part)\"\u001b[0m\n",
      "\u001b[0;32m\"MA: Morocco\"\u001b[0m\n",
      "\u001b[0;32m\"MC: Monaco\"\u001b[0m\n",
      "\u001b[0;32m\"MD: Moldova\"\u001b[0m\n",
      "\u001b[0;32m\"M1: Middle East (developing only)\"\u001b[0m\n",
      "\u001b[0;32m\"MG: Madagascar\"\u001b[0m\n",
      "\u001b[0;32m\"MV: Maldives\"\u001b[0m\n",
      "\u001b[0;32m\"ZQ: Middle East & North Africa\"\u001b[0m\n",
      "\u001b[0;32m\"MX: Mexico\"\u001b[0m\n",
      "\u001b[0;32m\"MH: Marshall Islands\"\u001b[0m\n",
      "\u001b[0;32m\"XP: Middle income\"\u001b[0m\n",
      "\u001b[0;32m\"MK: North Macedonia\"\u001b[0m\n",
      "\u001b[0;32m\"ML: Mali\"\u001b[0m\n",
      "\u001b[0;32m\"MT: Malta\"\u001b[0m\n",
      "\u001b[0;32m\"MM: Myanmar\"\u001b[0m\n",
      "\u001b[0;32m\"XQ: Middle East & North Africa (excluding high income)\"\u001b[0m\n",
      "\u001b[0;32m\"ME: Montenegro\"\u001b[0m\n",
      "\u001b[0;32m\"MN: Mongolia\"\u001b[0m\n",
      "\u001b[0;32m\"MP: Northern Mariana Islands\"\u001b[0m\n",
      "\u001b[0;32m\"MZ: Mozambique\"\u001b[0m\n",
      "\u001b[0;32m\"MR: Mauritania\"\u001b[0m\n",
      "\u001b[0;32m\"MU: Mauritius\"\u001b[0m\n",
      "\u001b[0;32m\"MW: Malawi\"\u001b[0m\n",
      "\u001b[0;32m\"MY: Malaysia\"\u001b[0m\n",
      "\u001b[0;32m\"XU: North America\"\u001b[0m\n",
      "\u001b[0;32m\"M2: North Africa\"\u001b[0m\n",
      "\u001b[0;32m\"NA: Namibia\"\u001b[0m\n",
      "\u001b[0;32m\"NC: New Caledonia\"\u001b[0m\n",
      "\u001b[0;32m\"NE: Niger\"\u001b[0m\n",
      "\u001b[0;32m\"NG: Nigeria\"\u001b[0m\n",
      "\u001b[0;32m\"NI: Nicaragua\"\u001b[0m\n",
      "\u001b[0;32m\"NL: Netherlands\"\u001b[0m\n",
      "\u001b[0;32m\"NO: Norway\"\u001b[0m\n",
      "\u001b[0;32m\"NP: Nepal\"\u001b[0m\n",
      "\u001b[0;32m\"6X: Non-resource rich Sub-Saharan Africa countries\"\u001b[0m\n",
      "\u001b[0;32m\"NR: Nauru\"\u001b[0m\n",
      "\u001b[0;32m\"6N: IDA countries not classified as fragile situations, excluding Sub-Saharan Africa\"\u001b[0m\n",
      "\u001b[0;32m\"NZ: New Zealand\"\u001b[0m\n",
      "\u001b[0;32m\"OE: OECD members\"\u001b[0m\n",
      "\u001b[0;32m\"OM: Oman\"\u001b[0m\n",
      "\u001b[0;32m\"S4: Other small states\"\u001b[0m\n",
      "\u001b[0;32m\"PK: Pakistan\"\u001b[0m\n",
      "\u001b[0;32m\"PA: Panama\"\u001b[0m\n",
      "\u001b[0;32m\"PE: Peru\"\u001b[0m\n",
      "\u001b[0;32m\"PH: Philippines\"\u001b[0m\n",
      "\u001b[0;32m\"PW: Palau\"\u001b[0m\n",
      "\u001b[0;32m\"PG: Papua New Guinea\"\u001b[0m\n",
      "\u001b[0;32m\"PL: Poland\"\u001b[0m\n",
      "\u001b[0;32m\"V1: Pre-demographic dividend\"\u001b[0m\n",
      "\u001b[0;32m\"PR: Puerto Rico\"\u001b[0m\n",
      "\u001b[0;32m\"KP: Korea, Dem. People's Rep.\"\u001b[0m\n",
      "\u001b[0;32m\"PT: Portugal\"\u001b[0m\n",
      "\u001b[0;32m\"PY: Paraguay\"\u001b[0m\n",
      "\u001b[0;32m\"PS: West Bank and Gaza\"\u001b[0m\n",
      "\u001b[0;32m\"S2: Pacific island small states\"\u001b[0m\n",
      "\u001b[0;32m\"V4: Post-demographic dividend\"\u001b[0m\n",
      "\u001b[0;32m\"PF: French Polynesia\"\u001b[0m\n",
      "\u001b[0;32m\"QA: Qatar\"\u001b[0m\n",
      "\u001b[0;32m\"RO: Romania\"\u001b[0m\n",
      "\u001b[0;32m\"R6: Resource rich Sub-Saharan Africa countries\"\u001b[0m\n",
      "\u001b[0;32m\"RU: Russian Federation\"\u001b[0m\n",
      "\u001b[0;32m\"RW: Rwanda\"\u001b[0m\n",
      "\u001b[0;32m\"8S: South Asia\"\u001b[0m\n",
      "\u001b[0;32m\"SA: Saudi Arabia\"\u001b[0m\n",
      "\u001b[0;32m\"SD: Sudan\"\u001b[0m\n",
      "\u001b[0;32m\"SN: Senegal\"\u001b[0m\n",
      "\u001b[0;32m\"SG: Singapore\"\u001b[0m\n",
      "\u001b[0;32m\"SB: Solomon Islands\"\u001b[0m\n",
      "\u001b[0;32m\"SL: Sierra Leone\"\u001b[0m\n",
      "\u001b[0;32m\"SV: El Salvador\"\u001b[0m\n",
      "\u001b[0;32m\"SM: San Marino\"\u001b[0m\n",
      "\u001b[0;32m\"SO: Somalia\"\u001b[0m\n",
      "\u001b[0;32m\"RS: Serbia\"\u001b[0m\n",
      "\u001b[0;32m\"ZF: Sub-Saharan Africa (excluding high income)\"\u001b[0m\n",
      "\u001b[0;32m\"SS: South Sudan\"\u001b[0m\n",
      "\u001b[0;32m\"ZG: Sub-Saharan Africa \"\u001b[0m\n",
      "\u001b[0;32m\"S1: Small states\"\u001b[0m\n",
      "\u001b[0;32m\"ST: Sao Tome and Principe\"\u001b[0m\n",
      "\u001b[0;32m\"SR: Suriname\"\u001b[0m\n",
      "\u001b[0;32m\"SK: Slovak Republic\"\u001b[0m\n",
      "\u001b[0;32m\"SI: Slovenia\"\u001b[0m\n",
      "\u001b[0;32m\"SE: Sweden\"\u001b[0m\n",
      "\u001b[0;32m\"SZ: Eswatini\"\u001b[0m\n",
      "\u001b[0;32m\"SX: Sint Maarten (Dutch part)\"\u001b[0m\n",
      "\u001b[0;32m\"A4: Sub-Saharan Africa excluding South Africa\"\u001b[0m\n",
      "\u001b[0;32m\"SC: Seychelles\"\u001b[0m\n",
      "\u001b[0;32m\"SY: Syrian Arab Republic\"\u001b[0m\n",
      "\u001b[0;32m\"TC: Turks and Caicos Islands\"\u001b[0m\n",
      "\u001b[0;32m\"TD: Chad\"\u001b[0m\n",
      "\u001b[0;32m\"T4: East Asia & Pacific (IDA & IBRD countries)\"\u001b[0m\n",
      "\u001b[0;32m\"T7: Europe & Central Asia (IDA & IBRD countries)\"\u001b[0m\n",
      "\u001b[0;32m\"TG: Togo\"\u001b[0m\n",
      "\u001b[0;32m\"TH: Thailand\"\u001b[0m\n",
      "\u001b[0;32m\"TJ: Tajikistan\"\u001b[0m\n",
      "\u001b[0;32m\"TM: Turkmenistan\"\u001b[0m\n",
      "\u001b[0;32m\"T2: Latin America & the Caribbean (IDA & IBRD countries)\"\u001b[0m\n",
      "\u001b[0;32m\"TL: Timor-Leste\"\u001b[0m\n",
      "\u001b[0;32m\"T3: Middle East & North Africa (IDA & IBRD countries)\"\u001b[0m\n",
      "\u001b[0;32m\"TO: Tonga\"\u001b[0m\n",
      "\u001b[0;32m\"T5: South Asia (IDA & IBRD)\"\u001b[0m\n",
      "\u001b[0;32m\"T6: Sub-Saharan Africa (IDA & IBRD countries)\"\u001b[0m\n",
      "\u001b[0;32m\"TT: Trinidad and Tobago\"\u001b[0m\n",
      "\u001b[0;32m\"TN: Tunisia\"\u001b[0m\n",
      "\u001b[0;32m\"TR: Turkiye\"\u001b[0m\n",
      "\u001b[0;32m\"TV: Tuvalu\"\u001b[0m\n",
      "\u001b[0;32m\"TW: Taiwan, China\"\u001b[0m\n",
      "\u001b[0;32m\"TZ: Tanzania\"\u001b[0m\n",
      "\u001b[0;32m\"UG: Uganda\"\u001b[0m\n",
      "\u001b[0;32m\"UA: Ukraine\"\u001b[0m\n",
      "\u001b[0;32m\"XT: Upper middle income\"\u001b[0m\n",
      "\u001b[0;32m\"UY: Uruguay\"\u001b[0m\n",
      "\u001b[0;32m\"US: United States\"\u001b[0m\n",
      "\u001b[0;32m\"UZ: Uzbekistan\"\u001b[0m\n",
      "\u001b[0;32m\"VC: St. Vincent and the Grenadines\"\u001b[0m\n",
      "\u001b[0;32m\"VE: Venezuela, RB\"\u001b[0m\n",
      "\u001b[0;32m\"VG: British Virgin Islands\"\u001b[0m\n",
      "\u001b[0;32m\"VI: Virgin Islands (U.S.)\"\u001b[0m\n",
      "\u001b[0;32m\"VN: Vietnam\"\u001b[0m\n",
      "\u001b[0;32m\"VU: Vanuatu\"\u001b[0m\n",
      "\u001b[0;32m\"1W: World\"\u001b[0m\n",
      "\u001b[0;32m\"WS: Samoa\"\u001b[0m\n",
      "\u001b[0;32m\"XK: Kosovo\"\u001b[0m\n",
      "\u001b[0;32m\"A5: Sub-Saharan Africa excluding South Africa and Nigeria\"\u001b[0m\n",
      "\u001b[0;32m\"YE: Yemen, Rep.\"\u001b[0m\n",
      "\u001b[0;32m\"ZA: South Africa\"\u001b[0m\n",
      "\u001b[0;32m\"ZM: Zambia\"\u001b[0m\n",
      "\u001b[0;32m\"ZW: Zimbabwe\"\u001b[0m\n"
     ]
    }
   ],
   "source": [
    "!./iso2Codes | jq '.[1][] | .iso2Code + \": \" + .name'"
   ]
  },
  {
   "cell_type": "markdown",
   "metadata": {
    "id": "84IR7albYQxh"
   },
   "source": [
    "### 2. Compile a Custom Indicator Dataset\n",
    "\n",
    "There are many availabe indicators: https://data.worldbank.org/indicator\n",
    "\n",
    "We wll select either of the three indicators for this example:\n",
    "\n",
    "1. Scientific and Technical Journal Article Data = [IP.JRN.ARTC.SC](https://data.worldbank.org/indicator/IP.JRN.ARTC.SC?view=chart)\n",
    "\n",
    "2. Patent Applications, residents = [IP.PAT.RESD](https://data.worldbank.org/indicator/IP.PAT.RESD?view=chart)\n",
    "\n",
    "3. GDP per capita (current US$) Code = [NY.GDP.PCAP.CD](https://data.worldbank.org/indicator/NY.GDP.PCAP.CD?view=chart)\n",
    "\n",
    "Note that these three selected indictaors have a [CC-BY 4.0 license](https://datacatalog.worldbank.org/public-licenses#cc-by) We will compile this indicator data for the United States (US) and United Kingdom (GB)\n",
    "\n",
    "\n"
   ]
  },
  {
   "cell_type": "markdown",
   "metadata": {},
   "source": [
    "We change the directory of the World_Bank folder to create a new one for our project"
   ]
  },
  {
   "cell_type": "code",
   "execution_count": null,
   "metadata": {},
   "outputs": [],
   "source": [
    "%cd .."
   ]
  },
  {
   "cell_type": "markdown",
   "metadata": {},
   "source": [
    "We set a directory where we want the WorldBank directory for the custom indicator project "
   ]
  },
  {
   "cell_type": "code",
   "execution_count": 11,
   "metadata": {},
   "outputs": [],
   "source": [
    "!mkdir Custom_indicator"
   ]
  },
  {
   "cell_type": "markdown",
   "metadata": {},
   "source": [
    "Then we change the directory to the folder we created"
   ]
  },
  {
   "cell_type": "code",
   "execution_count": null,
   "metadata": {},
   "outputs": [],
   "source": [
    "%cd Custom_indicator"
   ]
  },
  {
   "cell_type": "markdown",
   "metadata": {},
   "source": [
    "Then we utilize the following command (%%file) to create the following makefile which will compile our program and create an executable."
   ]
  },
  {
   "cell_type": "code",
   "execution_count": null,
   "metadata": {},
   "outputs": [],
   "source": [
    "%%file makefile\n",
    "\n",
    "#sets the variable CC to gcc, which is used to build the program\n",
    "CC=gcc\n",
    "\n",
    "#enable debugging information and enable all compiler warnings\n",
    "CFLAGS=-g -Wall\n",
    "\n",
    "#sets the bin variable as the name of the binary file we are creating\n",
    "BIN=custom_indicator\n",
    "\n",
    "#creates the binary file with the name we put\n",
    "all: $(BIN)\n",
    "\n",
    "#maps any file ending in .c to a binary executable. \n",
    "#\"$<\" represents the .c file and \"$@\" represents the target binary executable\n",
    "%: %.c\n",
    "\n",
    "#compiles the .c file using the gcc compiler with the CFLAGS and links \n",
    "#resulting binary with the CURL library\n",
    "\t$(CC) $(CFLAGS) $< -o $@ -lcurl\n",
    "\n",
    "#clean target which removes specific files\n",
    "clean:\n",
    "\n",
    "#removes the binary file and an \".dSYM\" (debug symbols for debugging) directories\n",
    "#the RM command used -r to remove directories and -f to force delete\n",
    "\t$(RM) -rf $(BIN) *.dSYM\n"
   ]
  },
  {
   "cell_type": "markdown",
   "metadata": {},
   "source": [
    "The command is used again to create our .c file which contains the code for the program"
   ]
  },
  {
   "cell_type": "code",
   "execution_count": null,
   "metadata": {},
   "outputs": [],
   "source": [
    "%%file custom_indicator.c\n",
    "\n",
    "#include <curl/curl.h>\n",
    "#include <stdio.h>\n",
    "#include <stdlib.h>\n",
    "#include <string.h>\n",
    "\n",
    "/*CURL program that retrieves JSON data from the World Bank API\n",
    "This program allows custom indicator data set to be used along with the country specified*/\n",
    "\n",
    "\n",
    "/* We are going to be inputting the custom indicator and country like this: ./custom_indicator -c \"UK\" -i \"IP.JRN.ARTC.SC\"\n",
    "If the arguments are missing then we use the default: \"US\" \"IP.JRN.ARTC.SC\"\n",
    "*/\n",
    "\n",
    "int main (int argc, char* argv[]){\n",
    "    \n",
    "    //if arguments are invalid just return\n",
    "    if (argc > 5){                                                                                      \n",
    "        printf(\"Error. Please try again correctly.\\n\");\n",
    "        return -1;\n",
    "    }\n",
    "\n",
    "    //default country and indicator codes\n",
    "    char country[10] = {};\n",
    "    char indicator[100] = {}; \n",
    "\n",
    "    //if there is ./custom_indiactor -c/-i\n",
    "    if ((argc == 1) || ((argc == 2) && ((strcmp(argv[1], \"-c\")==0) || (strcmp(argv[1], \"-i\")==0)))){\n",
    "        //these arguments run the default parameters and keeps the codes as they are\n",
    "        strcat(country,\"US\");\n",
    "        strcat(indicator, \"IP.JRN.ARTC.SC\");\n",
    "    }\n",
    "\n",
    "    //if there is ./custom indicator -c \"UK\"\n",
    "    else if ((argc == 3) && (strcmp(argv[1], \"-c\")==0)){\n",
    "        //only the country code is changed\n",
    "        strcat(country,argv[2]);\n",
    "        strcat(indicator, \"IP.JRN.ARTC.SC\");\n",
    "    }\n",
    "\n",
    "    //if there is ./custom indicator -c \"UK\" -i\n",
    "    else if ((argc == 4) && (strcmp(argv[1], \"-c\")==0) && (strcmp(argv[3], \"-i\")==0)){\n",
    "        //only the country code is changed\n",
    "        strcat(country,argv[2]);\n",
    "        strcat(indicator, \"IP.JRN.ARTC.SC\");\n",
    "    }\n",
    "\n",
    "    //if there is ./custom indicator -c \"UK\" -i \"IP.JRN.ARTC.SC\"\n",
    "    else if ((argc == 5) && (strcmp(argv[1], \"-c\")==0) && (strcmp(argv[3], \"-i\")==0)){\n",
    "        //both the country and indicator codes are changed\n",
    "        strcat(country,argv[2]);\n",
    "        strcat(indicator, argv[4]);\n",
    "    }\n",
    "\n",
    "    //if there is ./custom indicator -i \"IP.JRN.ARTC.SC\"\n",
    "    else if ((argc == 3) && (strcmp(argv[1], \"-i\")==0)){\n",
    "        //only the indicator code is changed\n",
    "        strcat(country,\"US\");\n",
    "        strcat(indicator, argv[2]);\n",
    "    }\n",
    "\n",
    "    //if there is ./custom indicator -i \"IP.JRN.ARTC.SC\" -c\n",
    "    else if ((argc == 4) && (strcmp(argv[1], \"-i\")==0) && (strcmp(argv[3], \"-c\")==0)){\n",
    "        //only the indicator code is changed\n",
    "        strcat(country,\"US\");\n",
    "        strcat(indicator, argv[2]);\n",
    "    }\n",
    "\n",
    "    //if there is ./custom indicator -i \"IP.JRN.ARTC.SC\" -c \"UK\" \n",
    "    else if ((argc == 5) && (strcmp(argv[1], \"-i\")==0) && (strcmp(argv[3], \"-c\")==0)){\n",
    "        //both the indicator and country codes are changed\n",
    "        strcat(country,argv[4]);\n",
    "        strcat(indicator, argv[2]);\n",
    "    }\n",
    "\n",
    "    else{\n",
    "        printf(\"usage: ./custom_indicator [-i] indicator [-c] country\\n\\n\");\n",
    "        printf(\"the custom_indicator program is used to retrieve json data from the World Bank API\\n\\n\");\n",
    "        printf(\"optional arguments\\n\");\n",
    "        printf(\"\\t -i indicator    optional custom indicator code; default is 'IP.JRN.ARTC.SC', see: https://data.worldbank.org/indicator\\n\");\n",
    "        printf(\"\\t -c country      optional custom country code; default is 'US'\\n\");\n",
    "        return -1;\n",
    "    }\n",
    "\n",
    "    //initializes the CURL HTTP connection\n",
    "    CURL *curl = curl_easy_init();\n",
    "\n",
    "    //bits of the url that are joined together later\n",
    "    char api[] = \"https://api.worldbank.org/v2/\";                                                                     \n",
    "    char type1[] = \"country/\";\n",
    "    char type2[] = \"/indicator/\";                           \n",
    "    char url[1000];\n",
    "    char label[] = \"/?format=json&per_page=500\";\n",
    "\n",
    "    //checks if CURL initialization is a success or not\n",
    "    if (!curl){                                                                                         \n",
    "        fprintf(stderr, \"init failed\\n\");\n",
    "        return EXIT_FAILURE;\n",
    "    }\n",
    "        \n",
    "    //combines all the bits to produce a functioning url\n",
    "    sprintf(url, \"%s%s%s%s%s%s\", api, type1 , country, type2, indicator, label);                                             \n",
    "                                          \n",
    "\n",
    "    //sets the url to which the HTTP request will be sent to\n",
    "    //first parameter is for the initialized curl HTTP request, second for the option to be set, and third for the value to be set\n",
    "    curl_easy_setopt(curl, CURLOPT_URL, url);\n",
    "\n",
    "    //if result is not retrieved then output error\n",
    "    CURLcode result = curl_easy_perform(curl);\n",
    "\n",
    "    //if result is not retrieved then output error\n",
    "    if (result != CURLE_OK){                                                                            \n",
    "        fprintf(stderr, \"download problem: %s\\n\", curl_easy_strerror(result));\n",
    "    }\n",
    "\n",
    "    //deallocates memory for the CURL connection\n",
    "    curl_easy_cleanup(curl);                                                                            \n",
    "    return EXIT_SUCCESS;\n",
    "}"
   ]
  },
  {
   "cell_type": "code",
   "execution_count": null,
   "metadata": {},
   "outputs": [],
   "source": [
    "!make"
   ]
  },
  {
   "cell_type": "markdown",
   "metadata": {},
   "source": [
    "To output the data from the World Bank API with the default indicator and country (IP.JRN.ARTC.SC, US), we enter the following command:"
   ]
  },
  {
   "cell_type": "code",
   "execution_count": 16,
   "metadata": {},
   "outputs": [
    {
     "name": "stdout",
     "output_type": "stream",
     "text": [
      "\"2022: null\"\n",
      "\"2021: null\"\n",
      "\"2020: 455855.57\"\n",
      "\"2019: 438020.45\"\n",
      "\"2018: 435033.88\"\n",
      "\"2017: 430198.17\"\n",
      "\"2016: 428476.45\"\n",
      "\"2015: 428203.78\"\n",
      "\"2014: 428140.59\"\n",
      "\"2013: 426596.66\"\n"
     ]
    }
   ],
   "source": [
    "!./custom_indicator | jq '.[1][] | \"\\(.date)':' \\(.value)\"' | head -n 10"
   ]
  },
  {
   "cell_type": "markdown",
   "metadata": {},
   "source": [
    "To output the data from the World Bank API with the custom indicator and country, we enter the following command:"
   ]
  },
  {
   "cell_type": "code",
   "execution_count": 17,
   "metadata": {},
   "outputs": [
    {
     "name": "stdout",
     "output_type": "stream",
     "text": [
      "\"2022: 45850.4261222629\"\n",
      "\"2021: 46585.8975644567\"\n",
      "\"2020: 40318.4169225055\"\n",
      "\"2019: 42747.080460496\"\n",
      "\"2018: 43306.3083049317\"\n",
      "\"2017: 40622.6893883232\"\n",
      "\"2016: 41146.0773555246\"\n",
      "\"2015: 45071.0743234873\"\n",
      "\"2014: 47447.5889322667\"\n",
      "\"2013: 43449.0917173139\"\n"
     ]
    }
   ],
   "source": [
    "!./custom_indicator -i 'NY.GDP.PCAP.CD' -c 'GB' | jq '.[1][] | \"\\(.date)':' \\(.value)\"' | head -n 10"
   ]
  },
  {
   "cell_type": "markdown",
   "metadata": {},
   "source": [
    "To compile a custom indicator dataset we need to have parse the data into a single .txt file"
   ]
  },
  {
   "cell_type": "markdown",
   "metadata": {},
   "source": [
    "We enter the following command, to output first indicator data to the .txt file:"
   ]
  },
  {
   "cell_type": "code",
   "execution_count": 18,
   "metadata": {},
   "outputs": [],
   "source": [
    "!./custom_indicator -i 'NY.GDP.PCAP.CD' -c 'US' | jq '.[1][] | \"\\(.date)':' \\(.value)\"' > output1.txt"
   ]
  },
  {
   "cell_type": "markdown",
   "metadata": {},
   "source": [
    "We do the same for the 2nd and the 3rd indicator data:"
   ]
  },
  {
   "cell_type": "code",
   "execution_count": 19,
   "metadata": {},
   "outputs": [],
   "source": [
    "!./custom_indicator -i 'IP.JRN.ARTC.SC' -c 'US' | jq '.[1][] | \"\\(.date)':' \\(.value)\"' > output2.txt"
   ]
  },
  {
   "cell_type": "code",
   "execution_count": 20,
   "metadata": {},
   "outputs": [],
   "source": [
    "!./custom_indicator -i 'IP.PAT.RESD' -c 'US' | jq '.[1][] | \"\\(.date)':' \\(.value)\"' > output3.txt"
   ]
  },
  {
   "cell_type": "markdown",
   "metadata": {},
   "source": [
    "We then join the data together in different columns and output it to the specified .txt file:"
   ]
  },
  {
   "cell_type": "code",
   "execution_count": 21,
   "metadata": {},
   "outputs": [],
   "source": [
    "!join output1.txt output2.txt > output12.txt"
   ]
  },
  {
   "cell_type": "markdown",
   "metadata": {},
   "source": [
    "The same is done to create the final combined data set:"
   ]
  },
  {
   "cell_type": "code",
   "execution_count": 22,
   "metadata": {},
   "outputs": [],
   "source": [
    "!join output12.txt output3.txt > output_combined.txt"
   ]
  },
  {
   "cell_type": "markdown",
   "metadata": {},
   "source": [
    "We then remove the \"\"\" and \":\" to create the custom data set"
   ]
  },
  {
   "cell_type": "code",
   "execution_count": 23,
   "metadata": {},
   "outputs": [
    {
     "name": "stdout",
     "output_type": "stream",
     "text": [
      "2022 76398.5917422054 null null\n",
      "2021 70219.472454115 null null\n",
      "2020 63528.6343027508 455855.57 269586\n",
      "2019 65120.3946628653 438020.45 285113\n",
      "2018 62823.309438197 435033.88 285095\n"
     ]
    }
   ],
   "source": [
    "!cat output_combined.txt | tr -d '\",:' | head -5"
   ]
  }
 ],
 "metadata": {
  "kernelspec": {
   "display_name": "Python 3.10.6 64-bit",
   "language": "python",
   "name": "python3"
  },
  "language_info": {
   "codemirror_mode": {
    "name": "ipython",
    "version": 3
   },
   "file_extension": ".py",
   "mimetype": "text/x-python",
   "name": "python",
   "nbconvert_exporter": "python",
   "pygments_lexer": "ipython3",
   "version": "3.11.4"
  },
  "orig_nbformat": 4,
  "vscode": {
   "interpreter": {
    "hash": "916dbcbb3f70747c44a77c7bcd40155683ae19c65e1c03b4aa3499c5328201f1"
   }
  }
 },
 "nbformat": 4,
 "nbformat_minor": 2
}
