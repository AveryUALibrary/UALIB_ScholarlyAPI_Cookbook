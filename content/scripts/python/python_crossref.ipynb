{
 "cells": [
  {
   "cell_type": "markdown",
   "id": "b7955985-98aa-48a0-91f2-5e99a9e7b27c",
   "metadata": {},
   "source": [
    "# ...in Python"
   ]
  },
  {
   "cell_type": "markdown",
   "id": "e1509f3a-9367-4cda-9d45-540b5b127e56",
   "metadata": {},
   "source": [
    "## Crossref API in Python\n",
    "by Avery Fernandez\n",
    "\n",
    "*Edited by Vin Scalfani*"
   ]
  },
  {
   "cell_type": "markdown",
   "id": "5e28ca92-7a5a-4320-8332-a1be3ddd1c33",
   "metadata": {},
   "source": [
    "**Crossref API documentation:** https://api.crossref.org/swagger-ui/index.html\n",
    "\n",
    "These recipe examples were tested on January 18, 2022.\n",
    "\n",
    "*From our testing, we have found that the crossref metadata across publishers and even journals can vary considerably. As a result, it can be easier to work with one journal at a time when using the crossref API (e.g., particulary when trying to extract selected data from records).*"
   ]
  },
  {
   "cell_type": "markdown",
   "id": "d2aae4d3-d789-4d6a-ab66-5708e0f8b1f7",
   "metadata": {},
   "source": [
    "## 1. Basic crossref API call"
   ]
  },
  {
   "cell_type": "markdown",
   "id": "3acaa648-6d41-432b-bd04-c59a57bbcf5c",
   "metadata": {},
   "source": [
    "### Import libraries"
   ]
  },
  {
   "cell_type": "code",
   "execution_count": 17,
   "id": "c36125d5-55b8-4296-85f1-c6a8dccda33a",
   "metadata": {},
   "outputs": [],
   "source": [
    "import json\n",
    "import requests\n",
    "from pprint import pprint"
   ]
  },
  {
   "cell_type": "markdown",
   "id": "97ae3960-4c0e-4778-b93f-56145b2fec46",
   "metadata": {},
   "source": [
    "### Setup API parameters"
   ]
  },
  {
   "cell_type": "code",
   "execution_count": 18,
   "id": "20bdb88d-e526-4ec4-b163-1de470177b8f",
   "metadata": {},
   "outputs": [],
   "source": [
    "base_url = \"https://api.crossref.org/works/\" # the base url for api calls\n",
    "email = \"your_email@ua.edu\" # Change this to your email\n",
    "mailto = \"?mailto=\" + email\n",
    "doi = \"10.1186/1758-2946-4-12\" # example"
   ]
  },
  {
   "cell_type": "markdown",
   "id": "d685a5fc-1eba-4904-b3c7-5d5670c46853",
   "metadata": {},
   "source": [
    "### Request data from crossref API"
   ]
  },
  {
   "cell_type": "code",
   "execution_count": 19,
   "id": "b6edb14f-59c6-45b6-9a5a-e94b3582efa3",
   "metadata": {},
   "outputs": [
    {
     "name": "stdout",
     "output_type": "stream",
     "text": [
      "{'message': {'DOI': '10.1186/1758-2946-4-12',\n",
      "             'ISSN': ['1758-2946'],\n",
      "             'URL': 'http://dx.doi.org/10.1186/1758-2946-4-12',\n",
      "             'alternative-id': ['336'],\n",
      "             'article-number': '12',\n",
      "             'author': [{'affiliation': [],\n",
      "                         'family': 'Ertl',\n",
      "                         'given': 'Peter',\n",
      "                         'sequence': 'first'},\n",
      "                        {'affiliation': [],\n",
      "                         'family': 'Rohde',\n",
      "                         'given': 'Bernhard',\n",
      "                         'sequence': 'additional'}],\n",
      "             'container-title': ['Journal of Cheminformatics'],\n",
      "             'content-domain': {'crossmark-restriction': False, 'domain': []},\n",
      "             'created': {'date-parts': [[2012, 7, 6]],\n",
      "                         'date-time': '2012-07-06T12:14:34Z',\n",
      "                         'timestamp': 1341576874000},\n",
      "             'deposited': {'date-parts': [[2019, 6, 24]],\n",
      "                           'date-time': '2019-06-24T14:22:07Z',\n",
      "                           'timestamp': 1561386127000},\n",
      "             'indexed': {'date-parts': [[2021, 12, 18]],\n",
      "                         'date-time': '2021-12-18T19:58:47Z',\n",
      "                         'timestamp': 1639857527355},\n",
      "             'is-referenced-by-count': 25,\n",
      "             'issn-type': [{'type': 'electronic', 'value': '1758-2946'}],\n",
      "             'issue': '1',\n",
      "             'issued': {'date-parts': [[2012, 7, 6]]},\n",
      "             'journal-issue': {'issue': '1',\n",
      "                               'published-print': {'date-parts': [[2012, 12]]}},\n",
      "             'language': 'en',\n",
      "             'license': [{'URL': 'http://creativecommons.org/licenses/by/2.0',\n",
      "                          'content-version': 'tdm',\n",
      "                          'delay-in-days': 0,\n",
      "                          'start': {'date-parts': [[2012, 7, 6]],\n",
      "                                    'date-time': '2012-07-06T00:00:00Z',\n",
      "                                    'timestamp': 1341532800000}}],\n",
      "             'link': [{'URL': 'http://link.springer.com/content/pdf/10.1186/1758-2946-4-12.pdf',\n",
      "                       'content-type': 'application/pdf',\n",
      "                       'content-version': 'vor',\n",
      "                       'intended-application': 'text-mining'},\n",
      "                      {'URL': 'http://link.springer.com/article/10.1186/1758-2946-4-12/fulltext.html',\n",
      "                       'content-type': 'text/html',\n",
      "                       'content-version': 'vor',\n",
      "                       'intended-application': 'text-mining'},\n",
      "                      {'URL': 'http://link.springer.com/content/pdf/10.1186/1758-2946-4-12.pdf',\n",
      "                       'content-type': 'application/pdf',\n",
      "                       'content-version': 'vor',\n",
      "                       'intended-application': 'similarity-checking'}],\n",
      "             'member': '297',\n",
      "             'original-title': [],\n",
      "             'prefix': '10.1186',\n",
      "             'published': {'date-parts': [[2012, 7, 6]]},\n",
      "             'published-online': {'date-parts': [[2012, 7, 6]]},\n",
      "             'published-print': {'date-parts': [[2012, 12]]},\n",
      "             'publisher': 'Springer Science and Business Media LLC',\n",
      "             'reference': [{'DOI': '10.1007/s10822-011-9487-0',\n",
      "                            'author': 'E Martin',\n",
      "                            'doi-asserted-by': 'publisher',\n",
      "                            'first-page': '77',\n",
      "                            'journal-title': 'J Comp-Aided Mol Des',\n",
      "                            'key': '336_CR1',\n",
      "                            'unstructured': 'Martin E, Ertl P, Hunt P, Duca J, '\n",
      "                                            'Lewis R: Gazing into the crystal '\n",
      "                                            'ball; the future of '\n",
      "                                            'computer-aided drug design. J '\n",
      "                                            'Comp-Aided Mol Des. 2011, 26: '\n",
      "                                            '77-79.',\n",
      "                            'volume': '26',\n",
      "                            'year': '2011'},\n",
      "                           {'DOI': '10.1021/ci2001428',\n",
      "                            'author': 'SR Langdon',\n",
      "                            'doi-asserted-by': 'publisher',\n",
      "                            'first-page': '2174',\n",
      "                            'journal-title': 'J Chem Inf Model',\n",
      "                            'key': '336_CR2',\n",
      "                            'unstructured': 'Langdon SR, Brown N, Blagg J: '\n",
      "                                            'Scaffold diversity of exemplified '\n",
      "                                            'medicinal chemistry space. J Chem '\n",
      "                                            'Inf Model. 2011, 26: 2174-2185.',\n",
      "                            'volume': '26',\n",
      "                            'year': '2011'},\n",
      "                           {'DOI': '10.1021/ja902302h',\n",
      "                            'author': 'LC Blum',\n",
      "                            'doi-asserted-by': 'publisher',\n",
      "                            'first-page': '8732',\n",
      "                            'journal-title': 'J Am Chem Soc',\n",
      "                            'key': '336_CR3',\n",
      "                            'unstructured': 'Blum LC, Reymond J-C: 970 Million '\n",
      "                                            'druglike small molecules for '\n",
      "                                            'virtual screening in the chemical '\n",
      "                                            'universe database GDB-13. J Am '\n",
      "                                            'Chem Soc. 2009, 131: 8732-8733. '\n",
      "                                            '10.1021/ja902302h.',\n",
      "                            'volume': '131',\n",
      "                            'year': '2009'},\n",
      "                           {'DOI': '10.2174/157340908785747410',\n",
      "                            'author': 'J Dubois',\n",
      "                            'doi-asserted-by': 'publisher',\n",
      "                            'first-page': '156',\n",
      "                            'journal-title': 'Cur Comp-Aided Drug Des',\n",
      "                            'key': '336_CR4',\n",
      "                            'unstructured': 'Dubois J, Bourg S, Vrain C, '\n",
      "                                            'Morin-Allory L: Collections of '\n",
      "                                            'compounds - how to deal with '\n",
      "                                            'them?. Cur Comp-Aided Drug Des. '\n",
      "                                            '2008, 4: 156-168. '\n",
      "                                            '10.2174/157340908785747410.',\n",
      "                            'volume': '4',\n",
      "                            'year': '2008'},\n",
      "                           {'DOI': '10.2174/157340908786786010',\n",
      "                            'author': 'JL Medina-Franco',\n",
      "                            'doi-asserted-by': 'publisher',\n",
      "                            'first-page': '322',\n",
      "                            'journal-title': 'Cur Comp-Aided Drug Des',\n",
      "                            'key': '336_CR5',\n",
      "                            'unstructured': 'Medina-Franco JL, '\n",
      "                                            'Martinez-Mayorga K, Giulianotti '\n",
      "                                            'MA, Houghten RA, Pinilla C: '\n",
      "                                            'Visualization of the chemical '\n",
      "                                            'space in drug discovery. Cur '\n",
      "                                            'Comp-Aided Drug Des. 2008, 4: '\n",
      "                                            '322-333. '\n",
      "                                            '10.2174/157340908786786010.',\n",
      "                            'volume': '4',\n",
      "                            'year': '2008'},\n",
      "                           {'DOI': '10.1021/ci600338x',\n",
      "                            'author': 'A Schuffenhauer',\n",
      "                            'doi-asserted-by': 'publisher',\n",
      "                            'first-page': '47',\n",
      "                            'journal-title': 'J Chem Inf Model',\n",
      "                            'key': '336_CR6',\n",
      "                            'unstructured': 'Schuffenhauer A, Ertl P, Roggo S, '\n",
      "                                            'Wetzel S, Koch MA, Waldmann H: '\n",
      "                                            'The Scaffold Tree - visualization '\n",
      "                                            'of the scaffold universe by '\n",
      "                                            'hierarchical scaffold '\n",
      "                                            'classification. J Chem Inf Model. '\n",
      "                                            '2007, 47: 47-58. '\n",
      "                                            '10.1021/ci600338x.',\n",
      "                            'volume': '47',\n",
      "                            'year': '2007'},\n",
      "                           {'DOI': '10.1002/minf.201000019',\n",
      "                            'author': 'S Langdon',\n",
      "                            'doi-asserted-by': 'publisher',\n",
      "                            'first-page': '366',\n",
      "                            'journal-title': 'Mol Inf',\n",
      "                            'key': '336_CR7',\n",
      "                            'unstructured': 'Langdon S, Ertl P, Brown N: '\n",
      "                                            'Bioisosteric replacement and '\n",
      "                                            'scaffold hopping in lead '\n",
      "                                            'generation and optimization. Mol '\n",
      "                                            'Inf. 2010, 29: 366-385. '\n",
      "                                            '10.1002/minf.201000019.',\n",
      "                            'volume': '29',\n",
      "                            'year': '2010'},\n",
      "                           {'DOI': '10.1021/jo8001276',\n",
      "                            'author': 'AH Lipkus',\n",
      "                            'doi-asserted-by': 'publisher',\n",
      "                            'first-page': '4443',\n",
      "                            'journal-title': 'J Org Chem',\n",
      "                            'key': '336_CR8',\n",
      "                            'unstructured': 'Lipkus AH, Yuan Q, Lucas KA, Funk '\n",
      "                                            'SA, Bartelt WF, Schenck RJ, '\n",
      "                                            'Trippe AJ: Structural diversity '\n",
      "                                            'of organic chemistry. A scaffold '\n",
      "                                            'analysis of the CAS Registry. J '\n",
      "                                            'Org Chem. 2008, 73: 4443-4451. '\n",
      "                                            '10.1021/jo8001276.',\n",
      "                            'volume': '73',\n",
      "                            'year': '2008'},\n",
      "                           {'key': '336_CR9',\n",
      "                            'unstructured': 'mib 2010.10, Molinspiration '\n",
      "                                            'Cheminformatics: \\n'\n",
      "                                            '                    '\n",
      "                                            'http://www.molinspiration.com\\n'\n",
      "                                            '                    \\n'\n",
      "                                            '                  ,'},\n",
      "                           {'key': '336_CR10',\n",
      "                            'unstructured': 'Bernhard R: Avalon '\n",
      "                                            'Cheminformatics Toolkit. \\n'\n",
      "                                            '                    '\n",
      "                                            'http://sourceforge.net/projects/avalontoolkit/\\n'\n",
      "                                            '                    \\n'\n",
      "                                            '                  ,'},\n",
      "                           {'DOI': '10.1093/nar/gkp965',\n",
      "                            'author': 'Y Wang',\n",
      "                            'doi-asserted-by': 'publisher',\n",
      "                            'first-page': 'D255',\n",
      "                            'journal-title': 'Nucleic Acids Res',\n",
      "                            'key': '336_CR11',\n",
      "                            'unstructured': 'Wang Y, Bolton E, Dracheva S, '\n",
      "                                            'Karapetyan K, Shoemaker BA, Suzek '\n",
      "                                            'TO, Wang J, Xiao J, Zhang J, '\n",
      "                                            'Bryant SH: An overview of the '\n",
      "                                            'PubChem BioAssay resource. '\n",
      "                                            'Nucleic Acids Res. 2009, 38: '\n",
      "                                            'D255-D266.',\n",
      "                            'volume': '38',\n",
      "                            'year': '2009'},\n",
      "                           {'DOI': '10.1021/ci049714+',\n",
      "                            'author': 'JJ Irwin',\n",
      "                            'doi-asserted-by': 'publisher',\n",
      "                            'first-page': '177',\n",
      "                            'journal-title': 'J Chem Inf Model',\n",
      "                            'key': '336_CR12',\n",
      "                            'unstructured': 'Irwin JJ, Shoichet BK: ZINC\\u2009'\n",
      "                                            '−\\u2009a free database of '\n",
      "                                            'commercially available compounds '\n",
      "                                            'for virtual screening. J Chem Inf '\n",
      "                                            'Model. 2004, 45: 177-182.',\n",
      "                            'volume': '45',\n",
      "                            'year': '2004'},\n",
      "                           {'DOI': '10.1093/nar/gkr777',\n",
      "                            'author': 'A Gaulton',\n",
      "                            'doi-asserted-by': 'publisher',\n",
      "                            'first-page': 'D1100',\n",
      "                            'journal-title': 'Nucleic Acids Res',\n",
      "                            'key': '336_CR13',\n",
      "                            'unstructured': 'Gaulton A, Bellis LJ, Bento AP, '\n",
      "                                            'Chambers J, Davies M, Hersey A, '\n",
      "                                            'Light Y, McGlinchey S, '\n",
      "                                            'Michalovich D, Al-Lazikani B, '\n",
      "                                            'Overington JP: ChEMBL: a '\n",
      "                                            'large-scale bioactivity database '\n",
      "                                            'for drug discovery. Nucleic Acids '\n",
      "                                            'Res. 2012, 40: D1100-D1107. '\n",
      "                                            '10.1093/nar/gkr777.',\n",
      "                            'volume': '40',\n",
      "                            'year': '2012'},\n",
      "                           {'DOI': '10.1016/j.cbpa.2010.02.018',\n",
      "                            'author': 'ME Welsch',\n",
      "                            'doi-asserted-by': 'publisher',\n",
      "                            'first-page': '347',\n",
      "                            'journal-title': 'Curr Opin Chem Biol',\n",
      "                            'key': '336_CR14',\n",
      "                            'unstructured': 'Welsch ME, Snyder SA, Stockwell '\n",
      "                                            'BR: Privileged scaffolds for '\n",
      "                                            'library design and drug '\n",
      "                                            'discovery. Curr Opin Chem Biol. '\n",
      "                                            '2010, 14: 347-361. '\n",
      "                                            '10.1016/j.cbpa.2010.02.018.',\n",
      "                            'volume': '14',\n",
      "                            'year': '2010'},\n",
      "                           {'DOI': '10.1021/ci0255782',\n",
      "                            'author': 'P Ertl',\n",
      "                            'doi-asserted-by': 'publisher',\n",
      "                            'first-page': '374',\n",
      "                            'journal-title': 'J Chem Inf Comp Sci',\n",
      "                            'key': '336_CR15',\n",
      "                            'unstructured': 'Ertl P: Cheminformatics analysis '\n",
      "                                            'of organic substituents: '\n",
      "                                            'Identification of the most common '\n",
      "                                            'substituents, calculation of '\n",
      "                                            'substituent properties, and '\n",
      "                                            'automatic identification of '\n",
      "                                            'drug-like bioisosteric groups. J '\n",
      "                                            'Chem Inf Comp Sci. 2003, 43: '\n",
      "                                            '374-380. 10.1021/ci0255782.',\n",
      "                            'volume': '43',\n",
      "                            'year': '2003'},\n",
      "                           {'key': '336_CR16',\n",
      "                            'unstructured': 'TagCrowd: \\n'\n",
      "                                            '                    '\n",
      "                                            'http://tagcrowd.com'}],\n",
      "             'reference-count': 16,\n",
      "             'references-count': 16,\n",
      "             'relation': {},\n",
      "             'score': 1,\n",
      "             'short-container-title': ['J Cheminform'],\n",
      "             'short-title': [],\n",
      "             'source': 'Crossref',\n",
      "             'subject': ['Library and Information Sciences',\n",
      "                         'Computer Graphics and Computer-Aided Design',\n",
      "                         'Physical and Theoretical Chemistry',\n",
      "                         'Computer Science Applications'],\n",
      "             'subtitle': [],\n",
      "             'title': ['The Molecule Cloud - compact visualization of large '\n",
      "                       'collections of molecules'],\n",
      "             'type': 'journal-article',\n",
      "             'volume': '4'},\n",
      " 'message-type': 'work',\n",
      " 'message-version': '1.0.0',\n",
      " 'status': 'ok'}\n"
     ]
    }
   ],
   "source": [
    "api_data = requests.get(base_url + doi + mailto).json()\n",
    "pprint(api_data)"
   ]
  },
  {
   "cell_type": "markdown",
   "id": "31a5a2f5-0f8a-4775-955e-7509b3cb515f",
   "metadata": {},
   "source": [
    "### Select Some Specific Data"
   ]
  },
  {
   "cell_type": "code",
   "execution_count": 20,
   "id": "f4759a67-5ae8-49dd-ba07-169491191531",
   "metadata": {},
   "outputs": [
    {
     "data": {
      "text/plain": [
       "['Journal of Cheminformatics']"
      ]
     },
     "execution_count": 20,
     "metadata": {},
     "output_type": "execute_result"
    }
   ],
   "source": [
    "# Get Journal title\n",
    "api_data[\"message\"][\"container-title\"]"
   ]
  },
  {
   "cell_type": "code",
   "execution_count": 21,
   "id": "f72ee848-5899-4994-9299-4f3442a238aa",
   "metadata": {},
   "outputs": [
    {
     "data": {
      "text/plain": [
       "['The Molecule Cloud - compact visualization of large collections of molecules']"
      ]
     },
     "execution_count": 21,
     "metadata": {},
     "output_type": "execute_result"
    }
   ],
   "source": [
    "# Get article title\n",
    "api_data[\"message\"][\"title\"]"
   ]
  },
  {
   "cell_type": "code",
   "execution_count": 22,
   "id": "cc3f0045-fa83-4973-b2fc-2d57d21c7e0d",
   "metadata": {},
   "outputs": [
    {
     "name": "stdout",
     "output_type": "stream",
     "text": [
      "Peter Ertl\n",
      "Bernhard Rohde\n"
     ]
    }
   ],
   "source": [
    "# Get article author names\n",
    "for au in range(len(api_data[\"message\"][\"author\"])):\n",
    "    print(api_data[\"message\"][\"author\"][au][\"given\"] + \" \" + api_data[\"message\"][\"author\"][au][\"family\"])"
   ]
  },
  {
   "cell_type": "code",
   "execution_count": 23,
   "id": "a0412d51-3d16-47c7-a00d-a192a1247f90",
   "metadata": {},
   "outputs": [
    {
     "name": "stdout",
     "output_type": "stream",
     "text": [
      "['Martin E, Ertl P, Hunt P, Duca J, Lewis R: Gazing into the crystal ball; the future of computer-aided drug design. J Comp-Aided Mol Des. 2011, 26: 77-79.', 'Langdon SR, Brown N, Blagg J: Scaffold diversity of exemplified medicinal chemistry space. J Chem Inf Model. 2011, 26: 2174-2185.', 'Blum LC, Reymond J-C: 970 Million druglike small molecules for virtual screening in the chemical universe database GDB-13. J Am Chem Soc. 2009, 131: 8732-8733. 10.1021/ja902302h.', 'Dubois J, Bourg S, Vrain C, Morin-Allory L: Collections of compounds - how to deal with them?. Cur Comp-Aided Drug Des. 2008, 4: 156-168. 10.2174/157340908785747410.']\n"
     ]
    }
   ],
   "source": [
    "# Get bibliography references and save to list\n",
    "bib_refs = []\n",
    "for ref in range(len(api_data[\"message\"][\"reference\"])):\n",
    "    bib_refs.append(api_data[\"message\"][\"reference\"][ref][\"unstructured\"])\n",
    "\n",
    "# print the first 5\n",
    "print(bib_refs[0:4])"
   ]
  },
  {
   "cell_type": "markdown",
   "id": "6e978e6c-a0c9-47f6-962b-95e511a2bcbb",
   "metadata": {},
   "source": [
    "### Save JSON data to a file\n",
    "This is particularly useful for downstream testing or returning to results in the future (e.g., no need to keep requesting the data from crossref, save the results to a file)"
   ]
  },
  {
   "cell_type": "code",
   "execution_count": 24,
   "id": "d959ee34-a44b-4ce5-b93f-d79bf334dff4",
   "metadata": {},
   "outputs": [],
   "source": [
    "with open('my_data.json', 'w') as outfile:\n",
    "    json.dump(api_data, outfile)"
   ]
  },
  {
   "cell_type": "markdown",
   "id": "e76ec40e-c409-4ea4-b500-b935121b9aac",
   "metadata": {},
   "source": [
    "### Load JSON data from file"
   ]
  },
  {
   "cell_type": "code",
   "execution_count": 25,
   "id": "eb0f5a6b-f794-4e57-860a-be54818f407d",
   "metadata": {},
   "outputs": [],
   "source": [
    "with open('my_data.json','r') as infile:\n",
    "    loadedData = json.load(infile)"
   ]
  },
  {
   "cell_type": "markdown",
   "id": "f426c7d1-fa3b-41bd-8f76-cfcff48e78ff",
   "metadata": {},
   "source": [
    "## 2. Crossref API call with a Loop"
   ]
  },
  {
   "cell_type": "markdown",
   "id": "e33f6cb5-d6ef-4261-b26f-1a7fe0ab4e8f",
   "metadata": {},
   "source": [
    "### Import libraries"
   ]
  },
  {
   "cell_type": "code",
   "execution_count": 26,
   "id": "216afb22-103b-4a89-a2c7-cbae0da78340",
   "metadata": {},
   "outputs": [],
   "source": [
    "import json\n",
    "import requests\n",
    "from pprint import pprint\n",
    "from time import sleep"
   ]
  },
  {
   "cell_type": "markdown",
   "id": "781b7c21-cdb4-48cb-a96a-a1b70ea4404f",
   "metadata": {},
   "source": [
    "### Setup API parameters"
   ]
  },
  {
   "cell_type": "code",
   "execution_count": 27,
   "id": "4ec8d919-2f44-40bc-8c56-6ef0f20e2b7b",
   "metadata": {},
   "outputs": [],
   "source": [
    "base_url = \"https://api.crossref.org/works/\" # the base url for api calls\n",
    "email = \"your_email@ua.edu\" # Change this to be your email\n",
    "mailto = \"?mailto=\" + email"
   ]
  },
  {
   "cell_type": "markdown",
   "id": "25533dc1-3c54-498e-8f86-b3067c5795f5",
   "metadata": {},
   "source": [
    "### Create a List of DOIs"
   ]
  },
  {
   "cell_type": "code",
   "execution_count": 28,
   "id": "8db9758c-5673-4789-bed8-81e41fffe3c4",
   "metadata": {},
   "outputs": [],
   "source": [
    "doi_list = ['10.1021/acsomega.1c03250',\n",
    "'10.1021/acsomega.1c05512',\n",
    "'10.1021/acsomega.8b01647',\n",
    "'10.1021/acsomega.1c04287',\n",
    "'10.1021/acsomega.8b01834']"
   ]
  },
  {
   "cell_type": "markdown",
   "id": "00cf8fd8-d96d-4c3b-82a3-023525bf0244",
   "metadata": {},
   "source": [
    "### Request metadata for each DOI from Crossref API and save to a list"
   ]
  },
  {
   "cell_type": "code",
   "execution_count": 29,
   "id": "886b6463-af4c-41f9-b20e-f9ef025037f2",
   "metadata": {},
   "outputs": [],
   "source": [
    "doi_metadata = []\n",
    "for doi in doi_list:\n",
    "    doi_metadata.append(requests.get(base_url + doi + mailto).json())\n",
    "    sleep(1) # important to add a delay between API calls\n",
    "\n",
    "# print(doi_metadata) ## not shown here as it is long."
   ]
  },
  {
   "cell_type": "markdown",
   "id": "3bd8c198-61ea-4206-93bb-08c69d4743cb",
   "metadata": {},
   "source": [
    "### Select Some Specific Data"
   ]
  },
  {
   "cell_type": "code",
   "execution_count": 30,
   "id": "debb2af9-dc74-4c7a-8fe0-4e9a4c17e349",
   "metadata": {},
   "outputs": [
    {
     "name": "stdout",
     "output_type": "stream",
     "text": [
      "['Navigating into the Chemical Space of Monoamine Oxidase Inhibitors by Artificial Intelligence and Cheminformatics Approach']\n",
      "['Impact of Artificial Intelligence on Compound Discovery, Design, and Synthesis']\n",
      "['How Precise Are Our Quantitative Structure–Activity Relationship Derived Predictions for New Query Chemicals?']\n",
      "['Applying Neuromorphic Computing Simulation in Band Gap Prediction and Chemical Reaction Classification']\n",
      "['QSPR Modeling of the Refractive Index for Diverse Polymers Using 2D Descriptors']\n"
     ]
    }
   ],
   "source": [
    "# Get article titles\n",
    "for item in range(len(doi_metadata)):\n",
    "    print(doi_metadata[item][\"message\"][\"title\"])"
   ]
  },
  {
   "cell_type": "code",
   "execution_count": 31,
   "id": "fa210e72-cd49-438a-948c-9b0e23e07264",
   "metadata": {},
   "outputs": [
    {
     "name": "stdout",
     "output_type": "stream",
     "text": [
      "Department of Pharmaceutical Chemistry and Analysis, Amrita School of Pharmacy, Amrita Vishwa Vidyapeetham, AIMS Health Sciences Campus, Kochi 682041, India\n",
      "Department of Pharmaceutical Chemistry and Analysis, Amrita School of Pharmacy, Amrita Vishwa Vidyapeetham, AIMS Health Sciences Campus, Kochi 682041, India\n",
      "Department of Pharmaceutical Chemistry and Analysis, Amrita School of Pharmacy, Amrita Vishwa Vidyapeetham, AIMS Health Sciences Campus, Kochi 682041, India\n",
      "Department of Pharmaceutical Chemistry and Analysis, Amrita School of Pharmacy, Amrita Vishwa Vidyapeetham, AIMS Health Sciences Campus, Kochi 682041, India\n",
      "Department of Pharmaceutical Chemistry and Analysis, Amrita School of Pharmacy, Amrita Vishwa Vidyapeetham, AIMS Health Sciences Campus, Kochi 682041, India\n",
      "Department of Pharmaceutics and Industrial Pharmacy, College of Pharmacy, Taif University, P.O. Box 11099, Taif 21944, Saudi Arabia\n",
      "Department of Pharmaceutical Chemistry, College of Pharmacy, Jouf University, Sakaka, Al Jouf 72341, Saudi Arabia\n",
      "Department of Pharmaceutical Chemistry and Analysis, Amrita School of Pharmacy, Amrita Vishwa Vidyapeetham, AIMS Health Sciences Campus, Kochi 682041, India\n",
      "Department of Life Science Informatics and Data Science, B-IT, LIMES Program Unit Chemical Biology and Medicinal Chemistry, Rheinische Friedrich-Wilhelms-Universität, Friedrich-Hirzebruch-Allee 6, D-53115 Bonn, Germany\n",
      "Department of Life Science Informatics and Data Science, B-IT, LIMES Program Unit Chemical Biology and Medicinal Chemistry, Rheinische Friedrich-Wilhelms-Universität, Friedrich-Hirzebruch-Allee 6, D-53115 Bonn, Germany\n",
      "Department of Life Science Informatics and Data Science, B-IT, LIMES Program Unit Chemical Biology and Medicinal Chemistry, Rheinische Friedrich-Wilhelms-Universität, Friedrich-Hirzebruch-Allee 6, D-53115 Bonn, Germany\n",
      "Drug Theoretics and Cheminformatics Laboratory, Department of Pharmaceutical Technology, Jadavpur University, Kolkata 700 032, India\n",
      "Drug Theoretics and Cheminformatics Laboratory, Department of Pharmaceutical Technology, Jadavpur University, Kolkata 700 032, India\n",
      "Interdisciplinary Center for Nanotoxicity, Department of Chemistry, Physics and Atmospheric Sciences, Jackson State University, Jackson, Mississippi 39217, United States\n",
      "Department of Chemical and Biomolecular Engineering, The Ohio State University, Columbus, Ohio 43210, United States\n",
      "Department of Chemical and Biomolecular Engineering, The Ohio State University, Columbus, Ohio 43210, United States\n",
      "Department of Chemical and Biomolecular Engineering, The Ohio State University, Columbus, Ohio 43210, United States\n",
      "Department of Chemical and Biomolecular Engineering, The Ohio State University, Columbus, Ohio 43210, United States\n",
      "Department of Pharmacoinformatics, National Institute of Pharmaceutical Educational and Research (NIPER), Chunilal Bhawan, 168, Manikata Main Road, 700054 Kolkata, India\n",
      "Department of Coatings and Polymeric Materials, North Dakota State University, Fargo, North Dakota 58108-6050, United States\n",
      "Drug Theoretics and Cheminformatics Laboratory, Division of Medicinal and Pharmaceutical Chemistry, Department of Pharmaceutical Technology, Jadavpur University, 700032 Kolkata, India\n"
     ]
    }
   ],
   "source": [
    "# Get all author affiliations for each article\n",
    "for item in range(len(doi_metadata)):\n",
    "    for au in range(len(doi_metadata[item][\"message\"][\"author\"])):\n",
    "        print(doi_metadata[item][\"message\"][\"author\"][au][\"affiliation\"][0][\"name\"])        "
   ]
  }
 ],
 "metadata": {
  "kernelspec": {
   "display_name": "Python 3 (ipykernel)",
   "language": "python",
   "name": "python3"
  },
  "language_info": {
   "codemirror_mode": {
    "name": "ipython",
    "version": 3
   },
   "file_extension": ".py",
   "mimetype": "text/x-python",
   "name": "python",
   "nbconvert_exporter": "python",
   "pygments_lexer": "ipython3",
   "version": "3.9.7"
  }
 },
 "nbformat": 4,
 "nbformat_minor": 5
}
