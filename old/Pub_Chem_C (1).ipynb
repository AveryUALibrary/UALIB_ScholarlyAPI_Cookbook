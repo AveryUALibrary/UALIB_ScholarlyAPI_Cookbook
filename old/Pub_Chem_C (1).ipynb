{
 "cells": [
  {
   "cell_type": "markdown",
   "metadata": {
    "id": "tyCz-xFSgxqc"
   },
   "source": [
    "# PubChem API in C\n",
    "by Cyrus Gomes and Dr. Vincent Scalfani\n",
    "\n",
    "**PubChem API Documentation**: https://pubchemdocs.ncbi.nlm.nih.gov/programmatic-access\n",
    "\n",
    "These recipe examples were tested on March 15, 2023.\n",
    "\n",
    "**Attribution:** This tutorial was adapted from supporting information in:\n",
    "\n",
    "**Scalfani, V. F.**; Ralph, S. C. Alshaikh, A. A.; Bara, J. E. Programmatic Compilation of Chemical Data and Literature From PubChem Using Matlab. *Chemical Engineering Education*, **2020**, *54*, 230. https://doi.org/10.18260/2-1-370.660-115508 and https://github.com/vfscalfani/MATLAB-cheminformatics)"
   ]
  },
  {
   "cell_type": "markdown",
   "metadata": {
    "id": "c09M9YME1Yny"
   },
   "source": [
    "### Setup"
   ]
  },
  {
   "cell_type": "markdown",
   "metadata": {
    "id": "S74qQhZV1Ynz"
   },
   "source": [
    "First, install the CURL package by typing the following command in the terminal:"
   ]
  },
  {
   "cell_type": "code",
   "execution_count": null,
   "metadata": {},
   "outputs": [],
   "source": [
    "!sudo apt install curl"
   ]
  },
  {
   "cell_type": "markdown",
   "metadata": {},
   "source": [
    "First we set a directory where we want the PubChem directory for our projects to be created "
   ]
  },
  {
   "cell_type": "code",
   "execution_count": 1,
   "metadata": {},
   "outputs": [],
   "source": [
    "!mkdir Pub_Chem"
   ]
  },
  {
   "cell_type": "markdown",
   "metadata": {},
   "source": [
    "We change the directory to the folder we created"
   ]
  },
  {
   "cell_type": "code",
   "execution_count": 2,
   "metadata": {},
   "outputs": [
    {
     "name": "stdout",
     "output_type": "stream",
     "text": [
      "/home/chgomes@student.ua-net.ua.edu/Desktop/yaz_C/Pub_Chem_Project/Pub_Chem\n"
     ]
    }
   ],
   "source": [
    "%cd Pub_Chem"
   ]
  },
  {
   "cell_type": "markdown",
   "metadata": {
    "id": "d-cxd3L61Yn2"
   },
   "source": [
    "### 1. PubChem Property"
   ]
  },
  {
   "cell_type": "markdown",
   "metadata": {
    "id": "NSFhDtZw1Yn3"
   },
   "source": [
    "#### Get property details"
   ]
  },
  {
   "cell_type": "markdown",
   "metadata": {},
   "source": [
    "Then we initialize a folder for the current project that we are working on. And then change to that directory"
   ]
  },
  {
   "cell_type": "code",
   "execution_count": 3,
   "metadata": {},
   "outputs": [],
   "source": [
    "!mkdir Property"
   ]
  },
  {
   "cell_type": "code",
   "execution_count": 4,
   "metadata": {},
   "outputs": [
    {
     "name": "stdout",
     "output_type": "stream",
     "text": [
      "/home/chgomes@student.ua-net.ua.edu/Desktop/yaz_C/Pub_Chem_Project/Pub_Chem/Property\n"
     ]
    }
   ],
   "source": [
    "%cd Property"
   ]
  },
  {
   "cell_type": "markdown",
   "metadata": {},
   "source": [
    "We utilize the following command (%%file) to create the following makefile which will compile our program and create an executable."
   ]
  },
  {
   "cell_type": "code",
   "execution_count": 5,
   "metadata": {},
   "outputs": [
    {
     "name": "stdout",
     "output_type": "stream",
     "text": [
      "Writing makefile\n"
     ]
    }
   ],
   "source": [
    "%%file makefile\n",
    "\n",
    "#sets the variable CC to gcc, which is used to build the program\n",
    "CC=gcc\n",
    "\n",
    "#enable debugging information and enable all compiler warnings\n",
    "CFLAGS=-g -Wall\n",
    "\n",
    "#sets the bin variable as the name of the binary file we are creating\n",
    "BIN=property_search\n",
    "\n",
    "#creates the binary file with the name we put\n",
    "all: $(BIN)\n",
    "\n",
    "#maps any file ending in .c to a binary executable. \n",
    "#\"$<\" represents the .c file and \"$@\" represents the target binary executable\n",
    "%: %.c\n",
    "\n",
    "#compiles the .c file using the gcc compiler with the CFLAGS and links \n",
    "#resulting binary with the CURL library\n",
    "\t$(CC) $(CFLAGS) $< -o $@ -lcurl\n",
    "\n",
    "#clean target which removes specific files\n",
    "clean:\n",
    "\n",
    "#removes the binary file and an \".dSYM\" (debug symbols for debugging) directories\n",
    "#the RM command used -r to remove directories and -f to force delete\n",
    "\t$(RM) -rf $(BIN) *.dSYM\n"
   ]
  },
  {
   "cell_type": "markdown",
   "metadata": {},
   "source": [
    "The command is used again to create our .c file which contains the code for the program"
   ]
  },
  {
   "cell_type": "code",
   "execution_count": 6,
   "metadata": {},
   "outputs": [
    {
     "name": "stdout",
     "output_type": "stream",
     "text": [
      "Writing property_search.c\n"
     ]
    }
   ],
   "source": [
    "%%file property_search.c\n",
    "\n",
    "#include <curl/curl.h>\n",
    "#include <stdio.h>\n",
    "#include <stdlib.h>\n",
    "#include <string.h>\n",
    "\n",
    "/*CURL program that retrieves property details about the CID \n",
    "and outputs to terminal. Custom property fields can be added*/\n",
    "\n",
    "int main (int argc, char* argv[]){\n",
    "    \n",
    "    //if arguments are invalid just return\n",
    "    if (argc < 2){                                                                                      \n",
    "        printf(\"Error. Please try again correctly.\\n\");\n",
    "        return -1;\n",
    "    }\n",
    "\n",
    "    //initializes the CURL HTTP connection\n",
    "    CURL *curl = curl_easy_init();\n",
    "\n",
    "    //bits of the url that are joined together later                                                                      \n",
    "    char api[] = \"https://pubchem.ncbi.nlm.nih.gov/rest/pug/compound/cid/\";                            \n",
    "    char url[1000];\n",
    "    char label_1[] = \"/property/\";\n",
    "    char format[] = \"/JSON\";\n",
    "\n",
    "    //checks if CURL initialization is a success or not\n",
    "    if (!curl){                                                                                         \n",
    "        fprintf(stderr, \"init failed\\n\");\n",
    "        return EXIT_FAILURE;\n",
    "    }\n",
    "\n",
    "    //this if statement checks if the conditions match for using the default property\n",
    "    if ((argc==2)||((argc==3) && (strcmp(argv[2],\"-p\")==0))){\n",
    "        char search_type[] = \"/property/inchi,IsomericSMILES,MolecularFormula,MolecularWeight/JSON\";\n",
    "        \n",
    "        //combines all the bits to produce a functioning url\n",
    "        sprintf(url, \"%s%s%s\", api, argv[1], search_type);                                              \n",
    "    \n",
    "    }\n",
    "\n",
    "    //this if statement checks if the conditions match for using custom property\n",
    "    else if ((argc==4)&&(strcmp(argv[2],\"-p\")==0)){                                                     \n",
    "\n",
    "        //combines all the bits to produce a functioning url\n",
    "        sprintf(url, \"%s%s%s%s%s\", api, argv[1], label_1, argv[3], format);                             \n",
    "    \n",
    "    }\n",
    "\n",
    "    //if the arguments are invalid just return\n",
    "    else {                                                                                              \n",
    "        curl_easy_cleanup(curl);\n",
    "        return 0;\n",
    "    }                                            \n",
    "\n",
    "    //sets the url to which the HTTP request will be sent to\n",
    "    //first parameter is for the initialized curl HTTP request, second for the option to be set, and third for the value to be set\n",
    "    curl_easy_setopt(curl, CURLOPT_URL, url);\n",
    "\n",
    "    //if result is not retrieved then output error\n",
    "    CURLcode result = curl_easy_perform(curl);\n",
    "\n",
    "    //if result is not retrieved then output error\n",
    "    if (result != CURLE_OK){                                                                            \n",
    "        fprintf(stderr, \"download problem: %s\\n\", curl_easy_strerror(result));\n",
    "    }\n",
    "\n",
    "    //deallocates memory for the CURL connection\n",
    "    curl_easy_cleanup(curl);                                                                            \n",
    "    return EXIT_SUCCESS;\n",
    "}"
   ]
  },
  {
   "cell_type": "markdown",
   "metadata": {},
   "source": [
    "The folowing program is run, and an executable is created after using the following command:"
   ]
  },
  {
   "cell_type": "code",
   "execution_count": 7,
   "metadata": {},
   "outputs": [
    {
     "name": "stdout",
     "output_type": "stream",
     "text": [
      "gcc -g -Wall property_search.c -o property_search -lcurl\n"
     ]
    }
   ],
   "source": [
    "!make"
   ]
  },
  {
   "cell_type": "markdown",
   "metadata": {},
   "source": [
    "We can search for a compound and display an image, for example: 1-Butyl-3-methyl-imidazolium; CID = 2734162"
   ]
  },
  {
   "cell_type": "markdown",
   "metadata": {},
   "source": [
    "If we run the executable and enter the CID and the custom properties that we want to add, we get the result:"
   ]
  },
  {
   "cell_type": "code",
   "execution_count": 8,
   "metadata": {},
   "outputs": [
    {
     "name": "stdout",
     "output_type": "stream",
     "text": [
      "{\n",
      "  \"PropertyTable\": {\n",
      "    \"Properties\": [\n",
      "      {\n",
      "        \"CID\": 2734162,\n",
      "        \"InChI\": \"InChI=1S/C8H15N2/c1-3-4-5-10-7-6-9(2)8-10/h6-8H,3-5H2,1-2H3/q+1\"\n",
      "      }\n",
      "    ]\n",
      "  }\n",
      "}\n"
     ]
    }
   ],
   "source": [
    "!./property_search 2734162 -p \"inchi\""
   ]
  },
  {
   "cell_type": "markdown",
   "metadata": {},
   "source": [
    "We can add additional properties as follows:"
   ]
  },
  {
   "cell_type": "code",
   "execution_count": 9,
   "metadata": {},
   "outputs": [
    {
     "name": "stdout",
     "output_type": "stream",
     "text": [
      "{\n",
      "  \"PropertyTable\": {\n",
      "    \"Properties\": [\n",
      "      {\n",
      "        \"CID\": 2734162,\n",
      "        \"InChI\": \"InChI=1S/C8H15N2/c1-3-4-5-10-7-6-9(2)8-10/h6-8H,3-5H2,1-2H3/q+1\",\n",
      "        \"XLogP\": 1.3,\n",
      "        \"HBondDonorCount\": 0,\n",
      "        \"HBondAcceptorCount\": 0,\n",
      "        \"RotatableBondCount\": 3\n",
      "      }\n",
      "    ]\n",
      "  }\n",
      "}\n"
     ]
    }
   ],
   "source": [
    "!./property_search 2734162 -p \"inchi,XLogP,HBondDonorCount,HBondAcceptorCount,RotatableBondCount\""
   ]
  },
  {
   "cell_type": "markdown",
   "metadata": {},
   "source": [
    "The following command is used to output the default fields (inchi,IsomericSMILES,MolecularFormula,MolecularWeight):"
   ]
  },
  {
   "cell_type": "code",
   "execution_count": 10,
   "metadata": {},
   "outputs": [
    {
     "name": "stdout",
     "output_type": "stream",
     "text": [
      "{\n",
      "  \"PropertyTable\": {\n",
      "    \"Properties\": [\n",
      "      {\n",
      "        \"CID\": 2734162,\n",
      "        \"MolecularFormula\": \"C8H15N2+\",\n",
      "        \"MolecularWeight\": \"139.22\",\n",
      "        \"IsomericSMILES\": \"CCCCN1C=C[N+](=C1)C\",\n",
      "        \"InChI\": \"InChI=1S/C8H15N2/c1-3-4-5-10-7-6-9(2)8-10/h6-8H,3-5H2,1-2H3/q+1\"\n",
      "      }\n",
      "    ]\n",
      "  }\n",
      "}\n"
     ]
    }
   ],
   "source": [
    "!./property_search 2734162"
   ]
  },
  {
   "cell_type": "markdown",
   "metadata": {},
   "source": [
    "The following command is used to output the SMILES with jq:"
   ]
  },
  {
   "cell_type": "code",
   "execution_count": 11,
   "metadata": {},
   "outputs": [
    {
     "name": "stdout",
     "output_type": "stream",
     "text": [
      "\u001b[0;32m\"CCCCN1C=C[N+](=C1)C\"\u001b[0m\n"
     ]
    }
   ],
   "source": [
    "# get SMILES with jq\n",
    "!./property_search 2734162 | jq '.[\"PropertyTable\"][\"Properties\"][0][\"IsomericSMILES\"]'"
   ]
  },
  {
   "cell_type": "markdown",
   "metadata": {
    "id": "d-cxd3L61Yn2"
   },
   "source": [
    "### 2. PubChem Compound Image"
   ]
  },
  {
   "cell_type": "markdown",
   "metadata": {
    "id": "NSFhDtZw1Yn3"
   },
   "source": [
    "#### Download image of the requested CID"
   ]
  },
  {
   "cell_type": "markdown",
   "metadata": {},
   "source": [
    "We change the directory of the Pub_Chem folder to create a new one for our project"
   ]
  },
  {
   "cell_type": "code",
   "execution_count": 12,
   "metadata": {},
   "outputs": [
    {
     "name": "stdout",
     "output_type": "stream",
     "text": [
      "/home/chgomes@student.ua-net.ua.edu/Desktop/yaz_C/Pub_Chem_Project/Pub_Chem\n"
     ]
    }
   ],
   "source": [
    "%cd .."
   ]
  },
  {
   "cell_type": "code",
   "execution_count": 13,
   "metadata": {},
   "outputs": [],
   "source": [
    "!mkdir Image"
   ]
  },
  {
   "cell_type": "code",
   "execution_count": 14,
   "metadata": {},
   "outputs": [
    {
     "name": "stdout",
     "output_type": "stream",
     "text": [
      "/home/chgomes@student.ua-net.ua.edu/Desktop/yaz_C/Pub_Chem_Project/Pub_Chem/Image\n"
     ]
    }
   ],
   "source": [
    "%cd Image"
   ]
  },
  {
   "cell_type": "code",
   "execution_count": 15,
   "metadata": {},
   "outputs": [
    {
     "name": "stdout",
     "output_type": "stream",
     "text": [
      "Writing makefile\n"
     ]
    }
   ],
   "source": [
    "%%file makefile\n",
    "\n",
    "#sets the variable CC to gcc, which is used to build the program\n",
    "CC=gcc\n",
    "\n",
    "#enable debugging information and enable all compiler warnings\n",
    "CFLAGS=-g -Wall\n",
    "\n",
    "#sets the bin variable as the name of the binary file we are creating\n",
    "BIN=image_download\n",
    "\n",
    "#creates the binary file with the name we put\n",
    "all: $(BIN)\n",
    "\n",
    "#maps any file ending in .c to a binary executable. \n",
    "#\"$<\" represents the .c file and \"$@\" represents the target binary executable\n",
    "%: %.c\n",
    "\n",
    "#compiles the .c file using the gcc compiler with the CFLAGS and links \n",
    "#resulting binary with the CURL library\n",
    "\t$(CC) $(CFLAGS) $< -o $@ -lcurl\n",
    "\n",
    "#clean target which removes specific files\n",
    "clean:\n",
    "\n",
    "#removes the binary file and an \".dSYM\" (debug symbols for debugging) directories\n",
    "#the RM command used -r to remove directories and -f to force delete\n",
    "\t$(RM) -rf $(BIN) *.dSYM\n"
   ]
  },
  {
   "cell_type": "code",
   "execution_count": 16,
   "metadata": {},
   "outputs": [
    {
     "name": "stdout",
     "output_type": "stream",
     "text": [
      "Writing image_download.c\n"
     ]
    }
   ],
   "source": [
    "%%file image_download.c\n",
    "\n",
    "#include <curl/curl.h>\n",
    "#include <stdio.h>\n",
    "#include <stdlib.h>\n",
    "#include <string.h>\n",
    "#include <stdbool.h>\n",
    "\n",
    "/*This code was adapted from https://stackoverflow.com/questions/10112959/download-an-image-from-server-curl-however-taking-suggestions-c\n",
    "and modified to download the pubchem images*/\n",
    "\n",
    "//Downloads custom CID image in a .png format\n",
    "\n",
    "//Retrieves the file data from the URL and writes them into the file\n",
    "size_t callbackfunction(void *ptr, size_t size, size_t nmemb, void* userdata)                \n",
    "{\n",
    "    //declare a file stream used to hold data\n",
    "    FILE* stream = (FILE*)userdata;\n",
    "\n",
    "    //checks if a stream is detected to write into the file\n",
    "    if (!stream)                                                                            \n",
    "    {\n",
    "        printf(\"!!! No stream\\n\");\n",
    "        return 0;\n",
    "    }\n",
    "\n",
    "    //retrieves the size of the data to be downloaded\n",
    "    size_t written = fwrite((FILE*)ptr, size, nmemb, stream);\n",
    "    return written;\n",
    "}\n",
    "\n",
    "//Retrieves the image result and checks whether it is found or not\n",
    "bool download_png(char* url, char name[])                                                      \n",
    "{\n",
    "    //combines the name and the .txt and creates the following file\n",
    "    strcat(name, \".png\");\n",
    "    FILE* fp = fopen(name, \"wb\");\n",
    "\n",
    "    //if file is not created abort the system\n",
    "    if (!fp)\n",
    "    {\n",
    "        printf(\"!!! Failed to create file on the disk\\n\");                                     \n",
    "        return false;\n",
    "    }\n",
    "\n",
    "    //initializing the curl connection (http request)\n",
    "    CURL* curlCtx = curl_easy_init();                                                           \n",
    "    \n",
    "    //if initialization does not work then error\n",
    "    if (!curlCtx){                                                                              \n",
    "        fprintf(stderr, \"init failed\\n\");\n",
    "        return EXIT_FAILURE;\n",
    "    }\n",
    "\n",
    "    //sets the url to which the HTTP request will be sent to\n",
    "    //first parameter is for the initialized curl HTTP request, second for the option to be set, and third for the value to be set\n",
    "    curl_easy_setopt(curlCtx, CURLOPT_URL, url);\n",
    "\n",
    "    //sets the data pointer for writing the response body of the HTTP request\n",
    "    //The third parameter is a pointer to the file where the response data will be written.\n",
    "    curl_easy_setopt(curlCtx, CURLOPT_WRITEDATA, fp);\n",
    "\n",
    "    //sets the callback function which is called by libcurl for the response body of the HTTP request\n",
    "    curl_easy_setopt(curlCtx, CURLOPT_WRITEFUNCTION, callbackfunction);\n",
    "    \n",
    "    //sets the option to enable HTTP redirects\n",
    "    //For the third parameter the value of 1L enables following of HTTP redirects, and a value of 0L disables it.\n",
    "    curl_easy_setopt(curlCtx, CURLOPT_FOLLOWLOCATION, 1);\n",
    "\n",
    "    //Perform an HTTP rquest\n",
    "    CURLcode rc = curl_easy_perform(curlCtx);                                                       \n",
    "    \n",
    "    //if request is unsuccessful then abort   \n",
    "    if (rc)\n",
    "    {\n",
    "        printf(\"!!! Failed to download: %s\\n\", url);\n",
    "        return false;\n",
    "    }\n",
    "\n",
    "    long res_code = 0;\n",
    "\n",
    "    //sets the resposnse code retrieved from the HTTP website                  \n",
    "    curl_easy_getinfo(curlCtx, CURLINFO_RESPONSE_CODE, &res_code);\n",
    "    \n",
    "    //deallocates memory for the CURL connection\n",
    "    curl_easy_cleanup(curlCtx);                                                                     \n",
    "\n",
    "    //Avoids memory leaks by closing file pointer   \n",
    "    fclose(fp);\n",
    "\n",
    "    return true;\n",
    "}\n",
    "\n",
    "int main(int argc, char* argv[])\n",
    "{\n",
    "    //if arguments are lower than or greater than 2 then error\n",
    "    if (argc < 2 || argc > 2){\n",
    "        printf(\"Error. Please try again correctly\");\n",
    "        return 0;\n",
    "    }\n",
    "\n",
    "    //bits of data required for the API search\n",
    "    char api[] = \"https://pubchem.ncbi.nlm.nih.gov/rest/pug/compound//cid/\";\n",
    "    char type[] = \"/PNG\";\n",
    "    char url[1000];\n",
    "\n",
    "    //combines all the bits together to create the final URL\n",
    "    sprintf(url, \"%s%s%s\", api, argv[1], type);                                                     \n",
    "\n",
    "    //if image not found retrieve error\n",
    "    if (!download_png(url, argv[1]))                                                                \n",
    "    {\n",
    "        printf(\"!! Failed to download file \\n\");\n",
    "        return -1;\n",
    "    }\n",
    "\n",
    "    return 0;\n",
    "}"
   ]
  },
  {
   "cell_type": "code",
   "execution_count": 17,
   "metadata": {},
   "outputs": [
    {
     "name": "stdout",
     "output_type": "stream",
     "text": [
      "gcc -g -Wall image_download.c -o image_download -lcurl\n"
     ]
    }
   ],
   "source": [
    "!make"
   ]
  },
  {
   "cell_type": "markdown",
   "metadata": {},
   "source": [
    "We can change the CID to our own preference to download images"
   ]
  },
  {
   "cell_type": "code",
   "execution_count": 18,
   "metadata": {},
   "outputs": [],
   "source": [
    "!./image_download 2734162"
   ]
  },
  {
   "cell_type": "markdown",
   "metadata": {
    "id": "d-cxd3L61Yn2"
   },
   "source": [
    "### 3. PubChem Similarity Search"
   ]
  },
  {
   "cell_type": "markdown",
   "metadata": {
    "id": "NSFhDtZw1Yn3"
   },
   "source": [
    "#### Performs a similarity search and returns the CID list"
   ]
  },
  {
   "cell_type": "code",
   "execution_count": 19,
   "metadata": {},
   "outputs": [
    {
     "name": "stdout",
     "output_type": "stream",
     "text": [
      "/home/chgomes@student.ua-net.ua.edu/Desktop/yaz_C/Pub_Chem_Project/Pub_Chem\n"
     ]
    }
   ],
   "source": [
    "%cd .."
   ]
  },
  {
   "cell_type": "code",
   "execution_count": 20,
   "metadata": {},
   "outputs": [],
   "source": [
    "!mkdir Similarity"
   ]
  },
  {
   "cell_type": "code",
   "execution_count": 21,
   "metadata": {},
   "outputs": [
    {
     "name": "stdout",
     "output_type": "stream",
     "text": [
      "/home/chgomes@student.ua-net.ua.edu/Desktop/yaz_C/Pub_Chem_Project/Pub_Chem/Similarity\n"
     ]
    }
   ],
   "source": [
    "%cd Similarity"
   ]
  },
  {
   "cell_type": "code",
   "execution_count": 22,
   "metadata": {},
   "outputs": [
    {
     "name": "stdout",
     "output_type": "stream",
     "text": [
      "Writing makefile\n"
     ]
    }
   ],
   "source": [
    "%%file makefile\n",
    "\n",
    "#sets the variable CC to gcc, which is used to build the program\n",
    "CC=gcc\n",
    "\n",
    "#enable debugging information and enable all compiler warnings\n",
    "CFLAGS=-g -Wall\n",
    "\n",
    "#sets the bin variable as the name of the binary file we are creating\n",
    "BIN=similarity_search\n",
    "\n",
    "#creates the binary file with the name we put\n",
    "all: $(BIN)\n",
    "\n",
    "#maps any file ending in .c to a binary executable. \n",
    "#\"$<\" represents the .c file and \"$@\" represents the target binary executable\n",
    "%: %.c\n",
    "\n",
    "#compiles the .c file using the gcc compiler with the CFLAGS and links \n",
    "#resulting binary with the CURL library\n",
    "\t$(CC) $(CFLAGS) $< -o $@ -lcurl\n",
    "\n",
    "#clean target which removes specific files\n",
    "clean:\n",
    "\n",
    "#removes the binary file and an \".dSYM\" (debug symbols for debugging) directories\n",
    "#the RM command used -r to remove directories and -f to force delete\n",
    "\t$(RM) -rf $(BIN) *.dSYM\n"
   ]
  },
  {
   "cell_type": "code",
   "execution_count": 23,
   "metadata": {},
   "outputs": [
    {
     "name": "stdout",
     "output_type": "stream",
     "text": [
      "Writing similarity_search.c\n"
     ]
    }
   ],
   "source": [
    "%%file similarity_search.c\n",
    "\n",
    "#include <curl/curl.h>\n",
    "#include <stdio.h>\n",
    "#include <stdlib.h>\n",
    "#include <string.h>\n",
    "#include <stdbool.h>\n",
    "\n",
    "//Performs a similarity search with results (CID) in a .txt file\n",
    "\n",
    "\n",
    "//Retrieves the search result and outputs to a .txt file\n",
    "bool similarity_search_file(char* url, char name[])                                                           \n",
    "{\n",
    "    //combines the name and the .txt and creates the following file\n",
    "    strcat(name, \".txt\");\n",
    "    FILE* fp = fopen(name, \"wb\");\n",
    "\n",
    "    //if file is not created abort the system                                                                   \n",
    "    if (!fp)\n",
    "    {                                                                                                \n",
    "        printf(\"!!! Failed to create file on the disk\\n\");\n",
    "        return false;\n",
    "    }\n",
    "\n",
    "    //initializing the curl connection (http request)\n",
    "    CURL* curl = curl_easy_init();                                                                 \n",
    "    \n",
    "    //if initialization does not work then error\n",
    "    if (!curl){                                                                                    \n",
    "        fprintf(stderr, \"init failed\\n\");\n",
    "        return EXIT_FAILURE;\n",
    "    }\n",
    "\n",
    "    //sets the url to which the HTTP request will be sent to\n",
    "    //first parameter is for the initialized curl HTTP request, second for the URL option to be set, and third for the URL to be set    \n",
    "    curl_easy_setopt(curl, CURLOPT_URL, url);\n",
    "\n",
    "    //sets the data pointer for writing the response body of the HTTP request\n",
    "    //The third parameter is a pointer to the file where the response data will be written.\n",
    "    curl_easy_setopt(curl, CURLOPT_WRITEDATA, fp);\n",
    "\n",
    "    //Perform an HTTP request\n",
    "    CURLcode rc = curl_easy_perform(curl);\n",
    "\n",
    "    //if request is unsuccessful then abort                                                           \n",
    "    if (rc)\n",
    "    {\n",
    "        printf(\"!!! Failed to download: %s\\n\", url);\n",
    "        return false;\n",
    "    }\n",
    "\n",
    "    //cleans up allocated resources\n",
    "    curl_easy_cleanup(curl);                                                                         \n",
    "\n",
    "    //Avoids memory leaks by closing file pointer                                                                                                   \n",
    "    fclose(fp);                                                                                          \n",
    "    return true;\n",
    "}\n",
    "\n",
    "//Retrieves the search result and outputs to stdout\n",
    "bool similarity_search(char* url)                                                       \n",
    "{\n",
    "    //initializing the curl connection (http request)\n",
    "    CURL* curl = curl_easy_init();                                                                 \n",
    "    \n",
    "    //if initialization does not work then error\n",
    "    if (!curl){                                                                                    \n",
    "        fprintf(stderr, \"init failed\\n\");\n",
    "        return EXIT_FAILURE;\n",
    "    }\n",
    "    \n",
    "    //sets the url to which the HTTP request will be sent to\n",
    "    //first parameter is for the initialized curl HTTP request, second for the URL option to be set, and third for the URL to be set\n",
    "    curl_easy_setopt(curl, CURLOPT_URL, url);\n",
    "\n",
    "    //Perform an HTTP rquest\n",
    "    CURLcode result = curl_easy_perform(curl);\n",
    "    \n",
    "    //if result is not retrieved then output error\n",
    "    if (result != CURLE_OK){                                                                            \n",
    "        fprintf(stderr, \"download problem: %s\\n\", curl_easy_strerror(result));\n",
    "    }\n",
    "\n",
    "    //cleans up allocated resources\n",
    "    curl_easy_cleanup(curl);                                                                                                                                                                \n",
    "    return true;\n",
    "}\n",
    "\n",
    "int main(int argc, char* argv[])\n",
    "{\n",
    "    //if arguments are lower than 2 then error\n",
    "    if (argc < 2){                                                                                        \n",
    "        printf(\"Error. Please try again correctly.\\n\");\n",
    "        return -1;\n",
    "    }\n",
    "\n",
    "    //bits of data required for the API search\n",
    "    char api[] = \"https://pubchem.ncbi.nlm.nih.gov/rest/pug/compound/\";\n",
    "    char search_type[] = \"fastsimilarity_2d/cid/\";\n",
    "    char url[1000];\n",
    "    char ending[] = \"/cids/JSON?Threshold=95\";\n",
    "\n",
    "    //combines all the bits together to create the final URL\n",
    "    sprintf(url, \"%s%s%s%s\", api, search_type, argv[1], ending);                                           \n",
    "\n",
    "    //checks if conditions match to output to stdout\n",
    "    if ((argc==2)){                                                                           \n",
    "\n",
    "        /*condition to check whether the api request was fulfilled\n",
    "          and downloaded*/\n",
    "        if (!similarity_search(url))\n",
    "        {\n",
    "            printf(\"!! Failed to retrieve data\\n\");\n",
    "            return -1;\n",
    "        }                                           \n",
    "    \n",
    "    }\n",
    "\n",
    "    //checks if conditions match to output to the default (.txt) file\n",
    "    else if ((argc==3)&&(strcmp(argv[2],\"-o\")==0)){                                                     \n",
    "\n",
    "        /*condition to check whether the api request was fulfilled\n",
    "          and downloaded to the file*/\n",
    "        if(!similarity_search_file(url, argv[1])){\n",
    "            printf(\"!! Failed to download file \\n\");\n",
    "            return -1;\n",
    "        }\n",
    "    \n",
    "    }\n",
    "\n",
    "    return 0;\n",
    "}"
   ]
  },
  {
   "cell_type": "code",
   "execution_count": 24,
   "metadata": {},
   "outputs": [
    {
     "name": "stdout",
     "output_type": "stream",
     "text": [
      "gcc -g -Wall similarity_search.c -o similarity_search -lcurl\n"
     ]
    }
   ],
   "source": [
    "!make"
   ]
  },
  {
   "cell_type": "markdown",
   "metadata": {
    "id": "kTYFyUDt1Yn8"
   },
   "source": [
    "We will use the PubChem API to perform a Fingerprint Tanimoto Similarity Search (SS).\n",
    "\n",
    "(2D Tanimoto threshold 95% to 1-Butyl-3-methyl-imidazolium; CID = 2734162)"
   ]
  },
  {
   "cell_type": "markdown",
   "metadata": {},
   "source": [
    "We can change the CID and output a list of similar CIDs"
   ]
  },
  {
   "cell_type": "code",
   "execution_count": 25,
   "metadata": {},
   "outputs": [
    {
     "name": "stdout",
     "output_type": "stream",
     "text": [
      "\u001b[1;39m[\n",
      "  \u001b[0;39m2734161\u001b[0m\u001b[1;39m,\n",
      "  \u001b[0;39m61347\u001b[0m\u001b[1;39m,\n",
      "  \u001b[0;39m529334\u001b[0m\u001b[1;39m,\n",
      "  \u001b[0;39m304622\u001b[0m\u001b[1;39m,\n",
      "  \u001b[0;39m118785\u001b[0m\u001b[1;39m\n",
      "\u001b[1;39m]\u001b[0m\n"
     ]
    }
   ],
   "source": [
    "!./similarity_search 2734162 | jq \".IdentifierList.CID[0:5]\""
   ]
  },
  {
   "cell_type": "markdown",
   "metadata": {},
   "source": [
    "We can output the list of CID's in a .txt file"
   ]
  },
  {
   "cell_type": "code",
   "execution_count": 26,
   "metadata": {},
   "outputs": [],
   "source": [
    "!./similarity_search 2734162 -o"
   ]
  },
  {
   "cell_type": "markdown",
   "metadata": {
    "id": "d-cxd3L61Yn2"
   },
   "source": [
    "### 4. PubChem SMARTS Search"
   ]
  },
  {
   "cell_type": "markdown",
   "metadata": {
    "id": "NSFhDtZw1Yn3"
   },
   "source": [
    "#### Performs a similarity search and returns the CID list"
   ]
  },
  {
   "cell_type": "code",
   "execution_count": 29,
   "metadata": {},
   "outputs": [
    {
     "name": "stdout",
     "output_type": "stream",
     "text": [
      "/home/chgomes@student.ua-net.ua.edu/Desktop/yaz_C/Pub_Chem_Project\n"
     ]
    }
   ],
   "source": [
    "%cd .."
   ]
  },
  {
   "cell_type": "code",
   "execution_count": 30,
   "metadata": {},
   "outputs": [],
   "source": [
    "!mkdir Smarts"
   ]
  },
  {
   "cell_type": "code",
   "execution_count": 31,
   "metadata": {},
   "outputs": [
    {
     "name": "stdout",
     "output_type": "stream",
     "text": [
      "/home/chgomes@student.ua-net.ua.edu/Desktop/yaz_C/Pub_Chem_Project/Smarts\n"
     ]
    }
   ],
   "source": [
    "%cd Smarts"
   ]
  },
  {
   "cell_type": "code",
   "execution_count": 32,
   "metadata": {},
   "outputs": [
    {
     "name": "stdout",
     "output_type": "stream",
     "text": [
      "Writing makefile\n"
     ]
    }
   ],
   "source": [
    "%%file makefile\n",
    "\n",
    "#sets the variable CC to gcc, which is used to build the program\n",
    "CC=gcc\n",
    "\n",
    "#enable debugging information and enable all compiler warnings\n",
    "CFLAGS=-g -Wall\n",
    "\n",
    "#sets the bin variable as the name of the binary file we are creating\n",
    "BIN=smarts_search\n",
    "\n",
    "#creates the binary file with the name we put\n",
    "all: $(BIN)\n",
    "\n",
    "#maps any file ending in .c to a binary executable. \n",
    "#\"$<\" represents the .c file and \"$@\" represents the target binary executable\n",
    "%: %.c\n",
    "\n",
    "#compiles the .c file using the gcc compiler with the CFLAGS and links \n",
    "#resulting binary with the CURL library\n",
    "\t$(CC) $(CFLAGS) $< -o $@ -lcurl\n",
    "\n",
    "#clean target which removes specific files\n",
    "clean:\n",
    "\n",
    "#removes the binary file and an \".dSYM\" (debug symbols for debugging) directories\n",
    "#the RM command used -r to remove directories and -f to force delete\n",
    "\t$(RM) -rf $(BIN) *.dSYM\n"
   ]
  },
  {
   "cell_type": "code",
   "execution_count": 61,
   "metadata": {},
   "outputs": [
    {
     "name": "stdout",
     "output_type": "stream",
     "text": [
      "Overwriting smarts_search.c\n"
     ]
    }
   ],
   "source": [
    "%%file smarts_search.c\n",
    "\n",
    "#include <curl/curl.h>\n",
    "#include <stdio.h>\n",
    "#include <stdlib.h>\n",
    "#include <string.h>\n",
    "#include <stdbool.h>\n",
    "\n",
    "// The following program outputs all the smarts query in a combined list (CID) and in the stdout or a custom/default .txt file\n",
    "\n",
    "\n",
    "//Retrieves the search result and outputs it to a file\n",
    "bool smarts_search_file(char* url, char name[])                                                           \n",
    "{\n",
    "    //combines the name and the .txt and creates the following file\n",
    "    //strcat(name, \".txt\");\n",
    "    FILE* fp = fopen(name, \"wb\");\n",
    "\n",
    "    //if file is not created abort the system                                                                   \n",
    "    if (!fp)\n",
    "    {                                                                                               \n",
    "        printf(\"!!! Failed to create file on the disk\\n\");\n",
    "        return false;\n",
    "    }\n",
    "\n",
    "    //initializing the curl connection (http request)\n",
    "    CURL* curl = curl_easy_init();                                                                 \n",
    "    \n",
    "    //if initialization does not work then error\n",
    "    if (!curl){                                                                                   \n",
    "        fprintf(stderr, \"init failed\\n\");\n",
    "        return EXIT_FAILURE;\n",
    "    }\n",
    "\n",
    "    //sets the url to which the HTTP request will be sent to\n",
    "    //first parameter is for the initialized curl HTTP request, second for the URL option to be set, and third for the URL to be set    \n",
    "    curl_easy_setopt(curl, CURLOPT_URL, url);\n",
    "\n",
    "    //sets the data pointer for writing the response body of the HTTP request\n",
    "    //The third parameter is a pointer to the file where the response data will be written.\n",
    "    curl_easy_setopt(curl, CURLOPT_WRITEDATA, fp);\n",
    "\n",
    "    //Perform an HTTP request\n",
    "    CURLcode rc = curl_easy_perform(curl);\n",
    "\n",
    "    //if request is unsuccessful then abort                                                              \n",
    "    if (rc)\n",
    "    {\n",
    "        printf(\"!!! Failed to download: %s\\n\", url);\n",
    "        return false;\n",
    "    }\n",
    "\n",
    "    //cleans up allocated resources\n",
    "    curl_easy_cleanup(curl);                                                                         \n",
    "\n",
    "    //Avoids memory leaks by closing file pointer                                                                                                      \n",
    "    fclose(fp);                                                                                          \n",
    "    return true;\n",
    "}\n",
    "\n",
    "\n",
    "//Retrieves the search result and outputs to stdout\n",
    "bool smarts_search(char* url)                                                       \n",
    "{\n",
    "    //initializing the curl connection (http request)\n",
    "    CURL* curl = curl_easy_init();                                                                 \n",
    "    \n",
    "    //if initialization does not work then error\n",
    "    if (!curl){                                                                                    \n",
    "        fprintf(stderr, \"init failed\\n\");\n",
    "        return EXIT_FAILURE;\n",
    "    }\n",
    "    \n",
    "    //sets the url to which the HTTP request will be sent to\n",
    "    //first parameter is for the initialized curl HTTP request, second for the URL option to be set, and third for the URL to be set\n",
    "    curl_easy_setopt(curl, CURLOPT_URL, url);\n",
    "\n",
    "    //Perform an HTTP request\n",
    "    CURLcode result = curl_easy_perform(curl);\n",
    "    \n",
    "    //if result is not retrieved then output error\n",
    "    if (result != CURLE_OK){                                                                            \n",
    "        return false;\n",
    "    }\n",
    "\n",
    "    //cleans up allocated resources\n",
    "    curl_easy_cleanup(curl);                                                                                                                                                                 \n",
    "    return true;\n",
    "}\n",
    "\n",
    "int main(int argc, char* argv[])\n",
    "{\n",
    "    //if no argument options are provided please return an error\n",
    "    if (argc < 2){\n",
    "        printf(\"Error. Please try again correctly.\\n\");\n",
    "        return 0;\n",
    "    }\n",
    "\n",
    "    //calls the libcurl library to initialize the HTTP request for encoding\n",
    "    CURL *curl_en = curl_easy_init();                                                          \n",
    "\n",
    "    //if initialization does not work then error\n",
    "    if (!curl_en){                                                                             \n",
    "        fprintf(stderr, \"init failed\\n\");\n",
    "        return EXIT_FAILURE;\n",
    "    }\n",
    "    \n",
    "    //checks if conditions match to output to stdout\n",
    "    if ((argc == 2)){\n",
    "        \n",
    "        //checks if the initialization of the HTTP request works\n",
    "        if (curl_en){\n",
    "        \n",
    "        //bits of data required for the API search \n",
    "        char api[] = \"https://pubchem.ncbi.nlm.nih.gov/rest/pug/compound/\";             \n",
    "        char search_type[] = \"fastsubstructure/smarts/\";\n",
    "        char url[1000];\n",
    "        char ending[] = \"/cids/TXT\";\n",
    "\n",
    "        //function which encodes the query\n",
    "        char *encoded_smarts = curl_easy_escape(curl_en, argv[1], 0);                          \n",
    "\n",
    "        //combines the bis to form a complete url\n",
    "        sprintf(url, \"%s%s%s%s\", api, search_type, encoded_smarts, ending);                 \n",
    "\n",
    "        /*condition to check whether the api request was fulfilled\n",
    "          and downloaded*/\n",
    "        if (!smarts_search(url))                                                  \n",
    "            {                                            \n",
    "            printf(\"!! Failed to download file \\n\");\n",
    "            return -1;\n",
    "            }\n",
    "\n",
    "        curl_free(encoded_smarts);\n",
    "        }\n",
    "    }\n",
    "    \n",
    "    \n",
    "    \n",
    "    //checks if conditions match to output to the default (output.txt) file\n",
    "    else if (((argc==3) && (strcmp(argv[2],\"-o\")==0))){\n",
    "        \n",
    "        //checks if the initialization of the HTTP request works                              \n",
    "        if (curl_en){        \n",
    "\n",
    "        //bits of data required for the API search                                                                 \n",
    "        char api[] = \"https://pubchem.ncbi.nlm.nih.gov/rest/pug/compound/\";             \n",
    "        char search_type[] = \"fastsubstructure/smarts/\";\n",
    "        char url[1000];\n",
    "        char ending[] = \"/cids/TXT\";\n",
    "\n",
    "        //function which encodes the query\n",
    "        char *encoded_smarts = curl_easy_escape(curl_en, argv[1], 0);                          \n",
    "        \n",
    "        //combines the bits to form a complete url\n",
    "        sprintf(url, \"%s%s%s%s\", api, search_type, encoded_smarts, ending);                 \n",
    "        char filename[] = \"output\";\n",
    "\n",
    "        /*condition to check whether the api request was fulfilled\n",
    "          and downloaded to a default file*/\n",
    "        if (!smarts_search_file(url, filename))                                                  \n",
    "            { \n",
    "            //and successfully put into the newly created .txt file                                                                                  \n",
    "            printf(\"!! Failed to download file \\n\");\n",
    "            return -1;\n",
    "            }\n",
    "\n",
    "        curl_free(encoded_smarts);\n",
    "        }\n",
    "    }\n",
    "\n",
    "    //checks if conditions match to output to the custom (.txt) file\n",
    "    else if ((argc==4)&&(strcmp(argv[2],\"-o\")==0)){\n",
    "\n",
    "        //checks if the initialization of the HTTP request works                                        \n",
    "        if (curl_en){    \n",
    "\n",
    "        //bits of data required for the API search                                                                       \n",
    "        char api[] = \"https://pubchem.ncbi.nlm.nih.gov/rest/pug/compound/\";\n",
    "        char search_type[] = \"fastsubstructure/smarts/\";\n",
    "        char url[1000];\n",
    "        char ending[] = \"/cids/TXT\";\n",
    "        char *encoded_smarts = curl_easy_escape(curl_en, argv[1], 0);\n",
    "\n",
    "        //combines all the bits together to create the final URL\n",
    "        sprintf(url, \"%s%s%s%s\", api, search_type, encoded_smarts, ending);                 \n",
    "\n",
    "        /*condition to check whether the api request was fulfilled\n",
    "          and downloaded to a default file*/\n",
    "        if (!smarts_search_file(url, argv[3]))\n",
    "            {\n",
    "            printf(\"!! Failed to download file \\n\");\n",
    "            return -1;\n",
    "            }\n",
    "\n",
    "        //frees the memory occupied for encoded url\n",
    "        curl_free(encoded_smarts);      \n",
    "        }\n",
    "    }\n",
    "    \n",
    "    //frees the memory for the curl_en connection\n",
    "    curl_easy_cleanup(curl_en);                                                                \n",
    "\n",
    "    return 0;\n",
    "}"
   ]
  },
  {
   "cell_type": "code",
   "execution_count": 62,
   "metadata": {},
   "outputs": [
    {
     "name": "stdout",
     "output_type": "stream",
     "text": [
      "gcc -g -Wall smarts_search.c -o smarts_search -lcurl\n"
     ]
    }
   ],
   "source": [
    "!make"
   ]
  },
  {
   "cell_type": "markdown",
   "metadata": {},
   "source": [
    "We can input the custom query and output it to a custom file with the desired number of CIDs"
   ]
  },
  {
   "cell_type": "code",
   "execution_count": 63,
   "metadata": {},
   "outputs": [
    {
     "name": "stdout",
     "output_type": "stream",
     "text": [
      "16051930\n",
      "12598310\n",
      "6540478\n",
      "5702096\n",
      "176870\n",
      "40973\n",
      "37083\n",
      "14687\n",
      "13109\n",
      "6291\n"
     ]
    }
   ],
   "source": [
    "!./smarts_search \"CCCCCCC#C\" | head -n10"
   ]
  },
  {
   "cell_type": "markdown",
   "metadata": {},
   "source": [
    "We can input the custom query and output them to a default file"
   ]
  },
  {
   "cell_type": "code",
   "execution_count": 64,
   "metadata": {},
   "outputs": [],
   "source": [
    "!./smarts_search \"[CR0H2][n+]1[cH1][cH1]n([CR0H1]=[CR0H2])[cH1]1\" -o test1"
   ]
  },
  {
   "cell_type": "markdown",
   "metadata": {},
   "source": [
    "We can print the first n lines"
   ]
  },
  {
   "cell_type": "code",
   "execution_count": 65,
   "metadata": {},
   "outputs": [
    {
     "name": "stdout",
     "output_type": "stream",
     "text": [
      "121235111\n",
      "132274871\n",
      "86657882\n",
      "46178576\n",
      "139254006\n"
     ]
    }
   ],
   "source": [
    "!head -n 5 test1"
   ]
  }
 ],
 "metadata": {
  "kernelspec": {
   "display_name": "Python 3.10.6 64-bit",
   "language": "python",
   "name": "python3"
  },
  "language_info": {
   "codemirror_mode": {
    "name": "ipython",
    "version": 3
   },
   "file_extension": ".py",
   "mimetype": "text/x-python",
   "name": "python",
   "nbconvert_exporter": "python",
   "pygments_lexer": "ipython3",
   "version": "3.10.6"
  },
  "orig_nbformat": 4,
  "vscode": {
   "interpreter": {
    "hash": "916dbcbb3f70747c44a77c7bcd40155683ae19c65e1c03b4aa3499c5328201f1"
   }
  }
 },
 "nbformat": 4,
 "nbformat_minor": 2
}
